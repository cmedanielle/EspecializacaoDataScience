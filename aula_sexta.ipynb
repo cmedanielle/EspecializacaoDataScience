{
  "nbformat": 4,
  "nbformat_minor": 0,
  "metadata": {
    "colab": {
      "name": "aula_sexta.ipynb",
      "provenance": [],
      "include_colab_link": true
    },
    "kernelspec": {
      "name": "python3",
      "display_name": "Python 3"
    }
  },
  "cells": [
    {
      "cell_type": "markdown",
      "metadata": {
        "id": "view-in-github",
        "colab_type": "text"
      },
      "source": [
        "<a href=\"https://colab.research.google.com/github/cmedanielle/EspecializacaoDataScience/blob/master/aula_sexta.ipynb\" target=\"_parent\"><img src=\"https://colab.research.google.com/assets/colab-badge.svg\" alt=\"Open In Colab\"/></a>"
      ]
    },
    {
      "cell_type": "markdown",
      "metadata": {
        "id": "t0WBBXFjIV4K",
        "colab_type": "text"
      },
      "source": [
        "# **DISCIPLINA - ESTATÍSTICA (SEXTA)**"
      ]
    },
    {
      "cell_type": "markdown",
      "metadata": {
        "id": "yjb9yEWgIoIj",
        "colab_type": "text"
      },
      "source": [
        "## 1. REVISÃO - DISTRIBUIÇÃO DE FREQUÊNCIA E MEDIDAS ESTATÍSTICAS"
      ]
    },
    {
      "cell_type": "markdown",
      "metadata": {
        "id": "nDSfxkR1I8fs",
        "colab_type": "text"
      },
      "source": [
        "### 1.1. Conhecendo nosso dataset"
      ]
    },
    {
      "cell_type": "code",
      "metadata": {
        "id": "UNKbtc8OImO-",
        "colab_type": "code",
        "colab": {}
      },
      "source": [
        ""
      ],
      "execution_count": 0,
      "outputs": []
    },
    {
      "cell_type": "markdown",
      "metadata": {
        "id": "lQeRo2bjJJyr",
        "colab_type": "text"
      },
      "source": [
        "### 1.2. Revisando medidas de distribuição de frequência"
      ]
    },
    {
      "cell_type": "code",
      "metadata": {
        "id": "LhmFR6r2JOt2",
        "colab_type": "code",
        "colab": {}
      },
      "source": [
        ""
      ],
      "execution_count": 0,
      "outputs": []
    },
    {
      "cell_type": "markdown",
      "metadata": {
        "id": "2Hup1-2SJPat",
        "colab_type": "text"
      },
      "source": [
        "### 1.3. Revisando Medidas Estatísticas"
      ]
    },
    {
      "cell_type": "code",
      "metadata": {
        "id": "rzrjLdyoJTeB",
        "colab_type": "code",
        "colab": {}
      },
      "source": [
        ""
      ],
      "execution_count": 0,
      "outputs": []
    },
    {
      "cell_type": "markdown",
      "metadata": {
        "id": "EVT1uSHXJUX7",
        "colab_type": "text"
      },
      "source": [
        "### 1.4. Plotando alguns gráficos..."
      ]
    },
    {
      "cell_type": "code",
      "metadata": {
        "id": "rQpe5PBXJ6JL",
        "colab_type": "code",
        "colab": {}
      },
      "source": [
        ""
      ],
      "execution_count": 0,
      "outputs": []
    },
    {
      "cell_type": "markdown",
      "metadata": {
        "id": "v7E-KbPDJ_3D",
        "colab_type": "text"
      },
      "source": [
        "## 2. TESTES DE HIPÓTESES"
      ]
    },
    {
      "cell_type": "code",
      "metadata": {
        "id": "sbLy0SLHKDC_",
        "colab_type": "code",
        "colab": {}
      },
      "source": [
        ""
      ],
      "execution_count": 0,
      "outputs": []
    },
    {
      "cell_type": "markdown",
      "metadata": {
        "id": "7pqRnoWUKDtw",
        "colab_type": "text"
      },
      "source": [
        "## 3. TÉCNICAS DE REAMOSTRAGEM"
      ]
    },
    {
      "cell_type": "code",
      "metadata": {
        "id": "sMdVAfK_KG9V",
        "colab_type": "code",
        "colab": {}
      },
      "source": [
        ""
      ],
      "execution_count": 0,
      "outputs": []
    },
    {
      "cell_type": "markdown",
      "metadata": {
        "id": "RBFnZ97wKJeL",
        "colab_type": "text"
      },
      "source": [
        "## 4. SIGNIFICÂNCIA ESTATÍSTICA"
      ]
    },
    {
      "cell_type": "code",
      "metadata": {
        "id": "47_r6r1dKM7G",
        "colab_type": "code",
        "colab": {}
      },
      "source": [
        ""
      ],
      "execution_count": 0,
      "outputs": []
    }
  ]
}