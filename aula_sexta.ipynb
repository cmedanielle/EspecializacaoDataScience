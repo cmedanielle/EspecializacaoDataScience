{
  "nbformat": 4,
  "nbformat_minor": 0,
  "metadata": {
    "colab": {
      "name": "aula_sexta.ipynb",
      "provenance": [],
      "collapsed_sections": [
        "nDSfxkR1I8fs",
        "m8zNDLI_zzC5",
        "0J1zByBU0D1Z",
        "2Hup1-2SJPat",
        "Jk1DQenbuDwb",
        "P5XXrMe3jNri",
        "CS13ov1glwfT",
        "vg0pStthpGt1"
      ],
      "include_colab_link": true
    },
    "kernelspec": {
      "name": "python3",
      "display_name": "Python 3"
    }
  },
  "cells": [
    {
      "cell_type": "markdown",
      "metadata": {
        "id": "view-in-github",
        "colab_type": "text"
      },
      "source": [
        "<a href=\"https://colab.research.google.com/github/cmedanielle/EspecializacaoDataScience/blob/master/aula_sexta.ipynb\" target=\"_parent\"><img src=\"https://colab.research.google.com/assets/colab-badge.svg\" alt=\"Open In Colab\"/></a>"
      ]
    },
    {
      "cell_type": "markdown",
      "metadata": {
        "id": "t0WBBXFjIV4K",
        "colab_type": "text"
      },
      "source": [
        "# **DISCIPLINA - ESTATÍSTICA (SEXTA)**"
      ]
    },
    {
      "cell_type": "markdown",
      "metadata": {
        "id": "yjb9yEWgIoIj",
        "colab_type": "text"
      },
      "source": [
        "## 1. REVISÃO - DISTRIBUIÇÃO DE FREQUÊNCIA E MEDIDAS ESTATÍSTICAS"
      ]
    },
    {
      "cell_type": "markdown",
      "metadata": {
        "id": "nDSfxkR1I8fs",
        "colab_type": "text"
      },
      "source": [
        "### 1.1. Conhecendo nosso dataset"
      ]
    },
    {
      "cell_type": "markdown",
      "metadata": {
        "id": "mO9YZWbSzsjt",
        "colab_type": "text"
      },
      "source": [
        "**Pesquisa Nacional por Amostra de Domicílios (2015)**\n",
        "\n",
        "A Pesquisa Nacional por Amostra de Domicílios - PNAD, de periodicidade anual, foi encerrada em 2016, com a divulgação das informações referentes a 2015. Planejada para produzir resultados para Brasil, Grandes Regiões, Unidades da Federação e nove Regiões Metropolitanas (Belém, Fortaleza, Recife, Salvador, Belo Horizonte, Rio de Janeiro, São Paulo, Curitiba e Porto Alegre), ela pesquisava, de forma permanente, características gerais da população, educação, trabalho, rendimento e habitação, e, com periodicidade variável, outros temas, de acordo com as necessidades de informação para o País, tendo como unidade de investigação o domicílio. A PNAD foi substituída, com metodologia atualizada, pela Pesquisa Nacional por Amostra de Domicílios Contínua - PNAD Contínua,  que propicia uma cobertura territorial mais abrangente e disponibiliza informações conjunturais trimestrais sobre a força de trabalho em âmbito nacional."
      ]
    },
    {
      "cell_type": "markdown",
      "metadata": {
        "id": "Xtumyah8PYE8",
        "colab_type": "text"
      },
      "source": [
        "\n",
        "\n",
        "https://www.ibge.gov.br/estatisticas/sociais/populacao/9127-pesquisa-nacional-por-amostra-de-domicilios.html?=&t=microdados"
      ]
    },
    {
      "cell_type": "markdown",
      "metadata": {
        "id": "m8zNDLI_zzC5",
        "colab_type": "text"
      },
      "source": [
        "### VARIÁVEIS UTILIZADAS\n",
        "\n",
        "Renda: Rendimento mensal do trabalho principal para pessoas de 10 anos ou mais de idade.\n",
        "\n",
        "Idade: Idade do morador na data de referência em anos.\n",
        "\n",
        "Altura: Altura do morador em metros.\n",
        "\n",
        "Sexo: 0 - Masculino| 1 - Feminino\n",
        "\n",
        "*Observações:*\n",
        "Foram eliminados os registros onde a *Renda* era inválida ou inexistente e foram considerados apenas os registros das *Pessoas de Referência* de cada domicílio (responsável pelo domicílio).\n",
        "O dataset é um subconjunto extraído do conjunto de dados tratados pelo prof. Rodrigo Fernando Dias."
      ]
    },
    {
      "cell_type": "code",
      "metadata": {
        "id": "UNKbtc8OImO-",
        "colab_type": "code",
        "colab": {}
      },
      "source": [
        "import pandas as pd, numpy as np, scipy as sp, matplotlib as mp"
      ],
      "execution_count": 0,
      "outputs": []
    },
    {
      "cell_type": "code",
      "metadata": {
        "id": "LhmFR6r2JOt2",
        "colab_type": "code",
        "colab": {}
      },
      "source": [
        "dados = pd.read_csv('dados.csv')"
      ],
      "execution_count": 0,
      "outputs": []
    },
    {
      "cell_type": "code",
      "metadata": {
        "id": "VZsyGLvGQNRd",
        "colab_type": "code",
        "colab": {}
      },
      "source": [
        "dados.head()"
      ],
      "execution_count": 0,
      "outputs": []
    },
    {
      "cell_type": "code",
      "metadata": {
        "id": "tMvKSQ35aHZz",
        "colab_type": "code",
        "colab": {}
      },
      "source": [
        "dados.shape[0]"
      ],
      "execution_count": 0,
      "outputs": []
    },
    {
      "cell_type": "markdown",
      "metadata": {
        "id": "0J1zByBU0D1Z",
        "colab_type": "text"
      },
      "source": [
        "### 1.2. Revisando Tipos de Variáveis"
      ]
    },
    {
      "cell_type": "markdown",
      "metadata": {
        "id": "ce6OvaSvEVzC",
        "colab_type": "text"
      },
      "source": [
        "**Variáveis podem ser quantitatias e qualitativas:**\n",
        "\n",
        "\n",
        "*   Variáveis quantitativas podem ser discretas ou contínuas;\n",
        "*   Variáveis qualitativas (ou categóricas) podem ser ordinais ou nominais"
      ]
    },
    {
      "cell_type": "code",
      "metadata": {
        "id": "OnRZtwbn1pJo",
        "colab_type": "code",
        "colab": {}
      },
      "source": [
        "dados.Sexo.min(), dados.Sexo.max()"
      ],
      "execution_count": 0,
      "outputs": []
    },
    {
      "cell_type": "code",
      "metadata": {
        "id": "UrD_MHxP1WLs",
        "colab_type": "code",
        "colab": {}
      },
      "source": [
        "frequencia = dados.Sexo.value_counts()\n",
        "frequencia"
      ],
      "execution_count": 0,
      "outputs": []
    },
    {
      "cell_type": "code",
      "metadata": {
        "id": "qdh2fwVR0fOF",
        "colab_type": "code",
        "colab": {}
      },
      "source": [
        "percentual = dados.Sexo.value_counts(normalize = True) * 100\n",
        "percentual"
      ],
      "execution_count": 0,
      "outputs": []
    },
    {
      "cell_type": "code",
      "metadata": {
        "id": "1YfGDEWW0MG5",
        "colab_type": "code",
        "colab": {}
      },
      "source": [
        "dist_freq_qualitativas = pd.DataFrame({'Frequência ': frequencia, 'Porcentagem (%) ': percentual})\n",
        "dist_freq_qualitativas.rename(index = {0: 'Masculino', 1: 'Feminino'}, inplace = True)\n",
        "dist_freq_qualitativas.rename_axis('Sexo', axis = 'columns', inplace = True)\n",
        "dist_freq_qualitativas"
      ],
      "execution_count": 0,
      "outputs": []
    },
    {
      "cell_type": "code",
      "metadata": {
        "id": "wj_a0bkO1wXI",
        "colab_type": "code",
        "colab": {}
      },
      "source": [
        "dados.Renda.min(), dados.Renda.max()"
      ],
      "execution_count": 0,
      "outputs": []
    },
    {
      "cell_type": "code",
      "metadata": {
        "id": "0SLG19tR0OsN",
        "colab_type": "code",
        "colab": {}
      },
      "source": [
        "frequencia = dados.Renda.value_counts()\n",
        "frequencia"
      ],
      "execution_count": 0,
      "outputs": []
    },
    {
      "cell_type": "code",
      "metadata": {
        "id": "Eu7ytHp31Ecn",
        "colab_type": "code",
        "colab": {}
      },
      "source": [
        "classes = [0, 1576, 3152, 7880, 15760, 200000]\n",
        "labels = ['E','D','C','B','A']"
      ],
      "execution_count": 0,
      "outputs": []
    },
    {
      "cell_type": "code",
      "metadata": {
        "id": "VFSlP2Wi2Tnj",
        "colab_type": "code",
        "colab": {}
      },
      "source": [
        "frequencia = pd.value_counts(pd.cut(x = dados.Renda, bins = classes, labels = labels, include_lowest = True))\n",
        "percentual = pd.value_counts(pd.cut(x = dados.Renda, bins = classes, labels = labels, include_lowest = True), normalize = True) * 100\n",
        "percentual"
      ],
      "execution_count": 0,
      "outputs": []
    },
    {
      "cell_type": "code",
      "metadata": {
        "id": "MI-0Hbyo2DQw",
        "colab_type": "code",
        "colab": {}
      },
      "source": [
        "dist_freq_qualitativas_quantitativa = pd.DataFrame({'Frequência': frequencia, 'Porcentagem (%)': percentual})\n",
        "dist_freq_qualitativas_quantitativa.sort_index(ascending = False, inplace = True)\n",
        "dist_freq_qualitativas_quantitativa"
      ],
      "execution_count": 0,
      "outputs": []
    },
    {
      "cell_type": "markdown",
      "metadata": {
        "id": "2Hup1-2SJPat",
        "colab_type": "text"
      },
      "source": [
        "### 1.3. Revisando algumas medidas estatísticas"
      ]
    },
    {
      "cell_type": "markdown",
      "metadata": {
        "id": "2NrxEmOAFG9u",
        "colab_type": "text"
      },
      "source": [
        "![alt text](https://s3.static.brasilescola.uol.com.br/img/2019/01/medidas-de-tendencia-be.jpeg)\n",
        "Fonte: Escolha Brasil (Uol)"
      ]
    },
    {
      "cell_type": "code",
      "metadata": {
        "id": "rzrjLdyoJTeB",
        "colab_type": "code",
        "colab": {}
      },
      "source": [
        "dados.Renda.mean(), dados.Renda.median(), dados.Renda.mode()[0]"
      ],
      "execution_count": 0,
      "outputs": []
    },
    {
      "cell_type": "markdown",
      "metadata": {
        "id": "Jc_-LYGIFP_6",
        "colab_type": "text"
      },
      "source": [
        "**Variância amostral:** mede a dispersão em torno da média (mas tem o inconveniente de ter a unidade do dado estudado ao quadrado!);\n",
        "\n"
      ]
    },
    {
      "cell_type": "code",
      "metadata": {
        "id": "a9YgNV4h3-6d",
        "colab_type": "code",
        "colab": {}
      },
      "source": [
        "dados.var()"
      ],
      "execution_count": 0,
      "outputs": []
    },
    {
      "cell_type": "markdown",
      "metadata": {
        "id": "3mFsJpdjGZPU",
        "colab_type": "text"
      },
      "source": [
        "**Desvio-Padrão amostral:** • mede a variação em torno da média (e é super usável, porque tem a mesma unidade dos dados originais!)\n",
        "\n",
        "IMPORTANTE: Um valor baixo de desvio padrão indica que os pontos dos dados tendem a estar próximos da média ou do valor esperado. Se ele for alto, então temos indícios de que os pontos dos dados estão espalhados por uma ampla gama de valores."
      ]
    },
    {
      "cell_type": "code",
      "metadata": {
        "id": "hMxQj4Ib3Z1Y",
        "colab_type": "code",
        "colab": {}
      },
      "source": [
        "dados.std()"
      ],
      "execution_count": 0,
      "outputs": []
    },
    {
      "cell_type": "code",
      "metadata": {
        "id": "rQpe5PBXJ6JL",
        "colab_type": "code",
        "colab": {
          "base_uri": "https://localhost:8080/",
          "height": 34
        },
        "outputId": "4352b347-de0c-41ee-fd8d-411c2b718999"
      },
      "source": [
        "dados.Altura.hist(bins = 50, figsize = (12,6))"
      ],
      "execution_count": 0,
      "outputs": [
        {
          "output_type": "execute_result",
          "data": {
            "text/plain": [
              "<matplotlib.axes._subplots.AxesSubplot at 0x7efbe1e6df60>"
            ]
          },
          "metadata": {
            "tags": []
          },
          "execution_count": 16
        }
      ]
    },
    {
      "cell_type": "markdown",
      "metadata": {
        "id": "d56cMZgm7jiZ",
        "colab_type": "text"
      },
      "source": [
        "## 2. SIGNIFICÂNCIA ESTATÍSTICA"
      ]
    },
    {
      "cell_type": "markdown",
      "metadata": {
        "id": "Jk1DQenbuDwb",
        "colab_type": "text"
      },
      "source": [
        "### 2.1. Nível de confiança x Nível de significância"
      ]
    },
    {
      "cell_type": "markdown",
      "metadata": {
        "id": "OV7WCXa86tDI",
        "colab_type": "text"
      },
      "source": [
        "**Nível de confiança ( 1−α )** - probabilidade de acerto da estimativa. Diz respeito ao grau de confiabilidade de que um valor de uma estimativa esteja dentro de um intervalo.\n",
        "\n",
        "**Nível de significância ( α )** - probabilidade de erro da estimativa."
      ]
    },
    {
      "cell_type": "markdown",
      "metadata": {
        "id": "JbgN9yIlB8m5",
        "colab_type": "text"
      },
      "source": [
        "![Significancia](https://upload.wikimedia.org/wikipedia/commons/0/01/ConfIntervNormalP.png)"
      ]
    },
    {
      "cell_type": "markdown",
      "metadata": {
        "id": "P5XXrMe3jNri",
        "colab_type": "text"
      },
      "source": [
        "### 2.2. Intervalos de confiança"
      ]
    },
    {
      "cell_type": "markdown",
      "metadata": {
        "id": "xbFCZZzg7355",
        "colab_type": "text"
      },
      "source": [
        "**INTERVALO DE CONFIANÇA PARA A MÉDIA DA POPULAÇÃO**"
      ]
    },
    {
      "cell_type": "markdown",
      "metadata": {
        "id": "qDSJuQIK7-pf",
        "colab_type": "text"
      },
      "source": [
        "*Com desvio padrão populacional conhecido*\n",
        "\n",
        "## $$\\mu = \\bar{x} \\pm z\\frac{\\sigma}{\\sqrt{n}}$$\n",
        "\n",
        "*Com desvio padrão populacional desconhecido*\n",
        "\n",
        "## $$\\mu = \\bar{x} \\pm z\\frac{s}{\\sqrt{n}}$$"
      ]
    },
    {
      "cell_type": "markdown",
      "metadata": {
        "id": "v7E-KbPDJ_3D",
        "colab_type": "text"
      },
      "source": [
        "## 2. TESTES DE HIPÓTESES"
      ]
    },
    {
      "cell_type": "markdown",
      "metadata": {
        "id": "CS13ov1glwfT",
        "colab_type": "text"
      },
      "source": [
        "### 2.2. Teste de normalidade"
      ]
    },
    {
      "cell_type": "code",
      "metadata": {
        "id": "5ZjxINq2n8RL",
        "colab_type": "code",
        "colab": {}
      },
      "source": [
        "from scipy.stats import normaltest"
      ],
      "execution_count": 0,
      "outputs": []
    },
    {
      "cell_type": "code",
      "metadata": {
        "id": "sbLy0SLHKDC_",
        "colab_type": "code",
        "colab": {}
      },
      "source": [
        "dados.Renda.hist(bins = 50)"
      ],
      "execution_count": 0,
      "outputs": []
    },
    {
      "cell_type": "code",
      "metadata": {
        "id": "Vwg-NotYmdl7",
        "colab_type": "code",
        "colab": {}
      },
      "source": [
        "significancia = 0.05"
      ],
      "execution_count": 0,
      "outputs": []
    },
    {
      "cell_type": "code",
      "metadata": {
        "id": "AJPE7vLznWHa",
        "colab_type": "code",
        "colab": {}
      },
      "source": [
        "dados.Renda.hist(bins = 50)"
      ],
      "execution_count": 0,
      "outputs": []
    },
    {
      "cell_type": "markdown",
      "metadata": {
        "id": "qaFKa5m88uJq",
        "colab_type": "text"
      },
      "source": [
        "OBs.: a função *normaltest* tem como base a hipótese nula $H_0$ de que a distribuição da amostra é normal."
      ]
    },
    {
      "cell_type": "code",
      "metadata": {
        "id": "E4mDmCvPmTKL",
        "colab_type": "code",
        "colab": {}
      },
      "source": [
        "normaltest(dados.Renda)"
      ],
      "execution_count": 0,
      "outputs": []
    },
    {
      "cell_type": "code",
      "metadata": {
        "id": "FX8Pqur5nBj0",
        "colab_type": "code",
        "colab": {}
      },
      "source": [
        "stat_test, p_valor = normaltest(dados.Renda)\n",
        "stat_test, p_valor"
      ],
      "execution_count": 0,
      "outputs": []
    },
    {
      "cell_type": "markdown",
      "metadata": {
        "id": "n6_XZYRo8zFh",
        "colab_type": "text"
      },
      "source": [
        "**Lembrete:** Rejeitamos a hipótese nula $H_0$ quando o valor $p\\leq 0,05$"
      ]
    },
    {
      "cell_type": "code",
      "metadata": {
        "id": "RwSfcIM-nMHm",
        "colab_type": "code",
        "colab": {}
      },
      "source": [
        "p_valor <= significancia"
      ],
      "execution_count": 0,
      "outputs": []
    },
    {
      "cell_type": "code",
      "metadata": {
        "id": "8hBpZhPqnd5w",
        "colab_type": "code",
        "colab": {}
      },
      "source": [
        "dados.Altura.hist(bins = 50)"
      ],
      "execution_count": 0,
      "outputs": []
    },
    {
      "cell_type": "code",
      "metadata": {
        "id": "xtQL98gynkkO",
        "colab_type": "code",
        "colab": {}
      },
      "source": [
        "stat_test, p_valor = normaltest(dados.Altura)\n",
        "stat_test, p_valor"
      ],
      "execution_count": 0,
      "outputs": []
    },
    {
      "cell_type": "code",
      "metadata": {
        "id": "KB3ZY0wynk7W",
        "colab_type": "code",
        "colab": {}
      },
      "source": [
        "p_valor <= significancia"
      ],
      "execution_count": 0,
      "outputs": []
    },
    {
      "cell_type": "markdown",
      "metadata": {
        "id": "vg0pStthpGt1",
        "colab_type": "text"
      },
      "source": [
        "### 3.3. Teste bicaudal"
      ]
    },
    {
      "cell_type": "code",
      "metadata": {
        "id": "rmoyS3qJpV16",
        "colab_type": "code",
        "colab": {}
      },
      "source": [
        "from scipy.stats import norm"
      ],
      "execution_count": 0,
      "outputs": []
    },
    {
      "cell_type": "code",
      "metadata": {
        "id": "MCZLxUY1q4kb",
        "colab_type": "code",
        "colab": {}
      },
      "source": [
        "amostra = [509, 505, 495, 510, 496, 509, 497, 502, 503, 505, \n",
        "           501, 505, 510, 505, 504, 497, 506, 506, 508, 505, \n",
        "           497, 504, 500, 498, 506, 496, 508, 497, 503, 501, \n",
        "           503, 506, 499, 498, 509, 507, 503, 499, 509, 495, \n",
        "           502, 505, 504, 509, 508, 501, 505, 497, 508, 507]"
      ],
      "execution_count": 0,
      "outputs": []
    },
    {
      "cell_type": "code",
      "metadata": {
        "id": "QLTDn8j4sLbn",
        "colab_type": "code",
        "colab": {}
      },
      "source": [
        "amostra = pd.DataFrame(amostra, columns=['Amostra'])\n",
        "amostra.head()"
      ],
      "execution_count": 0,
      "outputs": []
    },
    {
      "cell_type": "code",
      "metadata": {
        "id": "o2dzLikMq6U1",
        "colab_type": "code",
        "colab": {}
      },
      "source": [
        "media_amostra = amostra.mean()[0]\n",
        "media_amostra"
      ],
      "execution_count": 0,
      "outputs": []
    },
    {
      "cell_type": "code",
      "metadata": {
        "id": "DK8XwuqMrmg_",
        "colab_type": "code",
        "colab": {}
      },
      "source": [
        "desvio_padrao_amostra = amostra.std()[0]\n",
        "desvio_padrao_amostra"
      ],
      "execution_count": 0,
      "outputs": []
    },
    {
      "cell_type": "code",
      "metadata": {
        "id": "ZvT7vAeprPrJ",
        "colab_type": "code",
        "colab": {}
      },
      "source": [
        "media = 500\n",
        "significancia = 0.05\n",
        "confianca = 1 - significancia\n",
        "n = 50"
      ],
      "execution_count": 0,
      "outputs": []
    },
    {
      "cell_type": "code",
      "metadata": {
        "id": "7IEctbSgpZyz",
        "colab_type": "code",
        "colab": {}
      },
      "source": [
        "confianca = 0.95\n",
        "probabilidade = (0.5 + (confianca / 2))\n",
        "probabilidade"
      ],
      "execution_count": 0,
      "outputs": []
    },
    {
      "cell_type": "code",
      "metadata": {
        "id": "jaB208VDp6WG",
        "colab_type": "code",
        "colab": {}
      },
      "source": [
        "z_alpha_2 = norm.ppf(probabilidade)\n",
        "z_alpha_2"
      ],
      "execution_count": 0,
      "outputs": []
    },
    {
      "cell_type": "code",
      "metadata": {
        "id": "0pEDL4tBqnQz",
        "colab_type": "code",
        "colab": {}
      },
      "source": [
        "z = (media_amostra - media) / (desvio_padrao_amostra / np.sqrt(n))\n",
        "z"
      ],
      "execution_count": 0,
      "outputs": []
    },
    {
      "cell_type": "code",
      "metadata": {
        "id": "vmp5NaKpu-TS",
        "colab_type": "code",
        "colab": {}
      },
      "source": [
        "p_valor = 2 * (1 - norm.cdf(z))\n",
        "p_valor"
      ],
      "execution_count": 0,
      "outputs": []
    },
    {
      "cell_type": "code",
      "metadata": {
        "id": "S8EjUyKUvWTe",
        "colab_type": "code",
        "colab": {}
      },
      "source": [
        "p_valor <= significancia"
      ],
      "execution_count": 0,
      "outputs": []
    },
    {
      "cell_type": "code",
      "metadata": {
        "id": "WfwBzCSPv-9s",
        "colab_type": "code",
        "colab": {}
      },
      "source": [
        "from statsmodels.stats.weightstats import ztest"
      ],
      "execution_count": 0,
      "outputs": []
    },
    {
      "cell_type": "code",
      "metadata": {
        "id": "5_RNprlBvpmc",
        "colab_type": "code",
        "colab": {}
      },
      "source": [
        "ztest(x1 = amostra, value = media)"
      ],
      "execution_count": 0,
      "outputs": []
    },
    {
      "cell_type": "code",
      "metadata": {
        "id": "ypLjAlSswAyq",
        "colab_type": "code",
        "colab": {}
      },
      "source": [
        "from statsmodels.stats.weightstats import DescrStatsW"
      ],
      "execution_count": 0,
      "outputs": []
    },
    {
      "cell_type": "code",
      "metadata": {
        "id": "X5ccIrzVwFVK",
        "colab_type": "code",
        "colab": {}
      },
      "source": [
        "test = DescrStatsW(amostra)\n",
        "test.ztest_mean(value = media)"
      ],
      "execution_count": 0,
      "outputs": []
    },
    {
      "cell_type": "markdown",
      "metadata": {
        "id": "POyCALQ8xqFr",
        "colab_type": "text"
      },
      "source": [
        "Explicar a teoria do unicaudal e deixar pros alunos lerem material sobre - deixar claro a importância de testes pra ciência de dados"
      ]
    }
  ]
}