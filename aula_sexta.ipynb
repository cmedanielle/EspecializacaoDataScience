{
  "nbformat": 4,
  "nbformat_minor": 0,
  "metadata": {
    "colab": {
      "name": "aula_sexta (1).ipynb",
      "provenance": [],
      "collapsed_sections": [
        "nDSfxkR1I8fs",
        "m8zNDLI_zzC5",
        "0J1zByBU0D1Z",
        "2Hup1-2SJPat",
        "Jk1DQenbuDwb",
        "P5XXrMe3jNri",
        "CS13ov1glwfT",
        "vg0pStthpGt1"
      ],
      "toc_visible": true,
      "include_colab_link": true
    },
    "kernelspec": {
      "display_name": "Python 3",
      "language": "python",
      "name": "python3"
    },
    "language_info": {
      "codemirror_mode": {
        "name": "ipython",
        "version": 3
      },
      "file_extension": ".py",
      "mimetype": "text/x-python",
      "name": "python",
      "nbconvert_exporter": "python",
      "pygments_lexer": "ipython3",
      "version": "3.7.4"
    }
  },
  "cells": [
    {
      "cell_type": "markdown",
      "metadata": {
        "id": "view-in-github",
        "colab_type": "text"
      },
      "source": [
        "<a href=\"https://colab.research.google.com/github/cmedanielle/EspecializacaoDataScience/blob/master/aula_sexta.ipynb\" target=\"_parent\"><img src=\"https://colab.research.google.com/assets/colab-badge.svg\" alt=\"Open In Colab\"/></a>"
      ]
    },
    {
      "cell_type": "markdown",
      "metadata": {
        "colab_type": "text",
        "id": "t0WBBXFjIV4K"
      },
      "source": [
        "# **DISCIPLINA - ESTATÍSTICA (SEXTA)**"
      ]
    },
    {
      "cell_type": "markdown",
      "metadata": {
        "colab_type": "text",
        "id": "yjb9yEWgIoIj"
      },
      "source": [
        "## 1. Revisando alguns conceitos básicos (Distribuição de Frequência e Medidas Estatísticas)"
      ]
    },
    {
      "cell_type": "markdown",
      "metadata": {
        "colab_type": "text",
        "id": "nDSfxkR1I8fs"
      },
      "source": [
        "### 1.1. Conhecendo nosso dataset"
      ]
    },
    {
      "cell_type": "markdown",
      "metadata": {
        "colab_type": "text",
        "id": "mO9YZWbSzsjt"
      },
      "source": [
        "**Pesquisa Nacional por Amostra de Domicílios (2015)**\n",
        "\n",
        "A Pesquisa Nacional por Amostra de Domicílios - PNAD, de periodicidade anual, foi encerrada em 2016, com a divulgação das informações referentes a 2015. Planejada para produzir resultados para Brasil, Grandes Regiões, Unidades da Federação e nove Regiões Metropolitanas (Belém, Fortaleza, Recife, Salvador, Belo Horizonte, Rio de Janeiro, São Paulo, Curitiba e Porto Alegre), ela pesquisava, de forma permanente, características gerais da população, educação, trabalho, rendimento e habitação, e, com periodicidade variável, outros temas, de acordo com as necessidades de informação para o País, tendo como unidade de investigação o domicílio. A PNAD foi substituída, com metodologia atualizada, pela Pesquisa Nacional por Amostra de Domicílios Contínua - PNAD Contínua,  que propicia uma cobertura territorial mais abrangente e disponibiliza informações conjunturais trimestrais sobre a força de trabalho em âmbito nacional."
      ]
    },
    {
      "cell_type": "markdown",
      "metadata": {
        "colab_type": "text",
        "id": "Xtumyah8PYE8"
      },
      "source": [
        "\n",
        "\n",
        "https://www.ibge.gov.br/estatisticas/sociais/populacao/9127-pesquisa-nacional-por-amostra-de-domicilios.html?=&t=microdados"
      ]
    },
    {
      "cell_type": "markdown",
      "metadata": {
        "colab_type": "text",
        "id": "m8zNDLI_zzC5"
      },
      "source": [
        "**VARIÁVEIS UTILIZADAS**\n",
        "\n",
        "Renda: Rendimento mensal do trabalho principal para pessoas de 10 anos ou mais de idade.\n",
        "\n",
        "Idade: Idade do morador na data de referência em anos.\n",
        "\n",
        "Altura: Altura do morador em metros.\n",
        "\n",
        "Sexo: 0 - Masculino| 1 - Feminino\n",
        "\n",
        "*Observações:*\n",
        "Foram eliminados os registros onde a *Renda* era inválida ou inexistente e foram considerados apenas os registros das *Pessoas de Referência* de cada domicílio (responsável pelo domicílio).\n",
        "O dataset é um subconjunto extraído do conjunto de dados tratados pelo prof. Rodrigo Fernando Dias."
      ]
    },
    {
      "cell_type": "markdown",
      "metadata": {
        "colab_type": "text",
        "id": "e9Zzls13U1Vc"
      },
      "source": [
        "### 1.2. Começando nossos trabalhos"
      ]
    },
    {
      "cell_type": "code",
      "metadata": {
        "colab_type": "code",
        "id": "UNKbtc8OImO-",
        "colab": {}
      },
      "source": [
        "import pandas as pd, numpy as np, scipy as sp, matplotlib as mp"
      ],
      "execution_count": 0,
      "outputs": []
    },
    {
      "cell_type": "code",
      "metadata": {
        "colab_type": "code",
        "id": "LhmFR6r2JOt2",
        "colab": {}
      },
      "source": [
        "dados = pd.read_csv('dados.csv')"
      ],
      "execution_count": 0,
      "outputs": []
    },
    {
      "cell_type": "code",
      "metadata": {
        "id": "8azgDeZojj2d",
        "colab_type": "code",
        "colab": {}
      },
      "source": [
        "dados"
      ],
      "execution_count": 0,
      "outputs": []
    },
    {
      "cell_type": "code",
      "metadata": {
        "colab_type": "code",
        "id": "VZsyGLvGQNRd",
        "scrolled": true,
        "colab": {}
      },
      "source": [
        "dados.head()"
      ],
      "execution_count": 0,
      "outputs": []
    },
    {
      "cell_type": "code",
      "metadata": {
        "colab_type": "code",
        "id": "tMvKSQ35aHZz",
        "colab": {}
      },
      "source": [
        "dados.shape[0]"
      ],
      "execution_count": 0,
      "outputs": []
    },
    {
      "cell_type": "markdown",
      "metadata": {
        "colab_type": "text",
        "id": "0J1zByBU0D1Z"
      },
      "source": [
        "### 1.2. Revisando Tipos de Variáveis"
      ]
    },
    {
      "cell_type": "markdown",
      "metadata": {
        "colab_type": "text",
        "id": "ce6OvaSvEVzC"
      },
      "source": [
        "**Variáveis podem ser quantitatias e qualitativas:**\n",
        "\n",
        "\n",
        "*   Variáveis quantitativas podem ser discretas ou contínuas;\n",
        "*   Variáveis qualitativas (ou categóricas) podem ser ordinais ou nominais"
      ]
    },
    {
      "cell_type": "code",
      "metadata": {
        "colab_type": "code",
        "id": "OnRZtwbn1pJo",
        "colab": {}
      },
      "source": [
        "dados.Sexo.min(), dados.Sexo.max()"
      ],
      "execution_count": 0,
      "outputs": []
    },
    {
      "cell_type": "code",
      "metadata": {
        "colab_type": "code",
        "id": "UrD_MHxP1WLs",
        "colab": {}
      },
      "source": [
        "frequencia = dados.Sexo.value_counts()\n",
        "frequencia"
      ],
      "execution_count": 0,
      "outputs": []
    },
    {
      "cell_type": "code",
      "metadata": {
        "colab_type": "code",
        "id": "qdh2fwVR0fOF",
        "colab": {}
      },
      "source": [
        "percentual = dados.Sexo.value_counts(normalize = True) * 100\n",
        "percentual"
      ],
      "execution_count": 0,
      "outputs": []
    },
    {
      "cell_type": "code",
      "metadata": {
        "colab_type": "code",
        "id": "1YfGDEWW0MG5",
        "colab": {}
      },
      "source": [
        "dist_freq_qualitativas = pd.DataFrame({'Frequência ': frequencia, 'Porcentagem (%) ': percentual})\n",
        "dist_freq_qualitativas.rename(index = {0: 'Masculino', 1: 'Feminino'}, inplace = True)\n",
        "dist_freq_qualitativas.rename_axis('Sexo', axis = 'columns', inplace = True)\n",
        "dist_freq_qualitativas"
      ],
      "execution_count": 0,
      "outputs": []
    },
    {
      "cell_type": "code",
      "metadata": {
        "colab_type": "code",
        "id": "wj_a0bkO1wXI",
        "colab": {}
      },
      "source": [
        "dados.Renda.min(), dados.Renda.max()"
      ],
      "execution_count": 0,
      "outputs": []
    },
    {
      "cell_type": "code",
      "metadata": {
        "colab_type": "code",
        "id": "0SLG19tR0OsN",
        "colab": {}
      },
      "source": [
        "frequencia = dados.Renda.value_counts()\n",
        "frequencia"
      ],
      "execution_count": 0,
      "outputs": []
    },
    {
      "cell_type": "code",
      "metadata": {
        "colab_type": "code",
        "id": "Eu7ytHp31Ecn",
        "colab": {}
      },
      "source": [
        "classes = [0, 1576, 3152, 7880, 15760, 200000]\n",
        "labels = ['E','D','C','B','A']"
      ],
      "execution_count": 0,
      "outputs": []
    },
    {
      "cell_type": "code",
      "metadata": {
        "colab_type": "code",
        "id": "VFSlP2Wi2Tnj",
        "colab": {}
      },
      "source": [
        "frequencia = pd.value_counts(pd.cut(x = dados.Renda, bins = classes, labels = labels, include_lowest = True))\n",
        "percentual = pd.value_counts(pd.cut(x = dados.Renda, bins = classes, labels = labels, include_lowest = True), normalize = True) * 100\n",
        "percentual"
      ],
      "execution_count": 0,
      "outputs": []
    },
    {
      "cell_type": "code",
      "metadata": {
        "colab_type": "code",
        "id": "MI-0Hbyo2DQw",
        "colab": {}
      },
      "source": [
        "dist_freq_qualitativas_quantitativa = pd.DataFrame({'Frequência': frequencia, 'Porcentagem (%)': percentual})\n",
        "dist_freq_qualitativas_quantitativa.sort_index(ascending = False, inplace = True)\n",
        "dist_freq_qualitativas_quantitativa"
      ],
      "execution_count": 0,
      "outputs": []
    },
    {
      "cell_type": "markdown",
      "metadata": {
        "colab_type": "text",
        "id": "2Hup1-2SJPat"
      },
      "source": [
        "### 1.3. Revisando algumas medidas estatísticas"
      ]
    },
    {
      "cell_type": "markdown",
      "metadata": {
        "colab_type": "text",
        "id": "2NrxEmOAFG9u"
      },
      "source": [
        "![alt text](https://s3.static.brasilescola.uol.com.br/img/2019/01/medidas-de-tendencia-be.jpeg)\n",
        "Fonte: Escolha Brasil (Uol)"
      ]
    },
    {
      "cell_type": "code",
      "metadata": {
        "colab_type": "code",
        "id": "rzrjLdyoJTeB",
        "colab": {}
      },
      "source": [
        "dados.Renda.mean(), dados.Renda.median(), dados.Renda.mode()[0]"
      ],
      "execution_count": 0,
      "outputs": []
    },
    {
      "cell_type": "markdown",
      "metadata": {
        "colab_type": "text",
        "id": "Jc_-LYGIFP_6"
      },
      "source": [
        "**Variância amostral:** mede a dispersão em torno da média (mas tem o inconveniente de ter a unidade do dado estudado ao quadrado!);\n",
        "\n"
      ]
    },
    {
      "cell_type": "code",
      "metadata": {
        "colab_type": "code",
        "id": "a9YgNV4h3-6d",
        "colab": {}
      },
      "source": [
        "dados.var()"
      ],
      "execution_count": 0,
      "outputs": []
    },
    {
      "cell_type": "markdown",
      "metadata": {
        "colab_type": "text",
        "id": "3mFsJpdjGZPU"
      },
      "source": [
        "**Desvio-Padrão amostral:** • mede a variação em torno da média (e é super usável, porque tem a mesma unidade dos dados originais!)\n",
        "\n",
        "IMPORTANTE: Um valor baixo de desvio padrão indica que os pontos dos dados tendem a estar próximos da média ou do valor esperado. Se ele for alto, então temos indícios de que os pontos dos dados estão espalhados por uma ampla gama de valores."
      ]
    },
    {
      "cell_type": "code",
      "metadata": {
        "colab_type": "code",
        "id": "hMxQj4Ib3Z1Y",
        "colab": {}
      },
      "source": [
        "dados.std()"
      ],
      "execution_count": 0,
      "outputs": []
    },
    {
      "cell_type": "code",
      "metadata": {
        "colab_type": "code",
        "id": "rQpe5PBXJ6JL",
        "colab": {}
      },
      "source": [
        "dados.Altura.hist(bins = 50, figsize = (12,6))"
      ],
      "execution_count": 0,
      "outputs": []
    },
    {
      "cell_type": "markdown",
      "metadata": {
        "colab_type": "text",
        "id": "v7E-KbPDJ_3D"
      },
      "source": [
        "## 2. Testes de Hipóteses"
      ]
    },
    {
      "cell_type": "markdown",
      "metadata": {
        "colab_type": "text",
        "id": "5AlWCoN_WlkE"
      },
      "source": [
        "**A experimentação tem como objetivo confirmar ou rejeitar uma hipótese.**\n",
        "\n",
        "*Por que isso é relevante para mim?*\n",
        "> Cientistas de dados geralmente se deparam com a necessidade de conduzir experimentos contínuos.\n",
        "> Exemplos: verificação de interface com usuário, marketing de um produto, etc.\n",
        "\n"
      ]
    },
    {
      "cell_type": "markdown",
      "metadata": {
        "colab_type": "text",
        "id": "JSfRG2qKXRsH"
      },
      "source": [
        "**CADEIA CLÁSSICA DE INFERÊNCIA ESTATÍSTICA**\n",
        "\n",
        "![alt text](https://posgraduando.com/wp-content/uploads/2016/01/diversos-04.jpg)\n",
        "\n",
        "FORMULAR HIPÓTESE > DESENHAR EXPERIMENTO > COLETAR DADOS > INFERÊNCIA/CONCLUSÕES\n",
        "\n"
      ]
    },
    {
      "cell_type": "markdown",
      "metadata": {
        "colab_type": "text",
        "id": "VbDiZl4LZJ6F"
      },
      "source": [
        "**E o que é mesmo uma inferência?**\n",
        "\n",
        "> É a intenção de aplicar os resultados de um experimento, que envolve um conjunto limitado de dados, em um processo ou uma população.\n",
        "\n"
      ]
    },
    {
      "cell_type": "markdown",
      "metadata": {
        "colab_type": "text",
        "id": "zeUtxg9yhEk5"
      },
      "source": [
        "**Teste do Tipo A/B**\n",
        "\n",
        "> É um experimento com dois grupos para determinar qual dos dois tratamentos, produtos, procedimentos ou similar é o superior. Geralmente um dos tratamentos é o padrão já adotado (ou não existe) e é chamado de *grupo de controle*. \n",
        "O *grupo de tratamento* é o grupo que será submetido a um tratamento específico.\n",
        "\n"
      ]
    },
    {
      "cell_type": "markdown",
      "metadata": {
        "colab_type": "text",
        "id": "4SdxExkghwUn"
      },
      "source": [
        "Exemplos de Testes A/B\n",
        "\n",
        "*   Testagem de dois preços, para determinar qual irá gerá mais lucro;\n",
        "*   Testagem de dois anúncios online, para determinar qual irá gerar mais cliques;\n",
        "*   Testagem de dois tipos de algoritmos, para determinar qual o mais eficiente...\n",
        "\n",
        "Geralmente, a métrica mais utilizada na ciência de dados é uma variável binária."
      ]
    },
    {
      "cell_type": "markdown",
      "metadata": {
        "colab_type": "text",
        "id": "ezIACuF8jxkt"
      },
      "source": [
        "<font color='red'>**Um teste de hipótese estatística é uma análise mais aprofundada de um teste A/B, ou qualquer experimento randomizado, para avaliar se a possibilidade aleatória é uma explicação plausível para a diferência observada entre os grupos.**</font>"
      ]
    },
    {
      "cell_type": "markdown",
      "metadata": {
        "colab_type": "text",
        "id": "oo-09tgbZaBy"
      },
      "source": [
        "### 2.1. Algumas informações importantes antes de começar"
      ]
    },
    {
      "cell_type": "markdown",
      "metadata": {
        "colab_type": "text",
        "id": "fK-sUBbiZiF5"
      },
      "source": [
        "Primeiro, dois conceitos essenciais:\n",
        "\n",
        "*   **Hipótese Nula ($H_0$)**: propõe uma igualdade ou propriedade populacional;\n",
        "*   **Hipótese Alternativa ($H_1$)**: propõe uma afirmação que nega $H_0$.\n",
        "\n"
      ]
    },
    {
      "cell_type": "markdown",
      "metadata": {
        "colab_type": "text",
        "id": "S0uFW_uRi9aI"
      },
      "source": [
        "*E por que preciso de uma hipótese?*\n",
        "\n",
        "Por que não apenas observar o resultado do experimento e optar pelo tratamento que se sair melhor?\n",
        "\n",
        "> Bem, temos uma forte tendência a submestimar o escopo do comportamento aleatório natural. Ou, melhor ainda, de interpretar eventos aleatórios de forma errada, como se tivessem padrões de alguma significância.\n",
        "\n"
      ]
    },
    {
      "cell_type": "markdown",
      "metadata": {
        "colab_type": "text",
        "id": "0cLiP9UKaMgy"
      },
      "source": [
        "*Tá, e o que preciso saber para formular hipóteses?*\n",
        "\n",
        "*   O alvo do estudo é sempre a hipótese alternativa $H_1$;\n",
        "*   A hipótese nula $H_0$ pode conter uma igualdade igualdade simples \"$=$\" ou \"$\\geq$\" e \"$\\leq$\". É importante lembrar que a hipótese alternativa sempre complementa a hipótese nula!\n",
        "*   A hipótese alternativa ($H_1$) deve definir uma desigualdade que pode ser uma diferença simples \"$\\neq$\" ou dos tipos \"$>$\" e \"$<$\"."
      ]
    },
    {
      "cell_type": "markdown",
      "metadata": {
        "colab_type": "text",
        "id": "edXO3wkYaw2m"
      },
      "source": [
        "Vamos construir um pequeno experimento agora, começando pela definição das hipóteses:\n",
        "\n",
        "*   **Hipótese Nula ($H_0$)**: A distribuição da variável Renda segue uma distribuição normal.\n",
        "*   **Hipótese Alternativa ($H_1$)**: A distribuição da variável Renda não segue uma distribuição normal.\n",
        "\n",
        "\n",
        "\n"
      ]
    },
    {
      "cell_type": "code",
      "metadata": {
        "colab_type": "code",
        "id": "sbLy0SLHKDC_",
        "colab": {}
      },
      "source": [
        "dados.Renda.hist(bins = 50)"
      ],
      "execution_count": 0,
      "outputs": []
    },
    {
      "cell_type": "code",
      "metadata": {
        "colab_type": "code",
        "id": "5ZjxINq2n8RL",
        "colab": {}
      },
      "source": [
        "from scipy.stats import normaltest"
      ],
      "execution_count": 0,
      "outputs": []
    },
    {
      "cell_type": "code",
      "metadata": {
        "colab_type": "code",
        "id": "E4mDmCvPmTKL",
        "colab": {},
        "outputId": "51a362e9-07cf-441b-f9f8-503854f26914"
      },
      "source": [
        "normaltest(dados.Renda)"
      ],
      "execution_count": 0,
      "outputs": [
        {
          "output_type": "execute_result",
          "data": {
            "text/plain": [
              "NormaltestResult(statistic=152380.75803960307, pvalue=0.0)"
            ]
          },
          "metadata": {
            "tags": []
          },
          "execution_count": 5
        }
      ]
    },
    {
      "cell_type": "markdown",
      "metadata": {
        "colab_type": "text",
        "id": "92WfeiqdcweI"
      },
      "source": [
        "Referências: \n",
        "https://docs.scipy.org/doc/scipy/reference/generated/scipy.stats.normaltest.html\n",
        "\n",
        "OBS.: a função *normaltest* tem como base a hipótese nula $H_0$ de que a distribuição da amostra é normal."
      ]
    },
    {
      "cell_type": "markdown",
      "metadata": {
        "colab_type": "text",
        "id": "Jk1DQenbuDwb"
      },
      "source": [
        "**Nível de confiança x Nível de significância**"
      ]
    },
    {
      "cell_type": "markdown",
      "metadata": {
        "colab_type": "text",
        "id": "fC0wuqvyVPR7"
      },
      "source": [
        "**Significância estatística** é como os estatísticos medem se um experimento ou um estudo dos dados produziu um reesultado mais extremo do que o acaso poderia produzir."
      ]
    },
    {
      "cell_type": "markdown",
      "metadata": {
        "colab_type": "text",
        "id": "OV7WCXa86tDI"
      },
      "source": [
        "**Nível de confiança ( 1−α )** - probabilidade de acerto da estimativa. Diz respeito ao grau de confiabilidade de que um valor de uma estimativa esteja dentro de um intervalo.\n",
        "\n",
        "**Nível de significância ( alfa ou α )** - probabilidade de erro da estimativa. Normalmente é um valor pré-fixado (varia entre 1% a 10%)."
      ]
    },
    {
      "cell_type": "markdown",
      "metadata": {
        "colab_type": "text",
        "id": "JbgN9yIlB8m5"
      },
      "source": [
        "![Significancia](https://upload.wikimedia.org/wikipedia/commons/0/01/ConfIntervNormalP.png)"
      ]
    },
    {
      "cell_type": "markdown",
      "metadata": {
        "colab_type": "text",
        "id": "eKDVPGm_eYJI"
      },
      "source": [
        "<font color='red'>Assim, é importante fixar a significância do teste ($\\alpha$), que define as regiões de aceitação e rejeição das hipóteses!</font>"
      ]
    },
    {
      "cell_type": "code",
      "metadata": {
        "colab_type": "code",
        "id": "vJapCGGgd56C",
        "colab": {}
      },
      "source": [
        "significancia = 0.05"
      ],
      "execution_count": 0,
      "outputs": []
    },
    {
      "cell_type": "code",
      "metadata": {
        "colab_type": "code",
        "id": "4hyBnNIvd8Jy",
        "colab": {}
      },
      "source": [
        "estatistica_teste, p_valor = normaltest(dados.Altura)"
      ],
      "execution_count": 0,
      "outputs": []
    },
    {
      "cell_type": "markdown",
      "metadata": {
        "colab_type": "text",
        "id": "vzf65W7BfNWL"
      },
      "source": [
        "**E o que é o p-valor?**\n",
        "\n",
        "> O valor-p (também chamado de nível descritivo ou probabilidade de significância) é a **probabilidade de se obter uma estatística de teste igual ou mais extrema que aquela observada em uma amostra, sob a hipótese nula**.\n",
        "\n",
        "Por exemplo, em testes de hipótese, pode-se rejeitar a hipótese nula a 5% caso o valor-p seja menor que 5%. Assim, uma outra interpretação para o valor-p, é que este é o **menor nível de significância com que se rejeitaria a hipótese nula**. Em termos gerais, um valor-p pequeno significa que a probabilidade de obter um valor da estatística de teste como o observado é muito improvável, levando assim à rejeição da hipótese nula.\n",
        "\n"
      ]
    },
    {
      "cell_type": "markdown",
      "metadata": {
        "colab_type": "text",
        "id": "B6icrczcgY_o"
      },
      "source": [
        "Ou seja, para nosso experimento, devemos rejeitar $H_0$ se o valor $p\\leq 0,05$"
      ]
    },
    {
      "cell_type": "code",
      "metadata": {
        "colab_type": "code",
        "id": "1BXp0dGreG4s",
        "colab": {}
      },
      "source": [
        "p_valor <= significancia"
      ],
      "execution_count": 0,
      "outputs": []
    },
    {
      "cell_type": "code",
      "metadata": {
        "id": "WWmaTrCojj3d",
        "colab_type": "code",
        "colab": {},
        "outputId": "7fb36640-69b5-4107-bd62-e17f1f1965ac"
      },
      "source": [
        "dados.Altura"
      ],
      "execution_count": 0,
      "outputs": [
        {
          "output_type": "execute_result",
          "data": {
            "text/plain": [
              "0        1.603.807.616\n",
              "1        1.739.789.827\n",
              "2        1.760.443.822\n",
              "3        1.783.157.945\n",
              "4        1.690.630.954\n",
              "             ...      \n",
              "76835    1.687.030.276\n",
              "76836    1.792.933.812\n",
              "76837    1.830.587.384\n",
              "76838    1.726.344.263\n",
              "76839    1.658.304.846\n",
              "Name: Altura, Length: 76840, dtype: object"
            ]
          },
          "metadata": {
            "tags": []
          },
          "execution_count": 7
        }
      ]
    },
    {
      "cell_type": "code",
      "metadata": {
        "colab_type": "code",
        "id": "kmaft5jSf2CD",
        "colab": {},
        "outputId": "6bbfe651-7e1c-4be8-b795-d79992937bf2"
      },
      "source": [
        "dados.Altura.hist(bins = 50)"
      ],
      "execution_count": 0,
      "outputs": [
        {
          "output_type": "execute_result",
          "data": {
            "text/plain": [
              "<matplotlib.axes._subplots.AxesSubplot at 0x21a6e262988>"
            ]
          },
          "metadata": {
            "tags": []
          },
          "execution_count": 8
        }
      ]
    },
    {
      "cell_type": "code",
      "metadata": {
        "colab_type": "code",
        "id": "ll4_7lnlfycb",
        "colab": {}
      },
      "source": [
        "normaltest(dados.Altura)"
      ],
      "execution_count": 0,
      "outputs": []
    },
    {
      "cell_type": "markdown",
      "metadata": {
        "colab_type": "text",
        "id": "d56cMZgm7jiZ"
      },
      "source": [
        "### 2.2. Teste Parâmetricos e Não Parâmetricos"
      ]
    },
    {
      "cell_type": "markdown",
      "metadata": {
        "colab_type": "text",
        "id": "LscYMrF3lNGd"
      },
      "source": [
        "**A escolha do teste que iremos utilizar é um fator bastante relevante. A escolha do teste errado pode levar a conclusões erradas.**"
      ]
    },
    {
      "cell_type": "markdown",
      "metadata": {
        "colab_type": "text",
        "id": "4TaEqN9AlWI2"
      },
      "source": [
        "Em geral, a regra básica é a seguinte:\n",
        "\n",
        "Se considerarmos $n$ o tamanho da amostra:Quando o tamanho da amostra tiver 30 elementos ou mais, deve-se utilizar a distribuição normal, como estabelecido pelo teorema do limite central.\n",
        "\n",
        "*   **Se $n\\geq30$ ou se $n<30$ e sabemos que a população tende a se distribuir de forma normal e sabemos qual é o desvio padrão populacional**:\n",
        "> Distribuição normal (conforme estabelecido pelo teorema do limite central);\n",
        "\n",
        "*   **Se $n<30$ e sabemos que a população tende a se distribuir de forma normal e mas não sabemos qual é o desvio padrão populacional**:\n",
        "> Devemos utilizar a distribuição de t de Student;\n",
        "\n",
        "*   **Caso contrário:**\n",
        "> Ou aumentamos o tamanho da amostra, ou partimos para um teste não paramétrico.\n",
        "\n"
      ]
    },
    {
      "cell_type": "markdown",
      "metadata": {
        "colab_type": "text",
        "id": "lxabkBYlm71z"
      },
      "source": [
        "***Opa! Testes não paramétricos?***"
      ]
    },
    {
      "cell_type": "markdown",
      "metadata": {
        "colab_type": "text",
        "id": "aKtMmvMHm_en"
      },
      "source": [
        "Em **testes paramétricos**, pressupomos que os dados seguem a distribuição normal, há homogeneidade dos dados e variáveis intervalares e contínuas.\n",
        "\n",
        "Os **testes não paramétricos** requerem menos pressupostos para as distribuições. Baseiam-se em dados ordinais e nominais e geralmente são utilizados para amostras muito pequenas e para as investigações que envolvam hipóteses cujos processos de medida sejam ordinais. Mas vale ressaltar que os testes não paramétricos não são tão fededignos como os testes paramétricos!"
      ]
    },
    {
      "cell_type": "markdown",
      "metadata": {
        "colab_type": "text",
        "id": "r8p3pXPjoBte"
      },
      "source": [
        "### **2.3. Teste de Hipótese Unilateral e Bilateral**"
      ]
    },
    {
      "cell_type": "markdown",
      "metadata": {
        "colab_type": "text",
        "id": "jV4GfeD8olmr"
      },
      "source": [
        "![alt text](https://keydifferences.com/wp-content/uploads/2017/01/one-tailed-vs-two-tailed-test.jpg)"
      ]
    },
    {
      "cell_type": "markdown",
      "metadata": {
        "colab_type": "text",
        "id": "tRHGgFe6pWW5"
      },
      "source": [
        "*Lembrete importante:* Unicaudal, bicaudal... esse assunto tende a ser confuso e de pouca relevância para a ciência de dados, já que a precisão dos cálculos de valor p não é extremamente importante."
      ]
    },
    {
      "cell_type": "markdown",
      "metadata": {
        "colab_type": "text",
        "id": "vg0pStthpGt1"
      },
      "source": [
        "### 2.4. Realizando um teste bicaudal"
      ]
    },
    {
      "cell_type": "markdown",
      "metadata": {
        "colab_type": "text",
        "id": "xt8RS67hoI37"
      },
      "source": [
        "Teste de hipótese bicaudal:\n",
        "\n",
        "> Rejeitar $H_0$ se o valor $p\\leq\\alpha$\n",
        "\n"
      ]
    },
    {
      "cell_type": "markdown",
      "metadata": {
        "colab_type": "text",
        "id": "1uts7KvAqOQr"
      },
      "source": [
        "*Problema:*\n",
        "\n",
        "---\n",
        "Uma fábrica está produzindo um novo produto (leite vegetal). Este produto deve ser embalado por máquina, em embalagens de 1000ml. Como todo o processo é automatizado, a empresa necessita verificar se as máquinas estão armazenando exatamente o total de líquido em cada embalagem (um pouco a menos, a empresa pode ter problemas fiscais e com consumidores mais atentos; um pouco a mais, haverá desperdício)."
      ]
    },
    {
      "cell_type": "markdown",
      "metadata": {
        "colab_type": "text",
        "id": "uRdIcYaarMxJ"
      },
      "source": [
        "*   $H_0$: A média do leite armazenado nas embalagens é $\\mu = 1000$\n",
        "*   $H_1$: A média do leite armazenado nas embalagens é $mu\\neq1000$"
      ]
    },
    {
      "cell_type": "markdown",
      "metadata": {
        "colab_type": "text",
        "id": "r6odpbQjn1vr"
      },
      "source": [
        "Amostra:"
      ]
    },
    {
      "cell_type": "code",
      "metadata": {
        "colab_type": "code",
        "id": "MCZLxUY1q4kb",
        "colab": {}
      },
      "source": [
        "amostra = [991,1010,993,998,997,998,1003,1000,998,996,\n",
        "           1000,1005,1009,991,1002,1000,1009,999,997,\n",
        "           995,993,993,1002,995,993,1005,1003,991,1006,\n",
        "           1008,993,1006,1000,1008,1007,990,999,1004,1002,\n",
        "           1006,1005,1003,990,1007,1001,1002,997,996,996,992]"
      ],
      "execution_count": 0,
      "outputs": []
    },
    {
      "cell_type": "code",
      "metadata": {
        "colab_type": "code",
        "id": "FAm6J7oLuBDR",
        "outputId": "2e58aea6-ecbe-4c83-f54f-8f761f507863",
        "colab": {
          "base_uri": "https://localhost:8080/",
          "height": 34
        }
      },
      "source": [
        "n = amostra.shape[0]\n",
        "n"
      ],
      "execution_count": 0,
      "outputs": [
        {
          "output_type": "execute_result",
          "data": {
            "text/plain": [
              "50"
            ]
          },
          "metadata": {
            "tags": []
          },
          "execution_count": 29
        }
      ]
    },
    {
      "cell_type": "markdown",
      "metadata": {
        "colab_type": "text",
        "id": "h_6qdeRhtt1X"
      },
      "source": [
        "Vamos testar para um nível de significância de 5% (i.e., o nível de confiança que teremos é de 95%)."
      ]
    },
    {
      "cell_type": "code",
      "metadata": {
        "colab_type": "code",
        "id": "ZvT7vAeprPrJ",
        "colab": {}
      },
      "source": [
        "media = 1000\n",
        "significancia = 0.05\n",
        "confianca = 1 - significancia"
      ],
      "execution_count": 0,
      "outputs": []
    },
    {
      "cell_type": "code",
      "metadata": {
        "colab_type": "code",
        "id": "QLTDn8j4sLbn",
        "colab": {}
      },
      "source": [
        "amostra = pd.DataFrame(amostra, columns=['Amostra'])\n",
        "amostra.head()"
      ],
      "execution_count": 0,
      "outputs": []
    },
    {
      "cell_type": "code",
      "metadata": {
        "colab_type": "code",
        "id": "o2dzLikMq6U1",
        "colab": {}
      },
      "source": [
        "media_amostra = amostra.mean()[0]\n",
        "media_amostra"
      ],
      "execution_count": 0,
      "outputs": []
    },
    {
      "cell_type": "code",
      "metadata": {
        "colab_type": "code",
        "id": "DK8XwuqMrmg_",
        "colab": {}
      },
      "source": [
        "desvio_padrao_amostra = amostra.std()[0]\n",
        "desvio_padrao_amostra"
      ],
      "execution_count": 0,
      "outputs": []
    },
    {
      "cell_type": "markdown",
      "metadata": {
        "colab_type": "text",
        "id": "tPj3YZh8uqV5"
      },
      "source": [
        "Como nossa amostra é $n\\geq30$, embora não saibamos qual o desvio padrão da população: "
      ]
    },
    {
      "cell_type": "code",
      "metadata": {
        "colab_type": "code",
        "id": "WfwBzCSPv-9s",
        "colab": {}
      },
      "source": [
        "from statsmodels.stats.weightstats import ztest"
      ],
      "execution_count": 0,
      "outputs": []
    },
    {
      "cell_type": "markdown",
      "metadata": {
        "colab_type": "text",
        "id": "zWM3y78Zumlv"
      },
      "source": [
        "https://www.statsmodels.org/stable/generated/statsmodels.stats.weightstats.ztest.html"
      ]
    },
    {
      "cell_type": "code",
      "metadata": {
        "colab_type": "code",
        "id": "5_RNprlBvpmc",
        "colab": {}
      },
      "source": [
        "ztest(x1 = amostra, value = media)"
      ],
      "execution_count": 0,
      "outputs": []
    },
    {
      "cell_type": "code",
      "metadata": {
        "colab_type": "code",
        "id": "N27lgBM-vTCP",
        "colab": {}
      },
      "source": [
        "estatistica_teste, p_valor = ztest(x1 = amostra, value = media)"
      ],
      "execution_count": 0,
      "outputs": []
    },
    {
      "cell_type": "code",
      "metadata": {
        "colab_type": "code",
        "id": "79AiKm7kvZpB",
        "colab": {}
      },
      "source": [
        "p_valor <= significancia"
      ],
      "execution_count": 0,
      "outputs": []
    },
    {
      "cell_type": "code",
      "metadata": {
        "colab_type": "code",
        "id": "ypLjAlSswAyq",
        "colab": {}
      },
      "source": [
        "from statsmodels.stats.weightstats import DescrStatsW"
      ],
      "execution_count": 0,
      "outputs": []
    },
    {
      "cell_type": "markdown",
      "metadata": {
        "colab_type": "text",
        "id": "mo5L1mrvvqAc"
      },
      "source": [
        "https://www.statsmodels.org/stable/generated/statsmodels.stats.weightstats.DescrStatsW.html"
      ]
    },
    {
      "cell_type": "code",
      "metadata": {
        "colab_type": "code",
        "id": "X5ccIrzVwFVK",
        "colab": {}
      },
      "source": [
        "test = DescrStatsW(amostra)\n",
        "test.ztest_mean(value = media)"
      ],
      "execution_count": 0,
      "outputs": []
    },
    {
      "cell_type": "markdown",
      "metadata": {
        "colab_type": "text",
        "id": "POyCALQ8xqFr"
      },
      "source": [
        "## 3. Um pouquinho sobre reamostragem"
      ]
    },
    {
      "cell_type": "markdown",
      "metadata": {
        "colab_type": "text",
        "id": "uRdB5HMPwHXK"
      },
      "source": [
        "Reamostragem significa amostrar repetitivamente os valores a partir dos dados observados, com um objetivo geral de avaliar a variabilidade aleatória em uma estatística, ou para avaliar e aumentar a precisão de alguns modelos de aprendizado de máquina."
      ]
    },
    {
      "cell_type": "markdown",
      "metadata": {
        "colab_type": "text",
        "id": "EYVAaCrSwP4D"
      },
      "source": [
        "### 3.1. Teste de Permutação"
      ]
    },
    {
      "cell_type": "markdown",
      "metadata": {
        "colab_type": "text",
        "id": "9ki8geMfwU_D"
      },
      "source": [
        "*   *Permutar:* mudar a ordem de um conjunto de valores;\n",
        "*   Envolve duas ou mais amostras;\n",
        "*   Basicamente, combinamos os resultados dos grupos de um teste e refazemos os testes a fim de verificar se tiramos as mesmas conclusões todas as vezes\n",
        "\n",
        "Podemos chamá-lo também de teste de permutação aleatória ou de teste de randomização."
      ]
    },
    {
      "cell_type": "markdown",
      "metadata": {
        "colab_type": "text",
        "id": "56s1L4u7wy4R"
      },
      "source": [
        "**PASSOS DE UM TESTE DE PERMUTAÇÃO**"
      ]
    },
    {
      "cell_type": "markdown",
      "metadata": {
        "colab_type": "text",
        "id": "_igjO2xcw2tY"
      },
      "source": [
        "1.   Combinar os resultados dos diferentes grupos em um único conjunto de dados;\n",
        "2.   Embaralhar os dados combinados, e depois extrair aleatoriamente (sem reposição) uma amostra de tamanho igual a um grupo A, depois igual a um grupo B, C, D e assim por diante;\n",
        "3. Calcular novamente a estatística ou estimativa para as reamostras e registre (ITERAÇÃO DE PERMUTAÇÃO);\n",
        "4. Repitir os passos 1-3 R vezes para produzir uma distribuição da estatística de teste;\n",
        "5. Por fim, compare os resultados originais com os resultados das amostras permutadas.\n",
        "\n",
        "> **Se a diferença observada estiver fora da maior parte da distribuição de permutação, então podemos concluir que o resultado não foi obra do acaso. Ou seja, temos um resultado estatisticamente significante.**\n",
        "\n",
        "\n",
        "\n"
      ]
    },
    {
      "cell_type": "markdown",
      "metadata": {
        "colab_type": "text",
        "id": "v30Lqsh2yQ_K"
      },
      "source": [
        "### 3.2. Teste de permutação x Bootstrap"
      ]
    },
    {
      "cell_type": "markdown",
      "metadata": {
        "colab_type": "text",
        "id": "sJEkmaFSyYz-"
      },
      "source": [
        "Em um teste de permutação bootstrap, as extrações descritas no passo 2 anteriormente são feitas com reposição.\n",
        "\n",
        "*E o que isso tem de bom?*\n",
        "\n",
        "Porque inserimos na modelagem do experimento o elemento aleatório de seleção de indivíduos, não somente o elemento aleatório do tratamento.\n"
      ]
    }
  ]
}