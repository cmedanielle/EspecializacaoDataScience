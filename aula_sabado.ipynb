{
  "nbformat": 4,
  "nbformat_minor": 0,
  "metadata": {
    "colab": {
      "name": "aula_sabado.ipynb",
      "provenance": [],
      "include_colab_link": true
    },
    "kernelspec": {
      "name": "python3",
      "display_name": "Python 3"
    }
  },
  "cells": [
    {
      "cell_type": "markdown",
      "metadata": {
        "id": "view-in-github",
        "colab_type": "text"
      },
      "source": [
        "<a href=\"https://colab.research.google.com/github/cmedanielle/EspecializacaoDataScience/blob/master/aula_sabado.ipynb\" target=\"_parent\"><img src=\"https://colab.research.google.com/assets/colab-badge.svg\" alt=\"Open In Colab\"/></a>"
      ]
    },
    {
      "cell_type": "markdown",
      "metadata": {
        "id": "AUAmlW45Khr1",
        "colab_type": "text"
      },
      "source": [
        "# DISCIPLINA - ESTATÍSTICA (SÁBADO)"
      ]
    },
    {
      "cell_type": "markdown",
      "metadata": {
        "id": "cMNsPctjKua9",
        "colab_type": "text"
      },
      "source": [
        "## 1. REGRESSÃO LINEAR"
      ]
    },
    {
      "cell_type": "code",
      "metadata": {
        "id": "DJ5jHTCOKmrJ",
        "colab_type": "code",
        "colab": {}
      },
      "source": [
        ""
      ],
      "execution_count": 0,
      "outputs": []
    },
    {
      "cell_type": "markdown",
      "metadata": {
        "id": "t3qVgZMrKydV",
        "colab_type": "text"
      },
      "source": [
        "## 2. REGRESSÃO LINEAR SIMPLES"
      ]
    },
    {
      "cell_type": "code",
      "metadata": {
        "id": "eTvj-PmIK1ip",
        "colab_type": "code",
        "colab": {}
      },
      "source": [
        ""
      ],
      "execution_count": 0,
      "outputs": []
    },
    {
      "cell_type": "markdown",
      "metadata": {
        "id": "Qi4HmNyqK4aB",
        "colab_type": "text"
      },
      "source": [
        "## 3. INTERPRETANDO A EQUAÇÃO DE REGRESSÃO"
      ]
    },
    {
      "cell_type": "code",
      "metadata": {
        "id": "K3eB753fK7R-",
        "colab_type": "code",
        "colab": {}
      },
      "source": [
        ""
      ],
      "execution_count": 0,
      "outputs": []
    },
    {
      "cell_type": "markdown",
      "metadata": {
        "id": "YrHjxW3vK7yL",
        "colab_type": "text"
      },
      "source": [
        "## 4. REGRESSÃO LINEAR MÚLTIPLA"
      ]
    },
    {
      "cell_type": "code",
      "metadata": {
        "id": "5tSLEsYtK-yF",
        "colab_type": "code",
        "colab": {}
      },
      "source": [
        ""
      ],
      "execution_count": 0,
      "outputs": []
    },
    {
      "cell_type": "markdown",
      "metadata": {
        "id": "O6U8EywFLHUC",
        "colab_type": "text"
      },
      "source": [
        "## 5. VARIÁVEIS FATORIAIS EM REGRESSÃO"
      ]
    },
    {
      "cell_type": "code",
      "metadata": {
        "id": "2E2WTf0RLKiQ",
        "colab_type": "code",
        "colab": {}
      },
      "source": [
        ""
      ],
      "execution_count": 0,
      "outputs": []
    },
    {
      "cell_type": "markdown",
      "metadata": {
        "id": "CKQqZFpsLL5h",
        "colab_type": "text"
      },
      "source": [
        "## 6. INVESTIGANDO OUTLIERS E VALORES INFLUENTES"
      ]
    },
    {
      "cell_type": "code",
      "metadata": {
        "id": "TAznVc9JNQzU",
        "colab_type": "code",
        "colab": {}
      },
      "source": [
        ""
      ],
      "execution_count": 0,
      "outputs": []
    }
  ]
}