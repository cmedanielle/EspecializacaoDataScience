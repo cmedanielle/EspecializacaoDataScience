{
  "nbformat": 4,
  "nbformat_minor": 0,
  "metadata": {
    "colab": {
      "name": "aula_sabado.ipynb",
      "provenance": [],
      "toc_visible": true,
      "include_colab_link": true
    },
    "kernelspec": {
      "name": "python3",
      "display_name": "Python 3"
    }
  },
  "cells": [
    {
      "cell_type": "markdown",
      "metadata": {
        "id": "view-in-github",
        "colab_type": "text"
      },
      "source": [
        "<a href=\"https://colab.research.google.com/github/cmedanielle/EspecializacaoDataScience/blob/master/aula_sabado.ipynb\" target=\"_parent\"><img src=\"https://colab.research.google.com/assets/colab-badge.svg\" alt=\"Open In Colab\"/></a>"
      ]
    },
    {
      "cell_type": "markdown",
      "metadata": {
        "id": "AUAmlW45Khr1",
        "colab_type": "text"
      },
      "source": [
        "# **DISCIPLINA - ESTATÍSTICA (SÁBADO)**"
      ]
    },
    {
      "cell_type": "markdown",
      "metadata": {
        "id": "ZSceV_Dk5DMl",
        "colab_type": "text"
      },
      "source": [
        "## **Antes de mais nada... algumas informações importantes sobre a montagem do ambiente**"
      ]
    },
    {
      "cell_type": "markdown",
      "metadata": {
        "id": "DaGcmyky5Klv",
        "colab_type": "text"
      },
      "source": [
        "Importando as libs necessárias"
      ]
    },
    {
      "cell_type": "code",
      "metadata": {
        "id": "nxADRBa65RA1",
        "colab_type": "code",
        "colab": {}
      },
      "source": [
        "import pandas as pd, numpy as np, scipy as sp, seaborn as sb"
      ],
      "execution_count": 0,
      "outputs": []
    },
    {
      "cell_type": "code",
      "metadata": {
        "id": "AY2Cxyx-5ZI1",
        "colab_type": "code",
        "colab": {}
      },
      "source": [
        "import statsmodels.api as sm"
      ],
      "execution_count": 0,
      "outputs": []
    },
    {
      "cell_type": "markdown",
      "metadata": {
        "id": "ix72ea9P55fu",
        "colab_type": "text"
      },
      "source": [
        "Se você tiver algum problema com a dependência do statsmodel:"
      ]
    },
    {
      "cell_type": "code",
      "metadata": {
        "id": "2aRFarlL59nw",
        "colab_type": "code",
        "colab": {}
      },
      "source": [
        "!pip install scipy==1.2 --upgrade"
      ],
      "execution_count": 0,
      "outputs": []
    },
    {
      "cell_type": "markdown",
      "metadata": {
        "id": "VaHtaI8h5u_O",
        "colab_type": "text"
      },
      "source": [
        "Lendos nossos dados"
      ]
    },
    {
      "cell_type": "code",
      "metadata": {
        "id": "OOvsCkr65x7T",
        "colab_type": "code",
        "colab": {}
      },
      "source": [
        "dados = pd.read_csv('dados.csv')"
      ],
      "execution_count": 0,
      "outputs": []
    },
    {
      "cell_type": "code",
      "metadata": {
        "id": "bnjDmUv-6OX2",
        "colab_type": "code",
        "colab": {}
      },
      "source": [
        "dados.head()"
      ],
      "execution_count": 0,
      "outputs": []
    },
    {
      "cell_type": "markdown",
      "metadata": {
        "id": "cMNsPctjKua9",
        "colab_type": "text"
      },
      "source": [
        "## 1. Introdução à Regressão Linear"
      ]
    },
    {
      "cell_type": "markdown",
      "metadata": {
        "id": "qAeBVa-S60NG",
        "colab_type": "text"
      },
      "source": [
        "*Não há outro lugar onde o nexo entre a estatística e a ciência de dados seja mais forte do que no tocante à previsão - especificamente, a previsão de uma variável resultante (alvo) baseada nos valores de outras variáveis preditoras*"
      ]
    },
    {
      "cell_type": "code",
      "metadata": {
        "id": "qQ4ax3qP_V6v",
        "colab_type": "code",
        "colab": {}
      },
      "source": [
        "dados_alunos = {\n",
        "\t'Nota' :      [20,34,30,15,35,81,47,87,99,43,72,31,12,53,2,55,100,0,97,46,84,57,62,83,65,24,99,96,76,79,99,50,82,73,93,87,76,84,75,33,35,30,74,87,56],\n",
        "\t'Presenca' : [23,36,34,23,42,90,57,90,100,54,81,36,14,66,8,64,100,0,100,47,88,63,65,89,68,29,99,100,80,86,100,53,83,80,95,89,80,89,77,35,37,40,75,92,70]\n",
        "}"
      ],
      "execution_count": 0,
      "outputs": []
    },
    {
      "cell_type": "code",
      "metadata": {
        "id": "sTMAHUun_c8U",
        "colab_type": "code",
        "colab": {}
      },
      "source": [
        "dataset = pd.DataFrame(dados_alunos)"
      ],
      "execution_count": 0,
      "outputs": []
    },
    {
      "cell_type": "code",
      "metadata": {
        "id": "BQ_Y_qAZ_pha",
        "colab_type": "code",
        "colab": {}
      },
      "source": [
        "dataset.shape[0]"
      ],
      "execution_count": 0,
      "outputs": []
    },
    {
      "cell_type": "code",
      "metadata": {
        "id": "GFGkz3KE_sn4",
        "colab_type": "code",
        "colab": {}
      },
      "source": [
        "dataset.describe()"
      ],
      "execution_count": 0,
      "outputs": []
    },
    {
      "cell_type": "code",
      "metadata": {
        "id": "hRkBDwk9AoGL",
        "colab_type": "code",
        "colab": {}
      },
      "source": [
        "ax = sb.boxplot(data = dataset, width=0.5)\n",
        "ax.fig.set_size_inches(12,6)\n",
        "ax.set_title('Boxplot dos dados dos alunos', fontsize = 16)\n",
        "ax"
      ],
      "execution_count": 0,
      "outputs": []
    },
    {
      "cell_type": "code",
      "metadata": {
        "id": "DPhcvSoz_zbI",
        "colab_type": "code",
        "colab": {}
      },
      "source": [
        "ax = sb.lmplot(x='Presenca', y = 'Nota', data = dataset)\n",
        "ax.fig.set_size_inches(12,6)\n",
        "ax.fig.suptitle('Gráfico de Regressão - Nota x Presença dos Alunos', fontsize = 16)\n",
        "ax.set_xlabels('Presença dos Alunos (%)', fontsize = 14)\n",
        "ax.set_ylabels('Notas dos Alunos', fontsize = 14)\n",
        "ax"
      ],
      "execution_count": 0,
      "outputs": []
    },
    {
      "cell_type": "code",
      "metadata": {
        "id": "DJ5jHTCOKmrJ",
        "colab_type": "code",
        "colab": {}
      },
      "source": [
        "dataset.corr()"
      ],
      "execution_count": 0,
      "outputs": []
    },
    {
      "cell_type": "markdown",
      "metadata": {
        "id": "8JHz6WYJBTfN",
        "colab_type": "text"
      },
      "source": [
        "https://www.statsmodels.org/stable/regression.html"
      ]
    },
    {
      "cell_type": "code",
      "metadata": {
        "id": "eTvj-PmIK1ip",
        "colab_type": "code",
        "colab": {}
      },
      "source": [
        "Y = dataset.Nota\n",
        "X = sm.add_constant(dataset.Presenca)"
      ],
      "execution_count": 0,
      "outputs": []
    },
    {
      "cell_type": "code",
      "metadata": {
        "id": "oxxetGj4BlFg",
        "colab_type": "code",
        "colab": {}
      },
      "source": [
        "Y.head()"
      ],
      "execution_count": 0,
      "outputs": []
    },
    {
      "cell_type": "code",
      "metadata": {
        "id": "YQ958jpIBoX8",
        "colab_type": "code",
        "colab": {}
      },
      "source": [
        "X.head()"
      ],
      "execution_count": 0,
      "outputs": []
    },
    {
      "cell_type": "markdown",
      "metadata": {
        "id": "cD6rY02YBwv9",
        "colab_type": "text"
      },
      "source": [
        "**Vamos estimar logo um modelo de regressão linear!**"
      ]
    },
    {
      "cell_type": "code",
      "metadata": {
        "id": "r2t6hgjwByg1",
        "colab_type": "code",
        "colab": {}
      },
      "source": [
        "resultado_regressao = sm.OLS(Y, X).fit()"
      ],
      "execution_count": 0,
      "outputs": []
    },
    {
      "cell_type": "code",
      "metadata": {
        "id": "ronuUu0HB3QG",
        "colab_type": "code",
        "colab": {}
      },
      "source": [
        "print(resultado_regressao.summary())"
      ],
      "execution_count": 0,
      "outputs": []
    },
    {
      "cell_type": "markdown",
      "metadata": {
        "id": "kfrlRboyCXTA",
        "colab_type": "text"
      },
      "source": [
        "**E vamos ver na prática como nosso modelo prevê valores, utilizando a própria amostra**"
      ]
    },
    {
      "cell_type": "code",
      "metadata": {
        "id": "Gv-eQ7bxCWoq",
        "colab_type": "code",
        "colab": {}
      },
      "source": [
        "dataset['Nota_Prevista'] = resultado_regressao.predict()\n",
        "dataset"
      ],
      "execution_count": 0,
      "outputs": []
    },
    {
      "cell_type": "markdown",
      "metadata": {
        "id": "lFe7iTWFhAGO",
        "colab_type": "text"
      },
      "source": [
        "### 1.1. Relembrando alguns conceitos importantes"
      ]
    },
    {
      "cell_type": "markdown",
      "metadata": {
        "id": "BZMysangDjAs",
        "colab_type": "text"
      },
      "source": [
        "**Relembrando covariância**"
      ]
    },
    {
      "cell_type": "markdown",
      "metadata": {
        "id": "rP4-h-IDFZ9a",
        "colab_type": "text"
      },
      "source": [
        "**Com a covariância, podemos verificar o tipo de relação entre variáveis**\n",
        "\n",
        "*   **Se o valor da covariância for positivo:** associação linear positiva entre X e Y (i.e., quando o valor de X aumentar, o valor de Y também irá aumentar; analogamente, quando o valor de X diminuir, o valor de Y também irá diminuir);\n",
        "*   **Se o valor da covariância for negativo:** associação linear negativa entre X e Y (i.e., quando o valor de X aumentar, o valor de Y tende a diminuir; quando o valor de X diminuir, o de Y tende a aumentar).\n",
        "\n"
      ]
    },
    {
      "cell_type": "markdown",
      "metadata": {
        "id": "IZL2TwVjiLUW",
        "colab_type": "text"
      },
      "source": [
        "![alt text](https://acadgild.com/blog/wp-content/uploads/2018/09/Covariance-and-Correlation.jpg)"
      ]
    },
    {
      "cell_type": "code",
      "metadata": {
        "id": "3TCQO9GnEqTg",
        "colab_type": "code",
        "colab": {}
      },
      "source": [
        "dataset[['Nota', 'Presenca']].cov()"
      ],
      "execution_count": 0,
      "outputs": []
    },
    {
      "cell_type": "code",
      "metadata": {
        "id": "FK7OQQr-GSgV",
        "colab_type": "code",
        "colab": {}
      },
      "source": [
        "x = dataset.Presenca\n",
        "y = dataset.Nota\n",
        "\n",
        "ax = sb.scatterplot(x, y)\n",
        "ax.figure.set_size_inches(10,5)\n",
        "ax.hlines(y = y.mean(), xmin = x.min(), xmax = x.max())\n",
        "ax.vlines(x = x.mean(), ymin = y.min(), ymax = y.max())\n",
        "ax"
      ],
      "execution_count": 0,
      "outputs": []
    },
    {
      "cell_type": "code",
      "metadata": {
        "id": "iH3fqfoHH-b1",
        "colab_type": "code",
        "colab": {}
      },
      "source": [
        "amostra = dados.query('Renda < 5000').sample(n = 20, random_state = 101)"
      ],
      "execution_count": 0,
      "outputs": []
    },
    {
      "cell_type": "code",
      "metadata": {
        "id": "H9c7_6scKODU",
        "colab_type": "code",
        "colab": {}
      },
      "source": [
        "amostra.cov()"
      ],
      "execution_count": 0,
      "outputs": []
    },
    {
      "cell_type": "code",
      "metadata": {
        "id": "FcMvTQVIHzPv",
        "colab_type": "code",
        "colab": {}
      },
      "source": [
        "x = amostra.Idade\n",
        "y = amostra.Renda\n",
        "\n",
        "ax = sb.scatterplot(x, y)\n",
        "ax.figure.set_size_inches(10,5)\n",
        "ax.hlines(y = y.mean(), xmin = x.min(), xmax = x.max())\n",
        "ax.vlines(x = x.mean(), ymin = y.min(), ymax = y.max())"
      ],
      "execution_count": 0,
      "outputs": []
    },
    {
      "cell_type": "code",
      "metadata": {
        "id": "nPF8tpvtI60j",
        "colab_type": "code",
        "colab": {}
      },
      "source": [
        "x = amostra.Idade\n",
        "y = amostra.Altura\n",
        "\n",
        "ax = sb.scatterplot(x, y)\n",
        "ax.figure.set_size_inches(16,5)\n",
        "ax.hlines(y = y.mean(), xmin = x.min(), xmax = x.max())\n",
        "ax.vlines(x = x.mean(), ymin = y.min(), ymax = y.max())"
      ],
      "execution_count": 0,
      "outputs": []
    },
    {
      "cell_type": "markdown",
      "metadata": {
        "id": "uOhcERVbjYqH",
        "colab_type": "text"
      },
      "source": [
        "Analisar a covariância pode ser problemático, pois ela depende da unidade de medida das variáveis estudadas."
      ]
    },
    {
      "cell_type": "markdown",
      "metadata": {
        "id": "7iEqHdPdLv45",
        "colab_type": "text"
      },
      "source": [
        "### 1.2. Coeficiente de correlação de Pearson"
      ]
    },
    {
      "cell_type": "markdown",
      "metadata": {
        "id": "LNJwL3-JijJP",
        "colab_type": "text"
      },
      "source": [
        "Mede o grau da correlação (e a direção dessa correlação - se positiva ou negativa) entre duas variáveis.\n",
        "\n",
        "*   Normalmente representado por $\\rho$;\n",
        "*   Pode assumir apenas valores entre -1 e 1.\n",
        "*   Quando $\\rho = 1$: há uma correlação perfeita positiva entre as duas variáveis;\n",
        "*   Quando $\\rho = -1$: há uma correlação negativa perfeita entre as duas variáveis;\n",
        "*   Quando $\\rho =0$: as duas variáveis não dependem linearmente uma da outra. No entanto, pode existir uma dependência não linear. Assim, dado este resultado, deve-se aprofundar a investigação."
      ]
    },
    {
      "cell_type": "markdown",
      "metadata": {
        "id": "SGkgXJd2LzR2",
        "colab_type": "text"
      },
      "source": [
        "*Observação importante!!!*\n",
        "\n",
        "Não confundir associação entre variáveis com causalidade! Uma correlação forte entre duas variáveis pode não significar que variações em uma delas provocará variações na outra!"
      ]
    },
    {
      "cell_type": "code",
      "metadata": {
        "id": "gJ-fKEdKMXhq",
        "colab_type": "code",
        "colab": {}
      },
      "source": [
        "dataset.corr().round(2)"
      ],
      "execution_count": 0,
      "outputs": []
    },
    {
      "cell_type": "code",
      "metadata": {
        "id": "6xuj8WKmjkFL",
        "colab_type": "code",
        "colab": {}
      },
      "source": [
        "matriz_correlacao = dados.corr().round(2)"
      ],
      "execution_count": 0,
      "outputs": []
    },
    {
      "cell_type": "code",
      "metadata": {
        "id": "CJpIP58Q5zG9",
        "colab_type": "code",
        "colab": {}
      },
      "source": [
        "sb.heatmap(data = matriz_correlacao, annot = True)"
      ],
      "execution_count": 0,
      "outputs": []
    },
    {
      "cell_type": "markdown",
      "metadata": {
        "id": "4KlgTY7Mkvhf",
        "colab_type": "text"
      },
      "source": [
        "## 2. Conhecendo e Interpretando a Equação de Regressão"
      ]
    },
    {
      "cell_type": "markdown",
      "metadata": {
        "id": "cZGxu8H9jxPq",
        "colab_type": "text"
      },
      "source": [
        "**Regressão linear modela o relacionamento entre a magnitude de uma variável (variável dependente) e uma segunda variável (variável independente).**\n",
        "\n",
        "*Ponto interessante:*\n",
        "\n",
        "Enquanto a correlação mede a força da associação entre variáveis, a regressão linear quantifica a natureza deste relacionamento."
      ]
    },
    {
      "cell_type": "markdown",
      "metadata": {
        "id": "yYV2-O3GkVAN",
        "colab_type": "text"
      },
      "source": [
        "> Y = Variável Dependente ou Prevista\n",
        "\n",
        "> X = Variável Independente ou Característica\n"
      ]
    },
    {
      "cell_type": "markdown",
      "metadata": {
        "id": "VQjXRnOWlBg2",
        "colab_type": "text"
      },
      "source": [
        "EQUAÇÃO DE REGRESSÃO\n",
        "\n",
        "$Y_i = \\beta_0 + \\beta_1X_i$,\n",
        "\n",
        "em que: \n",
        "\n",
        "* $Y_i$ é a variável dependente, que pretendemos prever;\n",
        "* $X_i$ é variável independente\n",
        "* $\\beta_0$ é  intercepto (interceptor da linha de regressão, i.e., valor previsto quando $X_i = 0$);\n",
        "* $\\beta_1$ é o coefiente angular (o declive da linha de regressão)."
      ]
    },
    {
      "cell_type": "markdown",
      "metadata": {
        "id": "WbcHnbrrnM8i",
        "colab_type": "text"
      },
      "source": [
        "No final das contas, estamos tentando prever a variável Y a partir de X usando um relacionamento linear (i.e., uma linha)."
      ]
    },
    {
      "cell_type": "markdown",
      "metadata": {
        "id": "t3qVgZMrKydV",
        "colab_type": "text"
      },
      "source": [
        "## 3. Regressão Linear Simples"
      ]
    },
    {
      "cell_type": "markdown",
      "metadata": {
        "id": "-Hl6KQOgm1Bt",
        "colab_type": "text"
      },
      "source": [
        "Em uma análise de regressão linear simples, estimamos uma função de regressão de forma a estimar os valores dos parâmetros $\\beta_0$ e $\\beta_1$ com base nas observações de $Y$ e $X$."
      ]
    },
    {
      "cell_type": "code",
      "metadata": {
        "id": "stn7hT6DOBfs",
        "colab_type": "code",
        "colab": {}
      },
      "source": [
        "ax = sb.lmplot(x='Presenca', y = 'Nota', data = dataset)\n",
        "ax.fig.set_size_inches(12,6)\n",
        "ax.fig.suptitle('Gráfico de Regressão - Nota x Presença dos Alunos', fontsize = 16)\n",
        "ax.set_xlabels('Presença dos Alunos (%)', fontsize = 14)\n",
        "ax.set_ylabels('Notas dos Alunos', fontsize = 14)\n",
        "ax"
      ],
      "execution_count": 0,
      "outputs": []
    },
    {
      "cell_type": "code",
      "metadata": {
        "id": "ebajq9eqOQkf",
        "colab_type": "code",
        "colab": {}
      },
      "source": [
        "dataset.corr()"
      ],
      "execution_count": 0,
      "outputs": []
    },
    {
      "cell_type": "markdown",
      "metadata": {
        "id": "y04wajlQmD2T",
        "colab_type": "text"
      },
      "source": [
        "![alt text](https://slideplayer.com.br/slide/49939/1/images/9/Modelo+de+Regress%C3%A3o+Linear+mais+simples+%21%21.jpg)"
      ]
    },
    {
      "cell_type": "markdown",
      "metadata": {
        "id": "NC2dJjcRPekJ",
        "colab_type": "text"
      },
      "source": [
        "**Precisamos entender alguns conceitos para compreender melhor a equação de regressão.**"
      ]
    },
    {
      "cell_type": "markdown",
      "metadata": {
        "id": "2A17Zb87Oczo",
        "colab_type": "text"
      },
      "source": [
        "*   O erro ou resíduo é obtido quando utilizamos o modelo linear estimado (i.e., a reta) pra estimar um valor, pois, em geral, os dados quase nunca ficam exatamente em cima da reta. Por isso, devemos adicionar o erro (resíduo) à equação de regressão;\n"
      ]
    },
    {
      "cell_type": "markdown",
      "metadata": {
        "id": "4KXOTJ02oCEP",
        "colab_type": "text"
      },
      "source": [
        "*   Os valores ajustados, também chamados de valores previstos, são geralmente denotados por Y-chapéu."
      ]
    },
    {
      "cell_type": "markdown",
      "metadata": {
        "id": "BCyM_J58oYxM",
        "colab_type": "text"
      },
      "source": [
        "**Esquação de Regressão com Valores Ajustados**\n",
        "\n",
        "$Y_i = \\hat{\\beta}_1 + \\hat{\\beta}_2X_i + \\hat{u}_i$\n",
        "\n",
        "Cálculo dos resíduos:\n",
        "\n",
        "$\\hat{u}_i = Y_i - \\hat{Y}_i$,\n",
        "\n",
        "em que $\\hat{Y}_i$ é o valor estimado de $Y_i$."
      ]
    },
    {
      "cell_type": "markdown",
      "metadata": {
        "id": "KGNkrPc4o1Zd",
        "colab_type": "text"
      },
      "source": [
        "### 2.1. Método de Mínimos Quadrados (ou Mínimos Quadrados Ordinários)"
      ]
    },
    {
      "cell_type": "markdown",
      "metadata": {
        "id": "RvTiDMWFPnjf",
        "colab_type": "text"
      },
      "source": [
        "*Falamos em ajustes... então, como ajustamos o modelo aos dados?*\n",
        "\n",
        "Como não podemos obter a função de regressão da população (FRP) de forma direta, usamos a função de regressão amostral (FRA), descrita anteriormente."
      ]
    },
    {
      "cell_type": "markdown",
      "metadata": {
        "id": "unLAvKE3pHGJ",
        "colab_type": "text"
      },
      "source": [
        "Na prática, a linha de regressão é a estimativa que minimiza a soma dos valores quadrados dos resíduos (RSS)."
      ]
    },
    {
      "cell_type": "markdown",
      "metadata": {
        "id": "RLEOHSlupV0o",
        "colab_type": "text"
      },
      "source": [
        "Esperamos que a soma dos erros (resíduos) seja ser a menor possível, sim?\n",
        "\n",
        "O critério de minimização da soma dos resíduos assume que todos os resíduos tem o mesmo peso no somatório, o que nem sempre se comprova. É possível que existam resíduos bem mais afastados da linha gerada pela equação de regressão. Isso pode acarretar em uma soma dos resíduos bem pequena, podendo até ser nula, mesmo que os resíduos estejam muito dispersos em relação a reta de regressão.\n",
        "\n",
        "Para evitar este problema, podemos utilizar o **Método de Mínimos Quadrados**. Nele, elevamos ao quadrado os resíduos, o que retira o problema de valores de resíduos negativos.\n"
      ]
    },
    {
      "cell_type": "code",
      "metadata": {
        "id": "F_U1NR8IQ3VG",
        "colab_type": "code",
        "colab": {}
      },
      "source": [
        "Y = dataset.Nota\n",
        "X = sm.add_constant(dataset.Presenca)"
      ],
      "execution_count": 0,
      "outputs": []
    },
    {
      "cell_type": "markdown",
      "metadata": {
        "id": "3osdEOaZRrwQ",
        "colab_type": "text"
      },
      "source": [
        "**Modelo estimado**"
      ]
    },
    {
      "cell_type": "code",
      "metadata": {
        "id": "K-9cok5qRTKm",
        "colab_type": "code",
        "colab": {}
      },
      "source": [
        "resultado_regressao = sm.OLS(Y, X, missing='drop').fit()"
      ],
      "execution_count": 0,
      "outputs": []
    },
    {
      "cell_type": "code",
      "metadata": {
        "id": "2jLLCNZUR_zF",
        "colab_type": "code",
        "colab": {}
      },
      "source": [
        "resultado_regressao.params"
      ],
      "execution_count": 0,
      "outputs": []
    },
    {
      "cell_type": "code",
      "metadata": {
        "id": "GJCceaItSMvT",
        "colab_type": "code",
        "colab": {}
      },
      "source": [
        "beta_0 = resultado_regressao.params[0]\n",
        "beta_0"
      ],
      "execution_count": 0,
      "outputs": []
    },
    {
      "cell_type": "code",
      "metadata": {
        "id": "lp2T5NwqSeI5",
        "colab_type": "code",
        "colab": {}
      },
      "source": [
        "beta_1 = resultado_regressao.params[1]\n",
        "beta_1"
      ],
      "execution_count": 0,
      "outputs": []
    },
    {
      "cell_type": "markdown",
      "metadata": {
        "id": "xZNs2rHPTCas",
        "colab_type": "text"
      },
      "source": [
        "Os valores dos betas precisam estar dentro do intervalo de confiança definido para nossa variável de interesse."
      ]
    },
    {
      "cell_type": "code",
      "metadata": {
        "id": "rX2K2wiDSkx0",
        "colab_type": "code",
        "colab": {
          "base_uri": "https://localhost:8080/",
          "height": 110
        },
        "outputId": "9d9b52ae-7446-4bc0-e4a8-605ddb216711"
      },
      "source": [
        "resultado_regressao.conf_int(alpha = 0.05)"
      ],
      "execution_count": 15,
      "outputs": [
        {
          "output_type": "execute_result",
          "data": {
            "text/html": [
              "<div>\n",
              "<style scoped>\n",
              "    .dataframe tbody tr th:only-of-type {\n",
              "        vertical-align: middle;\n",
              "    }\n",
              "\n",
              "    .dataframe tbody tr th {\n",
              "        vertical-align: top;\n",
              "    }\n",
              "\n",
              "    .dataframe thead th {\n",
              "        text-align: right;\n",
              "    }\n",
              "</style>\n",
              "<table border=\"1\" class=\"dataframe\">\n",
              "  <thead>\n",
              "    <tr style=\"text-align: right;\">\n",
              "      <th></th>\n",
              "      <th>0</th>\n",
              "      <th>1</th>\n",
              "    </tr>\n",
              "  </thead>\n",
              "  <tbody>\n",
              "    <tr>\n",
              "      <th>const</th>\n",
              "      <td>-7.981022</td>\n",
              "      <td>-2.597703</td>\n",
              "    </tr>\n",
              "    <tr>\n",
              "      <th>Presenca</th>\n",
              "      <td>0.971918</td>\n",
              "      <td>1.047912</td>\n",
              "    </tr>\n",
              "  </tbody>\n",
              "</table>\n",
              "</div>"
            ],
            "text/plain": [
              "                 0         1\n",
              "const    -7.981022 -2.597703\n",
              "Presenca  0.971918  1.047912"
            ]
          },
          "metadata": {
            "tags": []
          },
          "execution_count": 15
        }
      ]
    },
    {
      "cell_type": "markdown",
      "metadata": {
        "id": "_m3ZQgjuTY-x",
        "colab_type": "text"
      },
      "source": [
        "Previsões utilizando a própria amostra"
      ]
    },
    {
      "cell_type": "code",
      "metadata": {
        "id": "UJPRwLgKTa_t",
        "colab_type": "code",
        "colab": {}
      },
      "source": [
        "dataset['Nota_Prevista'] = beta_0 + beta_1 * dataset.Presenca\n",
        "dataset.head(15)"
      ],
      "execution_count": 0,
      "outputs": []
    },
    {
      "cell_type": "markdown",
      "metadata": {
        "id": "5c2f0Sr9UJlF",
        "colab_type": "text"
      },
      "source": [
        "Com o statmodels"
      ]
    },
    {
      "cell_type": "code",
      "metadata": {
        "id": "KxOTVXXKULiC",
        "colab_type": "code",
        "colab": {}
      },
      "source": [
        "dataset['Nota_Prevista_StatsModels'] = resultado_regressao.predict()\n",
        "dataset.head(15)"
      ],
      "execution_count": 0,
      "outputs": []
    },
    {
      "cell_type": "markdown",
      "metadata": {
        "id": "iPuuONEBUdOu",
        "colab_type": "text"
      },
      "source": [
        "E agora fora da amostra"
      ]
    },
    {
      "cell_type": "code",
      "metadata": {
        "id": "WFQDPmkWUexu",
        "colab_type": "code",
        "colab": {}
      },
      "source": [
        "dataset.drop('Nota_Prevista_StatsModels', axis = 1, inplace = True)\n",
        "dataset.head(15)"
      ],
      "execution_count": 0,
      "outputs": []
    },
    {
      "cell_type": "code",
      "metadata": {
        "id": "6CJvU8ilU-sR",
        "colab_type": "code",
        "colab": {}
      },
      "source": [
        "resultado_regressao.predict([1, 75])"
      ],
      "execution_count": 0,
      "outputs": []
    },
    {
      "cell_type": "markdown",
      "metadata": {
        "id": "8TZdFsAdWI8Q",
        "colab_type": "text"
      },
      "source": [
        "**Verificando os resíduos**"
      ]
    },
    {
      "cell_type": "code",
      "metadata": {
        "id": "0AWgzB6EWT9R",
        "colab_type": "code",
        "colab": {}
      },
      "source": [
        "dataset['Residuos'] = resultado_regressao.resid\n",
        "dataset.head(15)"
      ],
      "execution_count": 0,
      "outputs": []
    },
    {
      "cell_type": "markdown",
      "metadata": {
        "id": "Cv7qVM2LW7YA",
        "colab_type": "text"
      },
      "source": [
        "Suposições dos resíduos:\n",
        "\n",
        "1. o resíduo é uma variável aleatória com média igual a zero (ou muito próxima)"
      ]
    },
    {
      "cell_type": "code",
      "metadata": {
        "id": "U-t5wflSW4Ki",
        "colab_type": "code",
        "colab": {}
      },
      "source": [
        "dataset.Residuos.mean()"
      ],
      "execution_count": 0,
      "outputs": []
    },
    {
      "cell_type": "markdown",
      "metadata": {
        "id": "zV8K_XE6rlD3",
        "colab_type": "text"
      },
      "source": [
        "2. Os valores dos resíduos são independentes"
      ]
    },
    {
      "cell_type": "code",
      "metadata": {
        "id": "TH2mJ0yQXMx6",
        "colab_type": "code",
        "colab": {}
      },
      "source": [
        "ax = sb.scatterplot(x = dataset.Presenca, y=dataset.Residuos)\n",
        "ax.figure.set_size_inches(10,5)\n",
        "ax.set_title('Resíduos x Variável Independente (Presença)')\n",
        "ax"
      ],
      "execution_count": 0,
      "outputs": []
    },
    {
      "cell_type": "markdown",
      "metadata": {
        "id": "kvW_j0u7rvJG",
        "colab_type": "text"
      },
      "source": [
        "3. A variância dos resíduos é a mesma para todos os valores de X\n",
        "4. O resíduo é uma variável aleatória normalmente distribuída"
      ]
    },
    {
      "cell_type": "code",
      "metadata": {
        "id": "NkAOPgL_YhgX",
        "colab_type": "code",
        "colab": {}
      },
      "source": [
        "ax = sb.scatterplot(x = dataset.Nota_Prevista, y=dataset.Residuos**2)\n",
        "ax.figure.set_size_inches(8,5)\n",
        "ax.set_title('Resíduos x Variável Independente (Presença)')\n",
        "ax"
      ],
      "execution_count": 0,
      "outputs": []
    },
    {
      "cell_type": "markdown",
      "metadata": {
        "id": "oWQLQU7AYo5J",
        "colab_type": "text"
      },
      "source": [
        "![alt text](https://image.slidesharecdn.com/06-tpico5-heterocedasticidade-130213191813-phpapp01/95/06-tpico-5-heterocedasticidade-32-1024.jpg?cb=1421611027)"
      ]
    },
    {
      "cell_type": "markdown",
      "metadata": {
        "id": "yUfkm1m_Y62E",
        "colab_type": "text"
      },
      "source": [
        "**Lembrete Importante!**\n",
        "\n",
        "Homocedasticidade: termo usado para designar variância constante dos erros experimentais para observações distintas.\n",
        "\n",
        "Na figura, (a) sugere que há homocedasticidade dos dados; enquanto os demais sugerem que a variância dos erros não é constante."
      ]
    },
    {
      "cell_type": "markdown",
      "metadata": {
        "id": "JVkaO3RnsQ6W",
        "colab_type": "text"
      },
      "source": [
        "### 2.2. Coeficiente de Determinação ($R^2$)"
      ]
    },
    {
      "cell_type": "markdown",
      "metadata": {
        "id": "txhnOEtzZlV-",
        "colab_type": "text"
      },
      "source": [
        "Valor que varia entre 0 e 1 e nos diz o quanto a equação de regressão amostral representa os dados. Isto é, informa quão bem o modelo gerado acomoda os dados."
      ]
    },
    {
      "cell_type": "markdown",
      "metadata": {
        "id": "3dmmeTsmaFV7",
        "colab_type": "text"
      },
      "source": [
        "**SQE:** Soma dos Quadrados dos Erros - representa o erro observado quando usamos o $\\hat{Y}$ para estimar o $Y$"
      ]
    },
    {
      "cell_type": "markdown",
      "metadata": {
        "id": "JjyXk92a-Cet",
        "colab_type": "text"
      },
      "source": [
        "$SQE = \\sum{(Y_i - \\hat{Y}_i)^2}$"
      ]
    },
    {
      "cell_type": "code",
      "metadata": {
        "id": "PrrxeWSAay9m",
        "colab_type": "code",
        "colab": {}
      },
      "source": [
        "sqe = resultado_regressao.ssr\n",
        "sqe"
      ],
      "execution_count": 0,
      "outputs": []
    },
    {
      "cell_type": "markdown",
      "metadata": {
        "id": "wSSG4zwSaSPp",
        "colab_type": "text"
      },
      "source": [
        "**SQT:** Soma dos Quadrados Total - representa o erro quando utilizamos a média do $\\hat{Y}$ para estimar o $Y$"
      ]
    },
    {
      "cell_type": "markdown",
      "metadata": {
        "id": "ZN8FvaQ0-Mhj",
        "colab_type": "text"
      },
      "source": [
        "$SQT = \\sum{(Y_i - \\bar{Y})^2}$"
      ]
    },
    {
      "cell_type": "code",
      "metadata": {
        "id": "Hi_5W4dW8uBG",
        "colab_type": "code",
        "colab": {}
      },
      "source": [
        "SQT = (dataset.Nota.apply(lambda y : dataset.Nota.mean())**2).sum()\n",
        "SQT"
      ],
      "execution_count": 0,
      "outputs": []
    },
    {
      "cell_type": "markdown",
      "metadata": {
        "id": "cQVPgEB9aeJR",
        "colab_type": "text"
      },
      "source": [
        "**SQR:** Soma dos Quadrados da Regressão - representa o quanto o valor estimado $\\hat{Y}$ se afasta da média."
      ]
    },
    {
      "cell_type": "markdown",
      "metadata": {
        "id": "h-2KncZq-arT",
        "colab_type": "text"
      },
      "source": [
        "$SQR = \\sum{(\\hat{Y}_i - \\bar{Y})^2}$"
      ]
    },
    {
      "cell_type": "markdown",
      "metadata": {
        "id": "A7faNTsY_ndx",
        "colab_type": "text"
      },
      "source": [
        "![alt text](https://slideplayer.com.br/slide/3753095/12/images/22/Somas+de+quadrados+%3D+%2B+SQT+varia%C3%A7%C3%A3o+total+SQR+varia%C3%A7%C3%A3o+explicada.jpg)"
      ]
    },
    {
      "cell_type": "code",
      "metadata": {
        "id": "Dv0HZR_QbTsf",
        "colab_type": "code",
        "colab": {}
      },
      "source": [
        "sqr = resultado_regressao.ess\n",
        "sqr"
      ],
      "execution_count": 0,
      "outputs": []
    },
    {
      "cell_type": "markdown",
      "metadata": {
        "id": "YngYiqwDtQb6",
        "colab_type": "text"
      },
      "source": [
        "No final,"
      ]
    },
    {
      "cell_type": "markdown",
      "metadata": {
        "id": "SsHhl9SObtXa",
        "colab_type": "text"
      },
      "source": [
        "$R^2 = SQR/SQT$"
      ]
    },
    {
      "cell_type": "code",
      "metadata": {
        "id": "GekGLsNQOZoC",
        "colab_type": "code",
        "colab": {}
      },
      "source": [
        "resultado_regressao.rsquared"
      ],
      "execution_count": 0,
      "outputs": []
    },
    {
      "cell_type": "code",
      "metadata": {
        "id": "K3eB753fK7R-",
        "colab_type": "code",
        "colab": {}
      },
      "source": [
        "print(resultado_regressao.summary())"
      ],
      "execution_count": 0,
      "outputs": []
    },
    {
      "cell_type": "markdown",
      "metadata": {
        "id": "OSuBP56mb5Vm",
        "colab_type": "text"
      },
      "source": [
        "Quanto mais próximo de 1 for o valor do $R^2$, mais ajustado está o modelo aos dados.\n",
        "\n",
        "E quanto mais perto do 0, mais imperfeito ele será (i.e., quanto mais o SQR se aproxima mais do valor 0)."
      ]
    },
    {
      "cell_type": "markdown",
      "metadata": {
        "id": "3Dlz9oXPcMU2",
        "colab_type": "text"
      },
      "source": [
        "**Observação importante:**\n",
        "\n",
        "Apesar de indicar fortes indícios, somente analisando o $R^2$ não é possível tirar conclusões definitivas de que $Y$ é ou não estatisticamente significante. É preciso uma análise mais profunda para se certificar disso, utilizando testes de hipóteses e análise de outros parâmetros.\n",
        "\n",
        "Porém, em muitos casos, os cientistas de dados não se envolvem com a interpretação dessas estatísticas, nem com a questão de significância estatística."
      ]
    },
    {
      "cell_type": "markdown",
      "metadata": {
        "id": "YrHjxW3vK7yL",
        "colab_type": "text"
      },
      "source": [
        "## 4. REGRESSÃO LINEAR MÚLTIPLA"
      ]
    },
    {
      "cell_type": "markdown",
      "metadata": {
        "id": "QVII1WPRuc4a",
        "colab_type": "text"
      },
      "source": [
        "EQUAÇÃO DE REGRESSÃO MÚLTIPLA\n",
        "\n",
        "$Y_i = \\beta_0 + \\beta_1X_1$ + $\\beta_2X_2$ + ... + $\\beta_iX_i$,\n",
        "\n",
        "Ou seja, quando existem múltiplas preditoras, a equação simplesmente se estende para comodá-las.\n",
        "\n",
        "Em vez de uma linha, agora temos um modelo linear (o relacionamento entre cada coeficiente e sua variável é linear)."
      ]
    },
    {
      "cell_type": "markdown",
      "metadata": {
        "id": "eWlFgBU3vJVP",
        "colab_type": "text"
      },
      "source": [
        "\n",
        "\n",
        "> Todos os outros conceitos em regressão linear simples, como ajustes por mínimos quadrados e a definição de valores ajustados e resíduos, se estendem à configuração da regressão linear múltipla.\n",
        "\n"
      ]
    },
    {
      "cell_type": "code",
      "metadata": {
        "id": "BePf6QVGLGbB",
        "colab_type": "code",
        "colab": {}
      },
      "source": [
        "from sklearn import linear_model"
      ],
      "execution_count": 0,
      "outputs": []
    },
    {
      "cell_type": "markdown",
      "metadata": {
        "id": "8PvLJd1bQOfS",
        "colab_type": "text"
      },
      "source": [
        "https://rstudio-pubs-static.s3.amazonaws.com/155304_cc51f448116744069664b35e7762999f.html"
      ]
    },
    {
      "cell_type": "code",
      "metadata": {
        "id": "BYnzIQxRvapR",
        "colab_type": "code",
        "colab": {}
      },
      "source": [
        "dados_regressao_multipla = pd.read_csv('kc_house_data.csv')"
      ],
      "execution_count": 0,
      "outputs": []
    },
    {
      "cell_type": "code",
      "metadata": {
        "id": "tUqJUUMIIcrs",
        "colab_type": "code",
        "colab": {}
      },
      "source": [
        "dados_regressao_multipla.head()"
      ],
      "execution_count": 0,
      "outputs": []
    },
    {
      "cell_type": "code",
      "metadata": {
        "id": "lXBiwb3Kva0B",
        "colab_type": "code",
        "colab": {}
      },
      "source": [
        "dados_regressao_multipla.corr()"
      ],
      "execution_count": 0,
      "outputs": []
    },
    {
      "cell_type": "code",
      "metadata": {
        "id": "EL0KFguOF6jn",
        "colab_type": "code",
        "colab": {}
      },
      "source": [
        "matriz_correlacao = dados_regressao_multipla.corr().round(2)\n",
        "sb.heatmap(data = matriz_correlacao)"
      ],
      "execution_count": 0,
      "outputs": []
    },
    {
      "cell_type": "code",
      "metadata": {
        "id": "ZEAG9YALJcbR",
        "colab_type": "code",
        "colab": {}
      },
      "source": [
        "X_preditores = dados_regressao_multipla[['bathrooms', 'bedrooms', 'sqft_living',\n",
        "                                         'grade', 'sqft_lot']]"
      ],
      "execution_count": 0,
      "outputs": []
    },
    {
      "cell_type": "code",
      "metadata": {
        "id": "u6cGO7ybNRBX",
        "colab_type": "code",
        "colab": {}
      },
      "source": [
        "X_preditores = sm.add_constant(X_preditores)"
      ],
      "execution_count": 0,
      "outputs": []
    },
    {
      "cell_type": "code",
      "metadata": {
        "id": "iFAOzpdoMDsX",
        "colab_type": "code",
        "colab": {}
      },
      "source": [
        "Y_target = dados_regressao_multipla.price"
      ],
      "execution_count": 0,
      "outputs": []
    },
    {
      "cell_type": "code",
      "metadata": {
        "id": "CTqkv0R8F6tW",
        "colab_type": "code",
        "colab": {}
      },
      "source": [
        "model = sm.OLS(Y_target, X_preditores).fit()\n",
        "print(model.summary())"
      ],
      "execution_count": 0,
      "outputs": []
    },
    {
      "cell_type": "markdown",
      "metadata": {
        "id": "O6U8EywFLHUC",
        "colab_type": "text"
      },
      "source": [
        "## 5. VARIÁVEIS FATORIAIS EM REGRESSÃO"
      ]
    },
    {
      "cell_type": "markdown",
      "metadata": {
        "id": "ZDBKMfXNwTlH",
        "colab_type": "text"
      },
      "source": [
        "Essas variáveis, também chamadas de variáveis categóricas, assumem um número limitado de valores discretos.\n",
        "\n",
        "Para utilizar variáveis fatoriais, geralmente a convertemos em um conjunto de variáveis binárias fictícias."
      ]
    },
    {
      "cell_type": "markdown",
      "metadata": {
        "id": "CKQqZFpsLL5h",
        "colab_type": "text"
      },
      "source": [
        "## 6. INVESTIGANDO OUTLIERS E VALORES INFLUENTES"
      ]
    },
    {
      "cell_type": "markdown",
      "metadata": {
        "id": "tEMz1Qk-wuF-",
        "colab_type": "text"
      },
      "source": [
        "**Outlier:** valor distante da maioria das outras observações.\n",
        "\n",
        "Na regressão, especificamente, um outlier é um registro cujo valor Y real é distante dos valores previstos.\n",
        "\n",
        "*E como identificamos outliers?*\n",
        "\n",
        "Gráficos, estudo individual de valores da amostra ou, no caso de regressão, a partir da análise dos resíduos padronizados (resíduos divididos pelo erro-padrão dos resíduos). Essa é a métrica que costuma ser usada para determinar se um registro é classificado como um outlier.\n",
        "\n"
      ]
    },
    {
      "cell_type": "markdown",
      "metadata": {
        "id": "59lmOrTrxgMZ",
        "colab_type": "text"
      },
      "source": [
        "**Valores Influentes:** valor cuja ausência poderia alterar significantemente a equação de regressão.\n",
        "\n",
        "Em regressões envolvendo muitos registros, é incomum que qualquer observação traga peso suficiente para causar uma influência extrema na equação ajustada (apesar dela poder conter alguns grandes outliers)."
      ]
    }
  ]
}