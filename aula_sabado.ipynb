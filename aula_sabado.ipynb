{
  "nbformat": 4,
  "nbformat_minor": 0,
  "metadata": {
    "colab": {
      "name": "aula_sabado.ipynb",
      "provenance": [],
      "toc_visible": true,
      "include_colab_link": true
    },
    "kernelspec": {
      "name": "python3",
      "display_name": "Python 3"
    }
  },
  "cells": [
    {
      "cell_type": "markdown",
      "metadata": {
        "id": "view-in-github",
        "colab_type": "text"
      },
      "source": [
        "<a href=\"https://colab.research.google.com/github/cmedanielle/EspecializacaoDataScience/blob/master/aula_sabado.ipynb\" target=\"_parent\"><img src=\"https://colab.research.google.com/assets/colab-badge.svg\" alt=\"Open In Colab\"/></a>"
      ]
    },
    {
      "cell_type": "markdown",
      "metadata": {
        "id": "AUAmlW45Khr1",
        "colab_type": "text"
      },
      "source": [
        "# DISCIPLINA - ESTATÍSTICA (SÁBADO)"
      ]
    },
    {
      "cell_type": "markdown",
      "metadata": {
        "id": "ZSceV_Dk5DMl",
        "colab_type": "text"
      },
      "source": [
        "## **Antes de mais nada... algumas informações importantes sobre a montagem do ambiente**"
      ]
    },
    {
      "cell_type": "markdown",
      "metadata": {
        "id": "DaGcmyky5Klv",
        "colab_type": "text"
      },
      "source": [
        "Importando as libs necessárias"
      ]
    },
    {
      "cell_type": "code",
      "metadata": {
        "id": "nxADRBa65RA1",
        "colab_type": "code",
        "colab": {}
      },
      "source": [
        "import pandas as pd, numpy as np, scipy as sp, seaborn as sb"
      ],
      "execution_count": 0,
      "outputs": []
    },
    {
      "cell_type": "code",
      "metadata": {
        "id": "AY2Cxyx-5ZI1",
        "colab_type": "code",
        "colab": {}
      },
      "source": [
        "import statsmodels.api as sm"
      ],
      "execution_count": 0,
      "outputs": []
    },
    {
      "cell_type": "markdown",
      "metadata": {
        "id": "ix72ea9P55fu",
        "colab_type": "text"
      },
      "source": [
        "Se você tiver algum problema com a dependência do statsmodel:"
      ]
    },
    {
      "cell_type": "code",
      "metadata": {
        "id": "2aRFarlL59nw",
        "colab_type": "code",
        "colab": {}
      },
      "source": [
        "!pip install scipy==1.2 --upgrade"
      ],
      "execution_count": 0,
      "outputs": []
    },
    {
      "cell_type": "markdown",
      "metadata": {
        "id": "VaHtaI8h5u_O",
        "colab_type": "text"
      },
      "source": [
        "Lendos nossos dados"
      ]
    },
    {
      "cell_type": "code",
      "metadata": {
        "id": "OOvsCkr65x7T",
        "colab_type": "code",
        "colab": {}
      },
      "source": [
        "dados = pd.read_csv('kc_house_data.csv')"
      ],
      "execution_count": 0,
      "outputs": []
    },
    {
      "cell_type": "code",
      "metadata": {
        "id": "bnjDmUv-6OX2",
        "colab_type": "code",
        "colab": {}
      },
      "source": [
        "dados.head()"
      ],
      "execution_count": 0,
      "outputs": []
    },
    {
      "cell_type": "markdown",
      "metadata": {
        "id": "cMNsPctjKua9",
        "colab_type": "text"
      },
      "source": [
        "## 1. REGRESSÃO LINEAR"
      ]
    },
    {
      "cell_type": "markdown",
      "metadata": {
        "id": "qAeBVa-S60NG",
        "colab_type": "text"
      },
      "source": [
        ""
      ]
    },
    {
      "cell_type": "code",
      "metadata": {
        "id": "qQ4ax3qP_V6v",
        "colab_type": "code",
        "colab": {}
      },
      "source": [
        "dados_alunos = {\n",
        "\t'Nota' :      [20,34,30,15,35,81,47,87,99,43,72,31,12,53,2,55,100,0,97,46,84,57,62,53,65,24,99,96,76,79,99, 50,82,73,93,87,76,84,75,33,35,30,74,87,56],\n",
        "\t'Presenca' : [34,26,24,23,42,90,57,90,98,54,61,26,14,66,8,64,99,0,100,47,88,63,55,69,58,19,95,100,80,86,100,43,83,80,90,89,80,79,67,35,37,40,73,92,70]\n",
        "}"
      ],
      "execution_count": 0,
      "outputs": []
    },
    {
      "cell_type": "code",
      "metadata": {
        "id": "sTMAHUun_c8U",
        "colab_type": "code",
        "colab": {}
      },
      "source": [
        "dataset = pd.DataFrame(dados_alunos)"
      ],
      "execution_count": 0,
      "outputs": []
    },
    {
      "cell_type": "code",
      "metadata": {
        "id": "BQ_Y_qAZ_pha",
        "colab_type": "code",
        "colab": {}
      },
      "source": [
        "dataset.shape[0]"
      ],
      "execution_count": 0,
      "outputs": []
    },
    {
      "cell_type": "code",
      "metadata": {
        "id": "GFGkz3KE_sn4",
        "colab_type": "code",
        "colab": {}
      },
      "source": [
        "dataset.describe()"
      ],
      "execution_count": 0,
      "outputs": []
    },
    {
      "cell_type": "code",
      "metadata": {
        "id": "hRkBDwk9AoGL",
        "colab_type": "code",
        "colab": {}
      },
      "source": [
        "ax = sb.boxplot(data = dataset, width=0.5)\n",
        "ax.fig.set_size_inches(12,6)\n",
        "ax.set_title('Boxplot dos dados dos alunos', fontsize = 16)\n",
        "ax"
      ],
      "execution_count": 0,
      "outputs": []
    },
    {
      "cell_type": "code",
      "metadata": {
        "id": "DPhcvSoz_zbI",
        "colab_type": "code",
        "colab": {}
      },
      "source": [
        "ax = sb.lmplot(x='Presenca', y = 'Nota', data = dataset)\n",
        "ax.fig.set_size_inches(12,6)\n",
        "ax.fig.suptitle('Gráfico de Regressão - Nota x Presença dos Alunos', fontsize = 16)\n",
        "ax.set_xlabels('Presença dos Alunos (%)', fontsize = 14)\n",
        "ax.set_ylabels('Notas dos Alunos', fontsize = 14)\n",
        "ax"
      ],
      "execution_count": 0,
      "outputs": []
    },
    {
      "cell_type": "code",
      "metadata": {
        "id": "DJ5jHTCOKmrJ",
        "colab_type": "code",
        "colab": {
          "base_uri": "https://localhost:8080/",
          "height": 111
        },
        "outputId": "067a90ea-155f-4f0f-baaa-120cc18798ad"
      },
      "source": [
        "dataset.corr()"
      ],
      "execution_count": 31,
      "outputs": [
        {
          "output_type": "execute_result",
          "data": {
            "text/html": [
              "<div>\n",
              "<style scoped>\n",
              "    .dataframe tbody tr th:only-of-type {\n",
              "        vertical-align: middle;\n",
              "    }\n",
              "\n",
              "    .dataframe tbody tr th {\n",
              "        vertical-align: top;\n",
              "    }\n",
              "\n",
              "    .dataframe thead th {\n",
              "        text-align: right;\n",
              "    }\n",
              "</style>\n",
              "<table border=\"1\" class=\"dataframe\">\n",
              "  <thead>\n",
              "    <tr style=\"text-align: right;\">\n",
              "      <th></th>\n",
              "      <th>Nota</th>\n",
              "      <th>Presenca</th>\n",
              "    </tr>\n",
              "  </thead>\n",
              "  <tbody>\n",
              "    <tr>\n",
              "      <th>Nota</th>\n",
              "      <td>1.000000</td>\n",
              "      <td>0.972241</td>\n",
              "    </tr>\n",
              "    <tr>\n",
              "      <th>Presenca</th>\n",
              "      <td>0.972241</td>\n",
              "      <td>1.000000</td>\n",
              "    </tr>\n",
              "  </tbody>\n",
              "</table>\n",
              "</div>"
            ],
            "text/plain": [
              "              Nota  Presenca\n",
              "Nota      1.000000  0.972241\n",
              "Presenca  0.972241  1.000000"
            ]
          },
          "metadata": {
            "tags": []
          },
          "execution_count": 31
        }
      ]
    },
    {
      "cell_type": "markdown",
      "metadata": {
        "id": "t3qVgZMrKydV",
        "colab_type": "text"
      },
      "source": [
        "## 2. REGRESSÃO LINEAR SIMPLES"
      ]
    },
    {
      "cell_type": "markdown",
      "metadata": {
        "id": "8JHz6WYJBTfN",
        "colab_type": "text"
      },
      "source": [
        "https://www.statsmodels.org/stable/regression.html"
      ]
    },
    {
      "cell_type": "code",
      "metadata": {
        "id": "eTvj-PmIK1ip",
        "colab_type": "code",
        "colab": {}
      },
      "source": [
        "Y = dataset.Nota\n",
        "X = sm.add_constant(dataset.Presenca)"
      ],
      "execution_count": 0,
      "outputs": []
    },
    {
      "cell_type": "code",
      "metadata": {
        "id": "oxxetGj4BlFg",
        "colab_type": "code",
        "colab": {}
      },
      "source": [
        "Y.head()"
      ],
      "execution_count": 0,
      "outputs": []
    },
    {
      "cell_type": "code",
      "metadata": {
        "id": "YQ958jpIBoX8",
        "colab_type": "code",
        "colab": {
          "base_uri": "https://localhost:8080/",
          "height": 204
        },
        "outputId": "fdbb0fd5-bcc0-4db6-a74d-8f2c94ea6dfc"
      },
      "source": [
        "X.head()"
      ],
      "execution_count": 35,
      "outputs": [
        {
          "output_type": "execute_result",
          "data": {
            "text/html": [
              "<div>\n",
              "<style scoped>\n",
              "    .dataframe tbody tr th:only-of-type {\n",
              "        vertical-align: middle;\n",
              "    }\n",
              "\n",
              "    .dataframe tbody tr th {\n",
              "        vertical-align: top;\n",
              "    }\n",
              "\n",
              "    .dataframe thead th {\n",
              "        text-align: right;\n",
              "    }\n",
              "</style>\n",
              "<table border=\"1\" class=\"dataframe\">\n",
              "  <thead>\n",
              "    <tr style=\"text-align: right;\">\n",
              "      <th></th>\n",
              "      <th>const</th>\n",
              "      <th>Presenca</th>\n",
              "    </tr>\n",
              "  </thead>\n",
              "  <tbody>\n",
              "    <tr>\n",
              "      <th>0</th>\n",
              "      <td>1.0</td>\n",
              "      <td>34</td>\n",
              "    </tr>\n",
              "    <tr>\n",
              "      <th>1</th>\n",
              "      <td>1.0</td>\n",
              "      <td>26</td>\n",
              "    </tr>\n",
              "    <tr>\n",
              "      <th>2</th>\n",
              "      <td>1.0</td>\n",
              "      <td>24</td>\n",
              "    </tr>\n",
              "    <tr>\n",
              "      <th>3</th>\n",
              "      <td>1.0</td>\n",
              "      <td>23</td>\n",
              "    </tr>\n",
              "    <tr>\n",
              "      <th>4</th>\n",
              "      <td>1.0</td>\n",
              "      <td>42</td>\n",
              "    </tr>\n",
              "  </tbody>\n",
              "</table>\n",
              "</div>"
            ],
            "text/plain": [
              "   const  Presenca\n",
              "0    1.0        34\n",
              "1    1.0        26\n",
              "2    1.0        24\n",
              "3    1.0        23\n",
              "4    1.0        42"
            ]
          },
          "metadata": {
            "tags": []
          },
          "execution_count": 35
        }
      ]
    },
    {
      "cell_type": "markdown",
      "metadata": {
        "id": "cD6rY02YBwv9",
        "colab_type": "text"
      },
      "source": [
        "Estimar o modelo"
      ]
    },
    {
      "cell_type": "code",
      "metadata": {
        "id": "r2t6hgjwByg1",
        "colab_type": "code",
        "colab": {}
      },
      "source": [
        "resultado_regressao = sm.OLS(Y, X).fit()"
      ],
      "execution_count": 0,
      "outputs": []
    },
    {
      "cell_type": "code",
      "metadata": {
        "id": "ronuUu0HB3QG",
        "colab_type": "code",
        "colab": {
          "base_uri": "https://localhost:8080/",
          "height": 442
        },
        "outputId": "e1b41d04-72d8-4112-c050-485e06052e93"
      },
      "source": [
        "print(resultado_regressao.summary())"
      ],
      "execution_count": 38,
      "outputs": [
        {
          "output_type": "stream",
          "text": [
            "                            OLS Regression Results                            \n",
            "==============================================================================\n",
            "Dep. Variable:                   Nota   R-squared:                       0.945\n",
            "Model:                            OLS   Adj. R-squared:                  0.944\n",
            "Method:                 Least Squares   F-statistic:                     742.4\n",
            "Date:                Fri, 25 Oct 2019   Prob (F-statistic):           9.32e-29\n",
            "Time:                        03:49:02   Log-Likelihood:                -149.02\n",
            "No. Observations:                  45   AIC:                             302.0\n",
            "Df Residuals:                      43   BIC:                             305.6\n",
            "Df Model:                           1                                         \n",
            "Covariance Type:            nonrobust                                         \n",
            "==============================================================================\n",
            "                 coef    std err          t      P>|t|      [0.025      0.975]\n",
            "------------------------------------------------------------------------------\n",
            "const         -1.1961      2.455     -0.487      0.629      -6.146       3.754\n",
            "Presenca       0.9813      0.036     27.247      0.000       0.909       1.054\n",
            "==============================================================================\n",
            "Omnibus:                        1.689   Durbin-Watson:                   1.965\n",
            "Prob(Omnibus):                  0.430   Jarque-Bera (JB):                1.154\n",
            "Skew:                          -0.070   Prob(JB):                        0.562\n",
            "Kurtosis:                       2.228   Cond. No.                         165.\n",
            "==============================================================================\n",
            "\n",
            "Warnings:\n",
            "[1] Standard Errors assume that the covariance matrix of the errors is correctly specified.\n"
          ],
          "name": "stdout"
        }
      ]
    },
    {
      "cell_type": "markdown",
      "metadata": {
        "id": "kfrlRboyCXTA",
        "colab_type": "text"
      },
      "source": [
        "Obtendo previsões dentro da amostra"
      ]
    },
    {
      "cell_type": "code",
      "metadata": {
        "id": "Gv-eQ7bxCWoq",
        "colab_type": "code",
        "colab": {
          "base_uri": "https://localhost:8080/",
          "height": 1000
        },
        "outputId": "1ddeede7-d2b6-4bcb-f087-587b553133fb"
      },
      "source": [
        "dataset['Nota_Prevista'] = resultado_regressao.predict()\n",
        "dataset"
      ],
      "execution_count": 39,
      "outputs": [
        {
          "output_type": "execute_result",
          "data": {
            "text/html": [
              "<div>\n",
              "<style scoped>\n",
              "    .dataframe tbody tr th:only-of-type {\n",
              "        vertical-align: middle;\n",
              "    }\n",
              "\n",
              "    .dataframe tbody tr th {\n",
              "        vertical-align: top;\n",
              "    }\n",
              "\n",
              "    .dataframe thead th {\n",
              "        text-align: right;\n",
              "    }\n",
              "</style>\n",
              "<table border=\"1\" class=\"dataframe\">\n",
              "  <thead>\n",
              "    <tr style=\"text-align: right;\">\n",
              "      <th></th>\n",
              "      <th>Nota</th>\n",
              "      <th>Presenca</th>\n",
              "      <th>Nota_Prevista</th>\n",
              "    </tr>\n",
              "  </thead>\n",
              "  <tbody>\n",
              "    <tr>\n",
              "      <th>0</th>\n",
              "      <td>20</td>\n",
              "      <td>34</td>\n",
              "      <td>32.168994</td>\n",
              "    </tr>\n",
              "    <tr>\n",
              "      <th>1</th>\n",
              "      <td>34</td>\n",
              "      <td>26</td>\n",
              "      <td>24.318391</td>\n",
              "    </tr>\n",
              "    <tr>\n",
              "      <th>2</th>\n",
              "      <td>30</td>\n",
              "      <td>24</td>\n",
              "      <td>22.355740</td>\n",
              "    </tr>\n",
              "    <tr>\n",
              "      <th>3</th>\n",
              "      <td>15</td>\n",
              "      <td>23</td>\n",
              "      <td>21.374415</td>\n",
              "    </tr>\n",
              "    <tr>\n",
              "      <th>4</th>\n",
              "      <td>35</td>\n",
              "      <td>42</td>\n",
              "      <td>40.019597</td>\n",
              "    </tr>\n",
              "    <tr>\n",
              "      <th>5</th>\n",
              "      <td>81</td>\n",
              "      <td>90</td>\n",
              "      <td>87.123215</td>\n",
              "    </tr>\n",
              "    <tr>\n",
              "      <th>6</th>\n",
              "      <td>47</td>\n",
              "      <td>57</td>\n",
              "      <td>54.739478</td>\n",
              "    </tr>\n",
              "    <tr>\n",
              "      <th>7</th>\n",
              "      <td>87</td>\n",
              "      <td>90</td>\n",
              "      <td>87.123215</td>\n",
              "    </tr>\n",
              "    <tr>\n",
              "      <th>8</th>\n",
              "      <td>99</td>\n",
              "      <td>98</td>\n",
              "      <td>94.973818</td>\n",
              "    </tr>\n",
              "    <tr>\n",
              "      <th>9</th>\n",
              "      <td>43</td>\n",
              "      <td>54</td>\n",
              "      <td>51.795501</td>\n",
              "    </tr>\n",
              "    <tr>\n",
              "      <th>10</th>\n",
              "      <td>72</td>\n",
              "      <td>61</td>\n",
              "      <td>58.664779</td>\n",
              "    </tr>\n",
              "    <tr>\n",
              "      <th>11</th>\n",
              "      <td>31</td>\n",
              "      <td>26</td>\n",
              "      <td>24.318391</td>\n",
              "    </tr>\n",
              "    <tr>\n",
              "      <th>12</th>\n",
              "      <td>12</td>\n",
              "      <td>14</td>\n",
              "      <td>12.542487</td>\n",
              "    </tr>\n",
              "    <tr>\n",
              "      <th>13</th>\n",
              "      <td>53</td>\n",
              "      <td>66</td>\n",
              "      <td>63.571406</td>\n",
              "    </tr>\n",
              "    <tr>\n",
              "      <th>14</th>\n",
              "      <td>2</td>\n",
              "      <td>8</td>\n",
              "      <td>6.654535</td>\n",
              "    </tr>\n",
              "    <tr>\n",
              "      <th>15</th>\n",
              "      <td>55</td>\n",
              "      <td>64</td>\n",
              "      <td>61.608755</td>\n",
              "    </tr>\n",
              "    <tr>\n",
              "      <th>16</th>\n",
              "      <td>100</td>\n",
              "      <td>99</td>\n",
              "      <td>95.955143</td>\n",
              "    </tr>\n",
              "    <tr>\n",
              "      <th>17</th>\n",
              "      <td>0</td>\n",
              "      <td>0</td>\n",
              "      <td>-1.196068</td>\n",
              "    </tr>\n",
              "    <tr>\n",
              "      <th>18</th>\n",
              "      <td>97</td>\n",
              "      <td>100</td>\n",
              "      <td>96.936468</td>\n",
              "    </tr>\n",
              "    <tr>\n",
              "      <th>19</th>\n",
              "      <td>46</td>\n",
              "      <td>47</td>\n",
              "      <td>44.926224</td>\n",
              "    </tr>\n",
              "    <tr>\n",
              "      <th>20</th>\n",
              "      <td>84</td>\n",
              "      <td>88</td>\n",
              "      <td>85.160564</td>\n",
              "    </tr>\n",
              "    <tr>\n",
              "      <th>21</th>\n",
              "      <td>57</td>\n",
              "      <td>63</td>\n",
              "      <td>60.627430</td>\n",
              "    </tr>\n",
              "    <tr>\n",
              "      <th>22</th>\n",
              "      <td>62</td>\n",
              "      <td>55</td>\n",
              "      <td>52.776827</td>\n",
              "    </tr>\n",
              "    <tr>\n",
              "      <th>23</th>\n",
              "      <td>53</td>\n",
              "      <td>69</td>\n",
              "      <td>66.515382</td>\n",
              "    </tr>\n",
              "    <tr>\n",
              "      <th>24</th>\n",
              "      <td>65</td>\n",
              "      <td>58</td>\n",
              "      <td>55.720803</td>\n",
              "    </tr>\n",
              "    <tr>\n",
              "      <th>25</th>\n",
              "      <td>24</td>\n",
              "      <td>19</td>\n",
              "      <td>17.449114</td>\n",
              "    </tr>\n",
              "    <tr>\n",
              "      <th>26</th>\n",
              "      <td>99</td>\n",
              "      <td>95</td>\n",
              "      <td>92.029842</td>\n",
              "    </tr>\n",
              "    <tr>\n",
              "      <th>27</th>\n",
              "      <td>96</td>\n",
              "      <td>100</td>\n",
              "      <td>96.936468</td>\n",
              "    </tr>\n",
              "    <tr>\n",
              "      <th>28</th>\n",
              "      <td>76</td>\n",
              "      <td>80</td>\n",
              "      <td>77.309961</td>\n",
              "    </tr>\n",
              "    <tr>\n",
              "      <th>29</th>\n",
              "      <td>79</td>\n",
              "      <td>86</td>\n",
              "      <td>83.197913</td>\n",
              "    </tr>\n",
              "    <tr>\n",
              "      <th>30</th>\n",
              "      <td>99</td>\n",
              "      <td>100</td>\n",
              "      <td>96.936468</td>\n",
              "    </tr>\n",
              "    <tr>\n",
              "      <th>31</th>\n",
              "      <td>50</td>\n",
              "      <td>43</td>\n",
              "      <td>41.000922</td>\n",
              "    </tr>\n",
              "    <tr>\n",
              "      <th>32</th>\n",
              "      <td>82</td>\n",
              "      <td>83</td>\n",
              "      <td>80.253937</td>\n",
              "    </tr>\n",
              "    <tr>\n",
              "      <th>33</th>\n",
              "      <td>73</td>\n",
              "      <td>80</td>\n",
              "      <td>77.309961</td>\n",
              "    </tr>\n",
              "    <tr>\n",
              "      <th>34</th>\n",
              "      <td>93</td>\n",
              "      <td>90</td>\n",
              "      <td>87.123215</td>\n",
              "    </tr>\n",
              "    <tr>\n",
              "      <th>35</th>\n",
              "      <td>87</td>\n",
              "      <td>89</td>\n",
              "      <td>86.141889</td>\n",
              "    </tr>\n",
              "    <tr>\n",
              "      <th>36</th>\n",
              "      <td>76</td>\n",
              "      <td>80</td>\n",
              "      <td>77.309961</td>\n",
              "    </tr>\n",
              "    <tr>\n",
              "      <th>37</th>\n",
              "      <td>84</td>\n",
              "      <td>79</td>\n",
              "      <td>76.328636</td>\n",
              "    </tr>\n",
              "    <tr>\n",
              "      <th>38</th>\n",
              "      <td>75</td>\n",
              "      <td>67</td>\n",
              "      <td>64.552731</td>\n",
              "    </tr>\n",
              "    <tr>\n",
              "      <th>39</th>\n",
              "      <td>33</td>\n",
              "      <td>35</td>\n",
              "      <td>33.150320</td>\n",
              "    </tr>\n",
              "    <tr>\n",
              "      <th>40</th>\n",
              "      <td>35</td>\n",
              "      <td>37</td>\n",
              "      <td>35.112970</td>\n",
              "    </tr>\n",
              "    <tr>\n",
              "      <th>41</th>\n",
              "      <td>30</td>\n",
              "      <td>40</td>\n",
              "      <td>38.056946</td>\n",
              "    </tr>\n",
              "    <tr>\n",
              "      <th>42</th>\n",
              "      <td>74</td>\n",
              "      <td>73</td>\n",
              "      <td>70.440683</td>\n",
              "    </tr>\n",
              "    <tr>\n",
              "      <th>43</th>\n",
              "      <td>87</td>\n",
              "      <td>92</td>\n",
              "      <td>89.085865</td>\n",
              "    </tr>\n",
              "    <tr>\n",
              "      <th>44</th>\n",
              "      <td>56</td>\n",
              "      <td>70</td>\n",
              "      <td>67.496707</td>\n",
              "    </tr>\n",
              "  </tbody>\n",
              "</table>\n",
              "</div>"
            ],
            "text/plain": [
              "    Nota  Presenca  Nota_Prevista\n",
              "0     20        34      32.168994\n",
              "1     34        26      24.318391\n",
              "2     30        24      22.355740\n",
              "3     15        23      21.374415\n",
              "4     35        42      40.019597\n",
              "5     81        90      87.123215\n",
              "6     47        57      54.739478\n",
              "7     87        90      87.123215\n",
              "8     99        98      94.973818\n",
              "9     43        54      51.795501\n",
              "10    72        61      58.664779\n",
              "11    31        26      24.318391\n",
              "12    12        14      12.542487\n",
              "13    53        66      63.571406\n",
              "14     2         8       6.654535\n",
              "15    55        64      61.608755\n",
              "16   100        99      95.955143\n",
              "17     0         0      -1.196068\n",
              "18    97       100      96.936468\n",
              "19    46        47      44.926224\n",
              "20    84        88      85.160564\n",
              "21    57        63      60.627430\n",
              "22    62        55      52.776827\n",
              "23    53        69      66.515382\n",
              "24    65        58      55.720803\n",
              "25    24        19      17.449114\n",
              "26    99        95      92.029842\n",
              "27    96       100      96.936468\n",
              "28    76        80      77.309961\n",
              "29    79        86      83.197913\n",
              "30    99       100      96.936468\n",
              "31    50        43      41.000922\n",
              "32    82        83      80.253937\n",
              "33    73        80      77.309961\n",
              "34    93        90      87.123215\n",
              "35    87        89      86.141889\n",
              "36    76        80      77.309961\n",
              "37    84        79      76.328636\n",
              "38    75        67      64.552731\n",
              "39    33        35      33.150320\n",
              "40    35        37      35.112970\n",
              "41    30        40      38.056946\n",
              "42    74        73      70.440683\n",
              "43    87        92      89.085865\n",
              "44    56        70      67.496707"
            ]
          },
          "metadata": {
            "tags": []
          },
          "execution_count": 39
        }
      ]
    },
    {
      "cell_type": "markdown",
      "metadata": {
        "id": "Qi4HmNyqK4aB",
        "colab_type": "text"
      },
      "source": [
        "## 3. INTERPRETANDO A EQUAÇÃO DE REGRESSÃO"
      ]
    },
    {
      "cell_type": "code",
      "metadata": {
        "id": "K3eB753fK7R-",
        "colab_type": "code",
        "colab": {}
      },
      "source": [
        ""
      ],
      "execution_count": 0,
      "outputs": []
    },
    {
      "cell_type": "markdown",
      "metadata": {
        "id": "YrHjxW3vK7yL",
        "colab_type": "text"
      },
      "source": [
        "## 4. REGRESSÃO LINEAR MÚLTIPLA"
      ]
    },
    {
      "cell_type": "code",
      "metadata": {
        "id": "5tSLEsYtK-yF",
        "colab_type": "code",
        "colab": {}
      },
      "source": [
        ""
      ],
      "execution_count": 0,
      "outputs": []
    },
    {
      "cell_type": "markdown",
      "metadata": {
        "id": "O6U8EywFLHUC",
        "colab_type": "text"
      },
      "source": [
        "## 5. VARIÁVEIS FATORIAIS EM REGRESSÃO"
      ]
    },
    {
      "cell_type": "code",
      "metadata": {
        "id": "2E2WTf0RLKiQ",
        "colab_type": "code",
        "colab": {}
      },
      "source": [
        ""
      ],
      "execution_count": 0,
      "outputs": []
    },
    {
      "cell_type": "markdown",
      "metadata": {
        "id": "CKQqZFpsLL5h",
        "colab_type": "text"
      },
      "source": [
        "## 6. INVESTIGANDO OUTLIERS E VALORES INFLUENTES"
      ]
    },
    {
      "cell_type": "code",
      "metadata": {
        "id": "TAznVc9JNQzU",
        "colab_type": "code",
        "colab": {}
      },
      "source": [
        ""
      ],
      "execution_count": 0,
      "outputs": []
    }
  ]
}