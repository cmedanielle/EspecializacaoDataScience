{
  "nbformat": 4,
  "nbformat_minor": 0,
  "metadata": {
    "colab": {
      "name": "aula_sexta (1).ipynb",
      "provenance": [],
      "collapsed_sections": [
        "nDSfxkR1I8fs",
        "m8zNDLI_zzC5",
        "0J1zByBU0D1Z",
        "2Hup1-2SJPat",
        "Jk1DQenbuDwb",
        "P5XXrMe3jNri",
        "CS13ov1glwfT",
        "vg0pStthpGt1"
      ],
      "include_colab_link": true
    },
    "kernelspec": {
      "display_name": "Python 3",
      "language": "python",
      "name": "python3"
    },
    "language_info": {
      "codemirror_mode": {
        "name": "ipython",
        "version": 3
      },
      "file_extension": ".py",
      "mimetype": "text/x-python",
      "name": "python",
      "nbconvert_exporter": "python",
      "pygments_lexer": "ipython3",
      "version": "3.7.4"
    }
  },
  "cells": [
    {
      "cell_type": "markdown",
      "metadata": {
        "id": "view-in-github",
        "colab_type": "text"
      },
      "source": [
        "<a href=\"https://colab.research.google.com/github/cmedanielle/EspecializacaoDataScience/blob/master/aula_sexta.ipynb\" target=\"_parent\"><img src=\"https://colab.research.google.com/assets/colab-badge.svg\" alt=\"Open In Colab\"/></a>"
      ]
    },
    {
      "cell_type": "markdown",
      "metadata": {
        "colab_type": "text",
        "id": "t0WBBXFjIV4K"
      },
      "source": [
        "# **DISCIPLINA - ESTATÍSTICA (SEXTA)**"
      ]
    },
    {
      "cell_type": "markdown",
      "metadata": {
        "colab_type": "text",
        "id": "yjb9yEWgIoIj"
      },
      "source": [
        "## 1. REVISÃO - DISTRIBUIÇÃO DE FREQUÊNCIA E MEDIDAS ESTATÍSTICAS"
      ]
    },
    {
      "cell_type": "markdown",
      "metadata": {
        "colab_type": "text",
        "id": "nDSfxkR1I8fs"
      },
      "source": [
        "### 1.1. Conhecendo nosso dataset"
      ]
    },
    {
      "cell_type": "markdown",
      "metadata": {
        "colab_type": "text",
        "id": "mO9YZWbSzsjt"
      },
      "source": [
        "**Pesquisa Nacional por Amostra de Domicílios (2015)**\n",
        "\n",
        "A Pesquisa Nacional por Amostra de Domicílios - PNAD, de periodicidade anual, foi encerrada em 2016, com a divulgação das informações referentes a 2015. Planejada para produzir resultados para Brasil, Grandes Regiões, Unidades da Federação e nove Regiões Metropolitanas (Belém, Fortaleza, Recife, Salvador, Belo Horizonte, Rio de Janeiro, São Paulo, Curitiba e Porto Alegre), ela pesquisava, de forma permanente, características gerais da população, educação, trabalho, rendimento e habitação, e, com periodicidade variável, outros temas, de acordo com as necessidades de informação para o País, tendo como unidade de investigação o domicílio. A PNAD foi substituída, com metodologia atualizada, pela Pesquisa Nacional por Amostra de Domicílios Contínua - PNAD Contínua,  que propicia uma cobertura territorial mais abrangente e disponibiliza informações conjunturais trimestrais sobre a força de trabalho em âmbito nacional."
      ]
    },
    {
      "cell_type": "markdown",
      "metadata": {
        "colab_type": "text",
        "id": "Xtumyah8PYE8"
      },
      "source": [
        "\n",
        "\n",
        "https://www.ibge.gov.br/estatisticas/sociais/populacao/9127-pesquisa-nacional-por-amostra-de-domicilios.html?=&t=microdados"
      ]
    },
    {
      "cell_type": "markdown",
      "metadata": {
        "colab_type": "text",
        "id": "m8zNDLI_zzC5"
      },
      "source": [
        "**VARIÁVEIS UTILIZADAS**\n",
        "\n",
        "Renda: Rendimento mensal do trabalho principal para pessoas de 10 anos ou mais de idade.\n",
        "\n",
        "Idade: Idade do morador na data de referência em anos.\n",
        "\n",
        "Altura: Altura do morador em metros.\n",
        "\n",
        "Sexo: 0 - Masculino| 1 - Feminino\n",
        "\n",
        "*Observações:*\n",
        "Foram eliminados os registros onde a *Renda* era inválida ou inexistente e foram considerados apenas os registros das *Pessoas de Referência* de cada domicílio (responsável pelo domicílio).\n",
        "O dataset é um subconjunto extraído do conjunto de dados tratados pelo prof. Rodrigo Fernando Dias."
      ]
    },
    {
      "cell_type": "markdown",
      "metadata": {
        "colab_type": "text",
        "id": "e9Zzls13U1Vc"
      },
      "source": [
        "### 1.2. Começando nossos trabalhos"
      ]
    },
    {
      "cell_type": "code",
      "metadata": {
        "colab_type": "code",
        "id": "UNKbtc8OImO-",
        "colab": {}
      },
      "source": [
        "import pandas as pd, numpy as np, scipy as sp, matplotlib as mp"
      ],
      "execution_count": 0,
      "outputs": []
    },
    {
      "cell_type": "code",
      "metadata": {
        "colab_type": "code",
        "id": "LhmFR6r2JOt2",
        "colab": {}
      },
      "source": [
        "dados = pd.read_csv('dados.csv')"
      ],
      "execution_count": 0,
      "outputs": []
    },
    {
      "cell_type": "code",
      "metadata": {
        "id": "XFRHu2Hj2fou",
        "colab_type": "code",
        "colab": {
          "base_uri": "https://localhost:8080/",
          "height": 173
        },
        "outputId": "cea03e5f-bb23-447c-ab26-2abb5e18f53f"
      },
      "source": [
        "dados.info()"
      ],
      "execution_count": 6,
      "outputs": [
        {
          "output_type": "stream",
          "text": [
            "<class 'pandas.core.frame.DataFrame'>\n",
            "RangeIndex: 76840 entries, 0 to 76839\n",
            "Data columns (total 4 columns):\n",
            "Sexo      76840 non-null int64\n",
            "Idade     76840 non-null int64\n",
            "Renda     76840 non-null int64\n",
            "Altura    76840 non-null float64\n",
            "dtypes: float64(1), int64(3)\n",
            "memory usage: 2.3 MB\n"
          ],
          "name": "stdout"
        }
      ]
    },
    {
      "cell_type": "code",
      "metadata": {
        "colab_type": "code",
        "id": "VZsyGLvGQNRd",
        "scrolled": true,
        "colab": {
          "base_uri": "https://localhost:8080/",
          "height": 355
        },
        "outputId": "f38df25a-7305-443a-b988-9615e705053a"
      },
      "source": [
        "dados.head(10)"
      ],
      "execution_count": 4,
      "outputs": [
        {
          "output_type": "execute_result",
          "data": {
            "text/html": [
              "<div>\n",
              "<style scoped>\n",
              "    .dataframe tbody tr th:only-of-type {\n",
              "        vertical-align: middle;\n",
              "    }\n",
              "\n",
              "    .dataframe tbody tr th {\n",
              "        vertical-align: top;\n",
              "    }\n",
              "\n",
              "    .dataframe thead th {\n",
              "        text-align: right;\n",
              "    }\n",
              "</style>\n",
              "<table border=\"1\" class=\"dataframe\">\n",
              "  <thead>\n",
              "    <tr style=\"text-align: right;\">\n",
              "      <th></th>\n",
              "      <th>Sexo</th>\n",
              "      <th>Idade</th>\n",
              "      <th>Renda</th>\n",
              "      <th>Altura</th>\n",
              "    </tr>\n",
              "  </thead>\n",
              "  <tbody>\n",
              "    <tr>\n",
              "      <th>0</th>\n",
              "      <td>0</td>\n",
              "      <td>23</td>\n",
              "      <td>800</td>\n",
              "      <td>1.603808</td>\n",
              "    </tr>\n",
              "    <tr>\n",
              "      <th>1</th>\n",
              "      <td>1</td>\n",
              "      <td>23</td>\n",
              "      <td>1150</td>\n",
              "      <td>1.739790</td>\n",
              "    </tr>\n",
              "    <tr>\n",
              "      <th>2</th>\n",
              "      <td>1</td>\n",
              "      <td>35</td>\n",
              "      <td>880</td>\n",
              "      <td>1.760444</td>\n",
              "    </tr>\n",
              "    <tr>\n",
              "      <th>3</th>\n",
              "      <td>0</td>\n",
              "      <td>46</td>\n",
              "      <td>3500</td>\n",
              "      <td>1.783158</td>\n",
              "    </tr>\n",
              "    <tr>\n",
              "      <th>4</th>\n",
              "      <td>1</td>\n",
              "      <td>47</td>\n",
              "      <td>150</td>\n",
              "      <td>1.690631</td>\n",
              "    </tr>\n",
              "    <tr>\n",
              "      <th>5</th>\n",
              "      <td>1</td>\n",
              "      <td>34</td>\n",
              "      <td>790</td>\n",
              "      <td>1.637906</td>\n",
              "    </tr>\n",
              "    <tr>\n",
              "      <th>6</th>\n",
              "      <td>0</td>\n",
              "      <td>57</td>\n",
              "      <td>3150</td>\n",
              "      <td>1.570078</td>\n",
              "    </tr>\n",
              "    <tr>\n",
              "      <th>7</th>\n",
              "      <td>1</td>\n",
              "      <td>60</td>\n",
              "      <td>1700</td>\n",
              "      <td>1.608495</td>\n",
              "    </tr>\n",
              "    <tr>\n",
              "      <th>8</th>\n",
              "      <td>1</td>\n",
              "      <td>50</td>\n",
              "      <td>1800</td>\n",
              "      <td>1.780329</td>\n",
              "    </tr>\n",
              "    <tr>\n",
              "      <th>9</th>\n",
              "      <td>0</td>\n",
              "      <td>26</td>\n",
              "      <td>1150</td>\n",
              "      <td>1.793203</td>\n",
              "    </tr>\n",
              "  </tbody>\n",
              "</table>\n",
              "</div>"
            ],
            "text/plain": [
              "   Sexo  Idade  Renda    Altura\n",
              "0     0     23    800  1.603808\n",
              "1     1     23   1150  1.739790\n",
              "2     1     35    880  1.760444\n",
              "3     0     46   3500  1.783158\n",
              "4     1     47    150  1.690631\n",
              "5     1     34    790  1.637906\n",
              "6     0     57   3150  1.570078\n",
              "7     1     60   1700  1.608495\n",
              "8     1     50   1800  1.780329\n",
              "9     0     26   1150  1.793203"
            ]
          },
          "metadata": {
            "tags": []
          },
          "execution_count": 4
        }
      ]
    },
    {
      "cell_type": "code",
      "metadata": {
        "colab_type": "code",
        "id": "tMvKSQ35aHZz",
        "colab": {
          "base_uri": "https://localhost:8080/",
          "height": 35
        },
        "outputId": "362a1d21-cd27-45d1-b171-e4eb3e889ca8"
      },
      "source": [
        "dados.shape[0]"
      ],
      "execution_count": 5,
      "outputs": [
        {
          "output_type": "execute_result",
          "data": {
            "text/plain": [
              "76840"
            ]
          },
          "metadata": {
            "tags": []
          },
          "execution_count": 5
        }
      ]
    },
    {
      "cell_type": "markdown",
      "metadata": {
        "colab_type": "text",
        "id": "0J1zByBU0D1Z"
      },
      "source": [
        "### 1.2. Revisando Tipos de Variáveis"
      ]
    },
    {
      "cell_type": "markdown",
      "metadata": {
        "colab_type": "text",
        "id": "ce6OvaSvEVzC"
      },
      "source": [
        "**Variáveis podem ser quantitatias e qualitativas:**\n",
        "\n",
        "\n",
        "*   Variáveis quantitativas podem ser discretas ou contínuas;\n",
        "*   Variáveis qualitativas (ou categóricas) podem ser ordinais ou nominais"
      ]
    },
    {
      "cell_type": "code",
      "metadata": {
        "colab_type": "code",
        "id": "OnRZtwbn1pJo",
        "colab": {
          "base_uri": "https://localhost:8080/",
          "height": 35
        },
        "outputId": "2d9a99a5-305d-44cc-cba9-de9f312ce2ef"
      },
      "source": [
        "dados.Sexo.min(), dados.Sexo.max()"
      ],
      "execution_count": 7,
      "outputs": [
        {
          "output_type": "execute_result",
          "data": {
            "text/plain": [
              "(0, 1)"
            ]
          },
          "metadata": {
            "tags": []
          },
          "execution_count": 7
        }
      ]
    },
    {
      "cell_type": "code",
      "metadata": {
        "colab_type": "code",
        "id": "UrD_MHxP1WLs",
        "colab": {
          "base_uri": "https://localhost:8080/",
          "height": 69
        },
        "outputId": "9b49a32f-24fe-45e8-f2d7-3be87e3cf306"
      },
      "source": [
        "frequencia = dados.Sexo.value_counts()\n",
        "frequencia"
      ],
      "execution_count": 8,
      "outputs": [
        {
          "output_type": "execute_result",
          "data": {
            "text/plain": [
              "0    53250\n",
              "1    23590\n",
              "Name: Sexo, dtype: int64"
            ]
          },
          "metadata": {
            "tags": []
          },
          "execution_count": 8
        }
      ]
    },
    {
      "cell_type": "code",
      "metadata": {
        "colab_type": "code",
        "id": "qdh2fwVR0fOF",
        "colab": {
          "base_uri": "https://localhost:8080/",
          "height": 69
        },
        "outputId": "45d8efd4-2313-4cef-abb8-72de99a49d59"
      },
      "source": [
        "percentual = dados.Sexo.value_counts(normalize = True)\n",
        "percentual"
      ],
      "execution_count": 11,
      "outputs": [
        {
          "output_type": "execute_result",
          "data": {
            "text/plain": [
              "0    0.692998\n",
              "1    0.307002\n",
              "Name: Sexo, dtype: float64"
            ]
          },
          "metadata": {
            "tags": []
          },
          "execution_count": 11
        }
      ]
    },
    {
      "cell_type": "code",
      "metadata": {
        "colab_type": "code",
        "id": "1YfGDEWW0MG5",
        "colab": {
          "base_uri": "https://localhost:8080/",
          "height": 110
        },
        "outputId": "4ddd65be-f883-4931-a3bd-68627affd7b4"
      },
      "source": [
        "dist_freq_qualitativas = pd.DataFrame({'Frequência ': frequencia, 'Porcentagem (%) ': percentual})\n",
        "dist_freq_qualitativas.rename(index = {0: 'Masculino', 1: 'Feminino'}, inplace = True)\n",
        "dist_freq_qualitativas.rename_axis('Sexo', axis = 'columns', inplace = True)\n",
        "dist_freq_qualitativas"
      ],
      "execution_count": 12,
      "outputs": [
        {
          "output_type": "execute_result",
          "data": {
            "text/html": [
              "<div>\n",
              "<style scoped>\n",
              "    .dataframe tbody tr th:only-of-type {\n",
              "        vertical-align: middle;\n",
              "    }\n",
              "\n",
              "    .dataframe tbody tr th {\n",
              "        vertical-align: top;\n",
              "    }\n",
              "\n",
              "    .dataframe thead th {\n",
              "        text-align: right;\n",
              "    }\n",
              "</style>\n",
              "<table border=\"1\" class=\"dataframe\">\n",
              "  <thead>\n",
              "    <tr style=\"text-align: right;\">\n",
              "      <th>Sexo</th>\n",
              "      <th>Frequência</th>\n",
              "      <th>Porcentagem (%)</th>\n",
              "    </tr>\n",
              "  </thead>\n",
              "  <tbody>\n",
              "    <tr>\n",
              "      <th>Masculino</th>\n",
              "      <td>53250</td>\n",
              "      <td>0.692998</td>\n",
              "    </tr>\n",
              "    <tr>\n",
              "      <th>Feminino</th>\n",
              "      <td>23590</td>\n",
              "      <td>0.307002</td>\n",
              "    </tr>\n",
              "  </tbody>\n",
              "</table>\n",
              "</div>"
            ],
            "text/plain": [
              "Sexo       Frequência   Porcentagem (%) \n",
              "Masculino        53250          0.692998\n",
              "Feminino         23590          0.307002"
            ]
          },
          "metadata": {
            "tags": []
          },
          "execution_count": 12
        }
      ]
    },
    {
      "cell_type": "code",
      "metadata": {
        "colab_type": "code",
        "id": "wj_a0bkO1wXI",
        "colab": {
          "base_uri": "https://localhost:8080/",
          "height": 35
        },
        "outputId": "39d125b7-8e8a-4540-b224-9e4ad0e4f863"
      },
      "source": [
        "dados.Renda.min(), dados.Renda.max()"
      ],
      "execution_count": 13,
      "outputs": [
        {
          "output_type": "execute_result",
          "data": {
            "text/plain": [
              "(0, 200000)"
            ]
          },
          "metadata": {
            "tags": []
          },
          "execution_count": 13
        }
      ]
    },
    {
      "cell_type": "code",
      "metadata": {
        "colab_type": "code",
        "id": "0SLG19tR0OsN",
        "colab": {
          "base_uri": "https://localhost:8080/",
          "height": 225
        },
        "outputId": "50c393ef-d159-4a4b-f438-f455bfb17b5c"
      },
      "source": [
        "frequencia = dados.Renda.value_counts()\n",
        "frequencia"
      ],
      "execution_count": 14,
      "outputs": [
        {
          "output_type": "execute_result",
          "data": {
            "text/plain": [
              "788      6881\n",
              "1500     4567\n",
              "1200     4476\n",
              "2000     4233\n",
              "1000     4158\n",
              "         ... \n",
              "15781       1\n",
              "1442        1\n",
              "1378        1\n",
              "21800       1\n",
              "7388        1\n",
              "Name: Renda, Length: 1606, dtype: int64"
            ]
          },
          "metadata": {
            "tags": []
          },
          "execution_count": 14
        }
      ]
    },
    {
      "cell_type": "code",
      "metadata": {
        "colab_type": "code",
        "id": "Eu7ytHp31Ecn",
        "colab": {}
      },
      "source": [
        "classes = [0, 1576, 3152, 7880, 15760, 200000]\n",
        "labels = ['E','D','C','B','A']"
      ],
      "execution_count": 0,
      "outputs": []
    },
    {
      "cell_type": "code",
      "metadata": {
        "colab_type": "code",
        "id": "VFSlP2Wi2Tnj",
        "colab": {
          "base_uri": "https://localhost:8080/",
          "height": 121
        },
        "outputId": "e140443c-2a9c-4235-b746-c69e91204aa8"
      },
      "source": [
        "frequencia = pd.value_counts(pd.cut(x = dados.Renda, bins = classes, labels = labels, include_lowest = True))\n",
        "percentual = pd.value_counts(pd.cut(x = dados.Renda, bins = classes, labels = labels, include_lowest = True), normalize = True) * 100\n",
        "percentual"
      ],
      "execution_count": 16,
      "outputs": [
        {
          "output_type": "execute_result",
          "data": {
            "text/plain": [
              "E    64.751432\n",
              "D    21.733472\n",
              "C     9.889381\n",
              "B     2.834461\n",
              "A     0.791255\n",
              "Name: Renda, dtype: float64"
            ]
          },
          "metadata": {
            "tags": []
          },
          "execution_count": 16
        }
      ]
    },
    {
      "cell_type": "code",
      "metadata": {
        "colab_type": "code",
        "id": "MI-0Hbyo2DQw",
        "colab": {
          "base_uri": "https://localhost:8080/",
          "height": 202
        },
        "outputId": "e30f625e-0e15-4870-aa7f-b298459bd5aa"
      },
      "source": [
        "dist_freq_qualitativas_quantitativa = pd.DataFrame({'Frequência': frequencia, 'Porcentagem (%)': percentual})\n",
        "dist_freq_qualitativas_quantitativa.sort_index(ascending = False, inplace = True)\n",
        "dist_freq_qualitativas_quantitativa"
      ],
      "execution_count": 17,
      "outputs": [
        {
          "output_type": "execute_result",
          "data": {
            "text/html": [
              "<div>\n",
              "<style scoped>\n",
              "    .dataframe tbody tr th:only-of-type {\n",
              "        vertical-align: middle;\n",
              "    }\n",
              "\n",
              "    .dataframe tbody tr th {\n",
              "        vertical-align: top;\n",
              "    }\n",
              "\n",
              "    .dataframe thead th {\n",
              "        text-align: right;\n",
              "    }\n",
              "</style>\n",
              "<table border=\"1\" class=\"dataframe\">\n",
              "  <thead>\n",
              "    <tr style=\"text-align: right;\">\n",
              "      <th></th>\n",
              "      <th>Frequência</th>\n",
              "      <th>Porcentagem (%)</th>\n",
              "    </tr>\n",
              "  </thead>\n",
              "  <tbody>\n",
              "    <tr>\n",
              "      <th>A</th>\n",
              "      <td>608</td>\n",
              "      <td>0.791255</td>\n",
              "    </tr>\n",
              "    <tr>\n",
              "      <th>B</th>\n",
              "      <td>2178</td>\n",
              "      <td>2.834461</td>\n",
              "    </tr>\n",
              "    <tr>\n",
              "      <th>C</th>\n",
              "      <td>7599</td>\n",
              "      <td>9.889381</td>\n",
              "    </tr>\n",
              "    <tr>\n",
              "      <th>D</th>\n",
              "      <td>16700</td>\n",
              "      <td>21.733472</td>\n",
              "    </tr>\n",
              "    <tr>\n",
              "      <th>E</th>\n",
              "      <td>49755</td>\n",
              "      <td>64.751432</td>\n",
              "    </tr>\n",
              "  </tbody>\n",
              "</table>\n",
              "</div>"
            ],
            "text/plain": [
              "   Frequência  Porcentagem (%)\n",
              "A         608         0.791255\n",
              "B        2178         2.834461\n",
              "C        7599         9.889381\n",
              "D       16700        21.733472\n",
              "E       49755        64.751432"
            ]
          },
          "metadata": {
            "tags": []
          },
          "execution_count": 17
        }
      ]
    },
    {
      "cell_type": "markdown",
      "metadata": {
        "colab_type": "text",
        "id": "2Hup1-2SJPat"
      },
      "source": [
        "### 1.3. Revisando algumas medidas estatísticas"
      ]
    },
    {
      "cell_type": "markdown",
      "metadata": {
        "colab_type": "text",
        "id": "2NrxEmOAFG9u"
      },
      "source": [
        "![alt text](https://s3.static.brasilescola.uol.com.br/img/2019/01/medidas-de-tendencia-be.jpeg)\n",
        "Fonte: Escolha Brasil (Uol)"
      ]
    },
    {
      "cell_type": "code",
      "metadata": {
        "colab_type": "code",
        "id": "rzrjLdyoJTeB",
        "colab": {
          "base_uri": "https://localhost:8080/",
          "height": 52
        },
        "outputId": "c72e3096-70d4-46b8-f983-f4d34281ad18"
      },
      "source": [
        "dados.Renda.mean(), dados.Renda.median(), dados.Renda.mode()"
      ],
      "execution_count": 18,
      "outputs": [
        {
          "output_type": "execute_result",
          "data": {
            "text/plain": [
              "(2000.3831988547631, 1200.0, 0    788\n",
              " dtype: int64)"
            ]
          },
          "metadata": {
            "tags": []
          },
          "execution_count": 18
        }
      ]
    },
    {
      "cell_type": "markdown",
      "metadata": {
        "colab_type": "text",
        "id": "Jc_-LYGIFP_6"
      },
      "source": [
        "**Variância amostral:** mede a dispersão em torno da média (mas tem o inconveniente de ter a unidade do dado estudado ao quadrado!);\n",
        "\n"
      ]
    },
    {
      "cell_type": "code",
      "metadata": {
        "colab_type": "code",
        "id": "a9YgNV4h3-6d",
        "colab": {
          "base_uri": "https://localhost:8080/",
          "height": 104
        },
        "outputId": "59e115b8-60f0-47b4-cc0f-fcd49e11da0d"
      },
      "source": [
        "dados.var()"
      ],
      "execution_count": 19,
      "outputs": [
        {
          "output_type": "execute_result",
          "data": {
            "text/plain": [
              "Sexo      2.127544e-01\n",
              "Idade     1.557650e+02\n",
              "Renda     1.104491e+07\n",
              "Altura    6.354869e-03\n",
              "dtype: float64"
            ]
          },
          "metadata": {
            "tags": []
          },
          "execution_count": 19
        }
      ]
    },
    {
      "cell_type": "markdown",
      "metadata": {
        "colab_type": "text",
        "id": "3mFsJpdjGZPU"
      },
      "source": [
        "**Desvio-Padrão amostral:** • mede a variação em torno da média (e é super usável, porque tem a mesma unidade dos dados originais!)\n",
        "\n",
        "IMPORTANTE: Um valor baixo de desvio padrão indica que os pontos dos dados tendem a estar próximos da média ou do valor esperado. Se ele for alto, então temos indícios de que os pontos dos dados estão espalhados por uma ampla gama de valores."
      ]
    },
    {
      "cell_type": "code",
      "metadata": {
        "colab_type": "code",
        "id": "hMxQj4Ib3Z1Y",
        "colab": {
          "base_uri": "https://localhost:8080/",
          "height": 104
        },
        "outputId": "7d7d2ce3-e89c-4cae-a2d1-b99ef5f2ddf3"
      },
      "source": [
        "dados.std()"
      ],
      "execution_count": 20,
      "outputs": [
        {
          "output_type": "execute_result",
          "data": {
            "text/plain": [
              "Sexo         0.461253\n",
              "Idade       12.480583\n",
              "Renda     3323.387730\n",
              "Altura       0.079717\n",
              "dtype: float64"
            ]
          },
          "metadata": {
            "tags": []
          },
          "execution_count": 20
        }
      ]
    },
    {
      "cell_type": "code",
      "metadata": {
        "colab_type": "code",
        "id": "rQpe5PBXJ6JL",
        "colab": {
          "base_uri": "https://localhost:8080/",
          "height": 391
        },
        "outputId": "02e26333-f8c1-48a4-ec7a-12208f5021e5"
      },
      "source": [
        "dados.Altura.hist(bins = 50, figsize = (12,6))"
      ],
      "execution_count": 21,
      "outputs": [
        {
          "output_type": "execute_result",
          "data": {
            "text/plain": [
              "<matplotlib.axes._subplots.AxesSubplot at 0x7fe54b819f28>"
            ]
          },
          "metadata": {
            "tags": []
          },
          "execution_count": 21
        },
        {
          "output_type": "display_data",
          "data": {
            "image/png": "[encoded data removed]",
            "text/plain": [
              "<Figure size 864x432 with 1 Axes>"
            ]
          },
          "metadata": {
            "tags": []
          }
        }
      ]
    },
    {
      "cell_type": "markdown",
      "metadata": {
        "colab_type": "text",
        "id": "v7E-KbPDJ_3D"
      },
      "source": [
        "## 2. TESTES DE HIPÓTESES"
      ]
    },
    {
      "cell_type": "markdown",
      "metadata": {
        "colab_type": "text",
        "id": "5AlWCoN_WlkE"
      },
      "source": [
        "**A experimentação tem como objetivo confirmar ou rejeitar uma hipótese.**\n",
        "\n",
        "*Por que isso é relevante para mim?*\n",
        "> Cientistas de dados geralmente se deparam com a necessidade de conduzir experimentos contínuos.\n",
        "> Exemplos: verificação de interface com usuário, marketing de um produto, etc.\n",
        "\n"
      ]
    },
    {
      "cell_type": "markdown",
      "metadata": {
        "colab_type": "text",
        "id": "JSfRG2qKXRsH"
      },
      "source": [
        "**CADEIA CLÁSSICA DE INFERÊNCIA ESTATÍSTICA**\n",
        "\n",
        "![alt text](https://posgraduando.com/wp-content/uploads/2016/01/diversos-04.jpg)\n",
        "\n",
        "FORMULAR HIPÓTESE > DESENHAR EXPERIMENTO > COLETAR DADOS > INFERÊNCIA/CONCLUSÕES\n",
        "\n"
      ]
    },
    {
      "cell_type": "markdown",
      "metadata": {
        "colab_type": "text",
        "id": "VbDiZl4LZJ6F"
      },
      "source": [
        "**E o que é mesmo uma inferência?**\n",
        "\n",
        "> É a intenção de aplicar os resultados de um experimento, que envolve um conjunto limitado de dados, em um processo ou uma população.\n",
        "\n"
      ]
    },
    {
      "cell_type": "markdown",
      "metadata": {
        "colab_type": "text",
        "id": "zeUtxg9yhEk5"
      },
      "source": [
        "**Teste do Tipo A/B**\n",
        "\n",
        "> É um experimento com dois grupos para determinar qual dos dois tratamentos, produtos, procedimentos ou similar é o superior. Geralmente um dos tratamentos é o padrão já adotado (ou não existe) e é chamado de *grupo de controle*. \n",
        "O *grupo de tratamento* é o grupo que será submetido a um tratamento específico.\n",
        "\n"
      ]
    },
    {
      "cell_type": "markdown",
      "metadata": {
        "colab_type": "text",
        "id": "4SdxExkghwUn"
      },
      "source": [
        "Exemplos de Testes A/B\n",
        "\n",
        "*   Testagem de dois preços, para determinar qual irá gerá mais lucro;\n",
        "*   Testagem de dois anúncios online, para determinar qual irá gerar mais cliques;\n",
        "*   Testagem de dois tipos de algoritmos, para determinar qual o mais eficiente...\n",
        "\n",
        "Geralmente, a métrica mais utilizada na ciência de dados é uma variável binária."
      ]
    },
    {
      "cell_type": "markdown",
      "metadata": {
        "colab_type": "text",
        "id": "ezIACuF8jxkt"
      },
      "source": [
        "<font color='red'>**Um teste de hipótese estatística é uma análise mais aprofundada de um teste A/B, ou qualquer experimento randomizado, para avaliar se a possibilidade aleatória é uma explicação plausível para a diferência observada entre os grupos.**</font>"
      ]
    },
    {
      "cell_type": "markdown",
      "metadata": {
        "colab_type": "text",
        "id": "oo-09tgbZaBy"
      },
      "source": [
        "### 2.1. Algumas informações importantes antes de começar"
      ]
    },
    {
      "cell_type": "markdown",
      "metadata": {
        "colab_type": "text",
        "id": "fK-sUBbiZiF5"
      },
      "source": [
        "Primeiro, dois conceitos essenciais:\n",
        "\n",
        "*   **Hipótese Nula ($H_0$)**: propõe uma igualdade ou propriedade populacional;\n",
        "*   **Hipótese Alternativa ($H_1$)**: propõe uma afirmação que nega $H_0$.\n",
        "\n"
      ]
    },
    {
      "cell_type": "markdown",
      "metadata": {
        "colab_type": "text",
        "id": "S0uFW_uRi9aI"
      },
      "source": [
        "*E por que preciso de uma hipótese?*\n",
        "\n",
        "Por que não apenas observar o resultado do experimento e optar pelo tratamento que se sair melhor?\n",
        "\n",
        "> Bem, temos uma forte tendência a submestimar o escopo do comportamento aleatório natural. Ou, melhor ainda, de interpretar eventos aleatórios de forma errada, como se tivessem padrões de alguma significância.\n",
        "\n"
      ]
    },
    {
      "cell_type": "markdown",
      "metadata": {
        "colab_type": "text",
        "id": "0cLiP9UKaMgy"
      },
      "source": [
        "*Tá, e o que preciso saber para formular hipóteses?*\n",
        "\n",
        "*   O alvo do estudo é sempre a hipótese alternativa $H_1$;\n",
        "*   A hipótese nula $H_0$ pode conter uma igualdade igualdade simples \"$=$\" ou \"$\\geq$\" e \"$\\leq$\". É importante lembrar que a hipótese alternativa sempre complementa a hipótese nula!\n",
        "*   A hipótese alternativa ($H_1$) deve definir uma desigualdade que pode ser uma diferença simples \"$\\neq$\" ou dos tipos \"$>$\" e \"$<$\"."
      ]
    },
    {
      "cell_type": "markdown",
      "metadata": {
        "colab_type": "text",
        "id": "edXO3wkYaw2m"
      },
      "source": [
        "Vamos construir um pequeno experimento agora, começando pela definição das hipóteses:\n",
        "\n",
        "*   **Hipótese Nula ($H_0$)**: A distribuição da variável Renda segue uma distribuição normal.\n",
        "*   **Hipótese Alternativa ($H_1$)**: A distribuição da variável Renda não segue uma distribuição normal.\n",
        "\n",
        "\n",
        "\n"
      ]
    },
    {
      "cell_type": "code",
      "metadata": {
        "colab_type": "code",
        "id": "sbLy0SLHKDC_",
        "colab": {
          "base_uri": "https://localhost:8080/",
          "height": 283
        },
        "outputId": "5d65f175-4c11-43b0-9054-f91928133d5f"
      },
      "source": [
        "dados.Renda.hist(bins = 50)"
      ],
      "execution_count": 22,
      "outputs": [
        {
          "output_type": "execute_result",
          "data": {
            "text/plain": [
              "<matplotlib.axes._subplots.AxesSubplot at 0x7fe54a7897b8>"
            ]
          },
          "metadata": {
            "tags": []
          },
          "execution_count": 22
        },
        {
          "output_type": "display_data",
          "data": {
            "image/png": "[encoded data removed]",
            "text/plain": [
              "<Figure size 432x288 with 1 Axes>"
            ]
          },
          "metadata": {
            "tags": []
          }
        }
      ]
    },
    {
      "cell_type": "code",
      "metadata": {
        "colab_type": "code",
        "id": "5ZjxINq2n8RL",
        "colab": {}
      },
      "source": [
        "from scipy.stats import normaltest"
      ],
      "execution_count": 0,
      "outputs": []
    },
    {
      "cell_type": "code",
      "metadata": {
        "colab_type": "code",
        "id": "E4mDmCvPmTKL",
        "colab": {
          "base_uri": "https://localhost:8080/",
          "height": 35
        },
        "outputId": "01b8f9e3-2514-4bb3-8bc1-c7c83bf23000"
      },
      "source": [
        "normaltest(dados.Renda)"
      ],
      "execution_count": 24,
      "outputs": [
        {
          "output_type": "execute_result",
          "data": {
            "text/plain": [
              "NormaltestResult(statistic=152380.75803960307, pvalue=0.0)"
            ]
          },
          "metadata": {
            "tags": []
          },
          "execution_count": 24
        }
      ]
    },
    {
      "cell_type": "code",
      "metadata": {
        "id": "2oFE5HJuJaF3",
        "colab_type": "code",
        "colab": {
          "base_uri": "https://localhost:8080/",
          "height": 35
        },
        "outputId": "f84ceb77-2bee-4875-d48c-614a86ebe28a"
      },
      "source": [
        "normaltest(dados.Altura)"
      ],
      "execution_count": 25,
      "outputs": [
        {
          "output_type": "execute_result",
          "data": {
            "text/plain": [
              "NormaltestResult(statistic=0.19973093957002253, pvalue=0.9049591541967501)"
            ]
          },
          "metadata": {
            "tags": []
          },
          "execution_count": 25
        }
      ]
    },
    {
      "cell_type": "markdown",
      "metadata": {
        "colab_type": "text",
        "id": "92WfeiqdcweI"
      },
      "source": [
        "Referências: \n",
        "https://docs.scipy.org/doc/scipy/reference/generated/scipy.stats.normaltest.html\n",
        "\n",
        "OBS.: a função *normaltest* tem como base a hipótese nula $H_0$ de que a distribuição da amostra é normal."
      ]
    },
    {
      "cell_type": "markdown",
      "metadata": {
        "colab_type": "text",
        "id": "Jk1DQenbuDwb"
      },
      "source": [
        "**Nível de confiança x Nível de significância**"
      ]
    },
    {
      "cell_type": "markdown",
      "metadata": {
        "colab_type": "text",
        "id": "fC0wuqvyVPR7"
      },
      "source": [
        "**Significância estatística** é como os estatísticos medem se um experimento ou um estudo dos dados produziu um reesultado mais extremo do que o acaso poderia produzir."
      ]
    },
    {
      "cell_type": "markdown",
      "metadata": {
        "colab_type": "text",
        "id": "OV7WCXa86tDI"
      },
      "source": [
        "**Nível de confiança ( 1−α )** - probabilidade de acerto da estimativa. Diz respeito ao grau de confiabilidade de que um valor de uma estimativa esteja dentro de um intervalo.\n",
        "\n",
        "**Nível de significância ( alfa ou α )** - probabilidade de erro da estimativa. Normalmente é um valor pré-fixado (varia entre 1% a 10%)."
      ]
    },
    {
      "cell_type": "markdown",
      "metadata": {
        "colab_type": "text",
        "id": "JbgN9yIlB8m5"
      },
      "source": [
        "![Significancia](https://upload.wikimedia.org/wikipedia/commons/0/01/ConfIntervNormalP.png)"
      ]
    },
    {
      "cell_type": "markdown",
      "metadata": {
        "colab_type": "text",
        "id": "eKDVPGm_eYJI"
      },
      "source": [
        "<font color='red'>Assim, é importante fixar a significância do teste ($\\alpha$), que define as regiões de aceitação e rejeição das hipóteses!</font>"
      ]
    },
    {
      "cell_type": "code",
      "metadata": {
        "colab_type": "code",
        "id": "vJapCGGgd56C",
        "colab": {}
      },
      "source": [
        "significancia = 0.05"
      ],
      "execution_count": 0,
      "outputs": []
    },
    {
      "cell_type": "code",
      "metadata": {
        "colab_type": "code",
        "id": "4hyBnNIvd8Jy",
        "colab": {
          "base_uri": "https://localhost:8080/",
          "height": 35
        },
        "outputId": "4d762416-1675-48b3-abc2-85c61b9845f8"
      },
      "source": [
        "estatistica_teste, p_valor = normaltest(dados.Altura)\n",
        "estatistica_teste, p_valor"
      ],
      "execution_count": 30,
      "outputs": [
        {
          "output_type": "execute_result",
          "data": {
            "text/plain": [
              "(0.19973093957002253, 0.9049591541967501)"
            ]
          },
          "metadata": {
            "tags": []
          },
          "execution_count": 30
        }
      ]
    },
    {
      "cell_type": "markdown",
      "metadata": {
        "colab_type": "text",
        "id": "vzf65W7BfNWL"
      },
      "source": [
        "**E o que é o p-valor?**\n",
        "\n",
        "> O valor-p (também chamado de nível descritivo ou probabilidade de significância) é a **probabilidade de se obter uma estatística de teste igual ou mais extrema que aquela observada em uma amostra, sob a hipótese nula**.\n",
        "\n",
        "Por exemplo, em testes de hipótese, pode-se rejeitar a hipótese nula a 5% caso o valor-p seja menor que 5%. Assim, uma outra interpretação para o valor-p, é que este é o **menor nível de significância com que se rejeitaria a hipótese nula**. Em termos gerais, um valor-p pequeno significa que a probabilidade de obter um valor da estatística de teste como o observado é muito improvável, levando assim à rejeição da hipótese nula.\n",
        "\n"
      ]
    },
    {
      "cell_type": "markdown",
      "metadata": {
        "colab_type": "text",
        "id": "B6icrczcgY_o"
      },
      "source": [
        "Ou seja, para nosso experimento, devemos rejeitar $H_0$ se o valor $p\\leq 0,05$"
      ]
    },
    {
      "cell_type": "code",
      "metadata": {
        "colab_type": "code",
        "id": "1BXp0dGreG4s",
        "colab": {
          "base_uri": "https://localhost:8080/",
          "height": 35
        },
        "outputId": "99625168-6b47-4cb8-e054-dde8dce3a58c"
      },
      "source": [
        "p_valor <= significancia"
      ],
      "execution_count": 31,
      "outputs": [
        {
          "output_type": "execute_result",
          "data": {
            "text/plain": [
              "False"
            ]
          },
          "metadata": {
            "tags": []
          },
          "execution_count": 31
        }
      ]
    },
    {
      "cell_type": "code",
      "metadata": {
        "id": "3TjUXtWR2fqL",
        "colab_type": "code",
        "colab": {
          "base_uri": "https://localhost:8080/",
          "height": 225
        },
        "outputId": "cfe1126b-10c2-487a-8bab-37987079d738"
      },
      "source": [
        "dados.Altura"
      ],
      "execution_count": 32,
      "outputs": [
        {
          "output_type": "execute_result",
          "data": {
            "text/plain": [
              "0        1.603808\n",
              "1        1.739790\n",
              "2        1.760444\n",
              "3        1.783158\n",
              "4        1.690631\n",
              "           ...   \n",
              "76835    1.687030\n",
              "76836    1.792934\n",
              "76837    1.830587\n",
              "76838    1.726344\n",
              "76839    1.658305\n",
              "Name: Altura, Length: 76840, dtype: float64"
            ]
          },
          "metadata": {
            "tags": []
          },
          "execution_count": 32
        }
      ]
    },
    {
      "cell_type": "code",
      "metadata": {
        "colab_type": "code",
        "id": "kmaft5jSf2CD",
        "colab": {
          "base_uri": "https://localhost:8080/",
          "height": 283
        },
        "outputId": "7809fb75-4ee7-422e-9d8c-755fe1fac87d"
      },
      "source": [
        "dados.Altura.hist(bins = 50)"
      ],
      "execution_count": 33,
      "outputs": [
        {
          "output_type": "execute_result",
          "data": {
            "text/plain": [
              "<matplotlib.axes._subplots.AxesSubplot at 0x7fe53d70b630>"
            ]
          },
          "metadata": {
            "tags": []
          },
          "execution_count": 33
        },
        {
          "output_type": "display_data",
          "data": {
            "image/png": "[encoded data removed]",
            "text/plain": [
              "<Figure size 432x288 with 1 Axes>"
            ]
          },
          "metadata": {
            "tags": []
          }
        }
      ]
    },
    {
      "cell_type": "code",
      "metadata": {
        "colab_type": "code",
        "id": "ll4_7lnlfycb",
        "colab": {}
      },
      "source": [
        "normaltest(dados.Altura)"
      ],
      "execution_count": 0,
      "outputs": []
    },
    {
      "cell_type": "markdown",
      "metadata": {
        "colab_type": "text",
        "id": "d56cMZgm7jiZ"
      },
      "source": [
        "### 2.2. Teste Parâmetricos e Não Parâmetricos"
      ]
    },
    {
      "cell_type": "markdown",
      "metadata": {
        "colab_type": "text",
        "id": "LscYMrF3lNGd"
      },
      "source": [
        "**A escolha do teste que iremos utilizar é um fator bastante relevante. A escolha do teste errado pode levar a conclusões erradas.**"
      ]
    },
    {
      "cell_type": "markdown",
      "metadata": {
        "colab_type": "text",
        "id": "4TaEqN9AlWI2"
      },
      "source": [
        "Em geral, a regra básica é a seguinte:\n",
        "\n",
        "Se considerarmos $n$ o tamanho da amostra:Quando o tamanho da amostra tiver 30 elementos ou mais, deve-se utilizar a distribuição normal, como estabelecido pelo teorema do limite central.\n",
        "\n",
        "*   **Se $n\\geq30$ ou se $n<30$ e sabemos que a população tende a se distribuir de forma normal e sabemos qual é o desvio padrão populacional**:\n",
        "> Distribuição normal (conforme estabelecido pelo teorema do limite central);\n",
        "\n",
        "*   **Se $n<30$ e sabemos que a população tende a se distribuir de forma normal e mas não sabemos qual é o desvio padrão populacional**:\n",
        "> Devemos utilizar a distribuição de t de Student;\n",
        "\n",
        "*   **Caso contrário:**\n",
        "> Ou aumentamos o tamanho da amostra, ou partimos para um teste não paramétrico.\n",
        "\n"
      ]
    },
    {
      "cell_type": "markdown",
      "metadata": {
        "colab_type": "text",
        "id": "lxabkBYlm71z"
      },
      "source": [
        "***Opa! Testes não paramétricos?***"
      ]
    },
    {
      "cell_type": "markdown",
      "metadata": {
        "colab_type": "text",
        "id": "aKtMmvMHm_en"
      },
      "source": [
        "Em **testes paramétricos**, pressupomos que os dados seguem a distribuição normal, há homogeneidade dos dados e variáveis intervalares e contínuas.\n",
        "\n",
        "Os **testes não paramétricos** requerem menos pressupostos para as distribuições. Baseiam-se em dados ordinais e nominais e geralmente são utilizados para amostras muito pequenas e para as investigações que envolvam hipóteses cujos processos de medida sejam ordinais. Mas vale ressaltar que os testes não paramétricos não são tão fededignos como os testes paramétricos!"
      ]
    },
    {
      "cell_type": "markdown",
      "metadata": {
        "colab_type": "text",
        "id": "r8p3pXPjoBte"
      },
      "source": [
        "### **2.3. Teste de Hipótese Unilateral e Bilateral**"
      ]
    },
    {
      "cell_type": "markdown",
      "metadata": {
        "colab_type": "text",
        "id": "jV4GfeD8olmr"
      },
      "source": [
        "![alt text](https://keydifferences.com/wp-content/uploads/2017/01/one-tailed-vs-two-tailed-test.jpg)"
      ]
    },
    {
      "cell_type": "markdown",
      "metadata": {
        "colab_type": "text",
        "id": "tRHGgFe6pWW5"
      },
      "source": [
        "*Lembrete importante:* Unicaudal, bicaudal... esse assunto tende a ser confuso e de pouca relevância para a ciência de dados, já que a precisão dos cálculos de valor p não é extremamente importante."
      ]
    },
    {
      "cell_type": "markdown",
      "metadata": {
        "colab_type": "text",
        "id": "vg0pStthpGt1"
      },
      "source": [
        "### 2.4. Realizando um teste bicaudal"
      ]
    },
    {
      "cell_type": "markdown",
      "metadata": {
        "colab_type": "text",
        "id": "xt8RS67hoI37"
      },
      "source": [
        "Teste de hipótese bicaudal:\n",
        "\n",
        "> Rejeitar $H_0$ se o valor $p\\leq\\alpha$\n",
        "\n"
      ]
    },
    {
      "cell_type": "markdown",
      "metadata": {
        "colab_type": "text",
        "id": "1uts7KvAqOQr"
      },
      "source": [
        "*Problema:*\n",
        "\n",
        "---\n",
        "Uma fábrica está produzindo um novo produto (leite vegetal). Este produto deve ser embalado por máquina, em embalagens de 1000ml. Como todo o processo é automatizado, a empresa necessita verificar se as máquinas estão armazenando exatamente o total de líquido em cada embalagem (um pouco a menos, a empresa pode ter problemas fiscais e com consumidores mais atentos; um pouco a mais, haverá desperdício)."
      ]
    },
    {
      "cell_type": "markdown",
      "metadata": {
        "colab_type": "text",
        "id": "uRdIcYaarMxJ"
      },
      "source": [
        "*   $H_0$: A média do leite armazenado nas embalagens é $\\mu = 1000$\n",
        "*   $H_1$: A média do leite armazenado nas embalagens é $u\\neq1000$"
      ]
    },
    {
      "cell_type": "markdown",
      "metadata": {
        "colab_type": "text",
        "id": "r6odpbQjn1vr"
      },
      "source": [
        "Amostra:"
      ]
    },
    {
      "cell_type": "code",
      "metadata": {
        "colab_type": "code",
        "id": "MCZLxUY1q4kb",
        "colab": {}
      },
      "source": [
        "amostra = [991,1010,993,998,997,998,1003,1000,998,996,\n",
        "           1000,1005,1009,991,1002,1000,1009,999,997,\n",
        "           995,993,993,1002,995,993,1005,1003,991,1006,\n",
        "           1008,993,1006,1000,1008,1007,990,999,1004,1002,\n",
        "           1006,1005,1003,990,1007,1001,1002,997,996,996,992]"
      ],
      "execution_count": 0,
      "outputs": []
    },
    {
      "cell_type": "code",
      "metadata": {
        "id": "RXdapXZuTU5E",
        "colab_type": "code",
        "colab": {}
      },
      "source": [
        "amostra"
      ],
      "execution_count": 0,
      "outputs": []
    },
    {
      "cell_type": "code",
      "metadata": {
        "colab_type": "code",
        "id": "QLTDn8j4sLbn",
        "colab": {}
      },
      "source": [
        "amostra = pd.DataFrame(amostra, columns=['Amostra'])\n",
        "amostra.head()"
      ],
      "execution_count": 0,
      "outputs": []
    },
    {
      "cell_type": "code",
      "metadata": {
        "id": "u_crVPHwTkZB",
        "colab_type": "code",
        "colab": {
          "base_uri": "https://localhost:8080/",
          "height": 69
        },
        "outputId": "17728d21-9782-4f5b-a3c8-c96b16ad5423"
      },
      "source": [
        "amostra.min(), amostra.max()"
      ],
      "execution_count": 50,
      "outputs": [
        {
          "output_type": "execute_result",
          "data": {
            "text/plain": [
              "(Amostra    990\n",
              " dtype: int64, Amostra    1010\n",
              " dtype: int64)"
            ]
          },
          "metadata": {
            "tags": []
          },
          "execution_count": 50
        }
      ]
    },
    {
      "cell_type": "code",
      "metadata": {
        "colab_type": "code",
        "id": "FAm6J7oLuBDR",
        "outputId": "5369bcf9-9122-41eb-e258-d06779a2c499",
        "colab": {
          "base_uri": "https://localhost:8080/",
          "height": 35
        }
      },
      "source": [
        "n = amostra.shape[0]\n",
        "n"
      ],
      "execution_count": 45,
      "outputs": [
        {
          "output_type": "execute_result",
          "data": {
            "text/plain": [
              "50"
            ]
          },
          "metadata": {
            "tags": []
          },
          "execution_count": 45
        }
      ]
    },
    {
      "cell_type": "markdown",
      "metadata": {
        "colab_type": "text",
        "id": "h_6qdeRhtt1X"
      },
      "source": [
        "Vamos testar para um nível de significância de 5% (i.e., o nível de confiança que teremos é de 95%)."
      ]
    },
    {
      "cell_type": "code",
      "metadata": {
        "colab_type": "code",
        "id": "ZvT7vAeprPrJ",
        "colab": {}
      },
      "source": [
        "media = 1000\n",
        "significancia = 0.05\n",
        "confianca = 1 - significancia"
      ],
      "execution_count": 0,
      "outputs": []
    },
    {
      "cell_type": "code",
      "metadata": {
        "colab_type": "code",
        "id": "o2dzLikMq6U1",
        "colab": {
          "base_uri": "https://localhost:8080/",
          "height": 35
        },
        "outputId": "54ce7400-65f2-415a-d298-382ae12a15f1"
      },
      "source": [
        "media_amostra = amostra.mean()[0]\n",
        "media_amostra"
      ],
      "execution_count": 48,
      "outputs": [
        {
          "output_type": "execute_result",
          "data": {
            "text/plain": [
              "999.68"
            ]
          },
          "metadata": {
            "tags": []
          },
          "execution_count": 48
        }
      ]
    },
    {
      "cell_type": "code",
      "metadata": {
        "colab_type": "code",
        "id": "DK8XwuqMrmg_",
        "colab": {
          "base_uri": "https://localhost:8080/",
          "height": 35
        },
        "outputId": "273ecf5f-2766-463c-afc0-8452a242f64e"
      },
      "source": [
        "desvio_padrao_amostra = amostra.std()[0]\n",
        "desvio_padrao_amostra"
      ],
      "execution_count": 49,
      "outputs": [
        {
          "output_type": "execute_result",
          "data": {
            "text/plain": [
              "5.7443494862698055"
            ]
          },
          "metadata": {
            "tags": []
          },
          "execution_count": 49
        }
      ]
    },
    {
      "cell_type": "markdown",
      "metadata": {
        "colab_type": "text",
        "id": "tPj3YZh8uqV5"
      },
      "source": [
        "Como nossa amostra é $n\\geq30$, embora não saibamos qual o desvio padrão da população: "
      ]
    },
    {
      "cell_type": "code",
      "metadata": {
        "colab_type": "code",
        "id": "WfwBzCSPv-9s",
        "colab": {}
      },
      "source": [
        "from statsmodels.stats.weightstats import ztest"
      ],
      "execution_count": 0,
      "outputs": []
    },
    {
      "cell_type": "markdown",
      "metadata": {
        "colab_type": "text",
        "id": "zWM3y78Zumlv"
      },
      "source": [
        "https://www.statsmodels.org/stable/generated/statsmodels.stats.weightstats.ztest.html"
      ]
    },
    {
      "cell_type": "code",
      "metadata": {
        "colab_type": "code",
        "id": "5_RNprlBvpmc",
        "colab": {
          "base_uri": "https://localhost:8080/",
          "height": 35
        },
        "outputId": "6624c6ef-2ad9-4428-f55a-357bad757b9f"
      },
      "source": [
        "ztest(x1 = amostra, value = media)"
      ],
      "execution_count": 52,
      "outputs": [
        {
          "output_type": "execute_result",
          "data": {
            "text/plain": [
              "(array([-0.39390739]), array([0.69364942]))"
            ]
          },
          "metadata": {
            "tags": []
          },
          "execution_count": 52
        }
      ]
    },
    {
      "cell_type": "code",
      "metadata": {
        "colab_type": "code",
        "id": "N27lgBM-vTCP",
        "colab": {
          "base_uri": "https://localhost:8080/",
          "height": 35
        },
        "outputId": "780a96ba-8876-488e-b366-fdb4a553bad0"
      },
      "source": [
        "estatistica_teste, p_valor = ztest(x1 = amostra, value = media)\n",
        "p_valor"
      ],
      "execution_count": 54,
      "outputs": [
        {
          "output_type": "execute_result",
          "data": {
            "text/plain": [
              "array([0.69364942])"
            ]
          },
          "metadata": {
            "tags": []
          },
          "execution_count": 54
        }
      ]
    },
    {
      "cell_type": "code",
      "metadata": {
        "colab_type": "code",
        "id": "79AiKm7kvZpB",
        "colab": {
          "base_uri": "https://localhost:8080/",
          "height": 35
        },
        "outputId": "2039f87a-e06a-4807-b80d-752642a33781"
      },
      "source": [
        "p_valor <= significancia"
      ],
      "execution_count": 55,
      "outputs": [
        {
          "output_type": "execute_result",
          "data": {
            "text/plain": [
              "array([False])"
            ]
          },
          "metadata": {
            "tags": []
          },
          "execution_count": 55
        }
      ]
    },
    {
      "cell_type": "code",
      "metadata": {
        "colab_type": "code",
        "id": "ypLjAlSswAyq",
        "colab": {}
      },
      "source": [
        "from statsmodels.stats.weightstats import DescrStatsW"
      ],
      "execution_count": 0,
      "outputs": []
    },
    {
      "cell_type": "markdown",
      "metadata": {
        "colab_type": "text",
        "id": "mo5L1mrvvqAc"
      },
      "source": [
        "https://www.statsmodels.org/stable/generated/statsmodels.stats.weightstats.DescrStatsW.html"
      ]
    },
    {
      "cell_type": "code",
      "metadata": {
        "colab_type": "code",
        "id": "X5ccIrzVwFVK",
        "colab": {
          "base_uri": "https://localhost:8080/",
          "height": 35
        },
        "outputId": "0cdd2672-3c75-4499-a3b6-d93024c8ec43"
      },
      "source": [
        "test = DescrStatsW(amostra)\n",
        "test.ztest_mean(value = media)"
      ],
      "execution_count": 57,
      "outputs": [
        {
          "output_type": "execute_result",
          "data": {
            "text/plain": [
              "(array([-0.39390739]), array([0.69364942]))"
            ]
          },
          "metadata": {
            "tags": []
          },
          "execution_count": 57
        }
      ]
    },
    {
      "cell_type": "markdown",
      "metadata": {
        "colab_type": "text",
        "id": "POyCALQ8xqFr"
      },
      "source": [
        "## 3. Um pouquinho sobre reamostragem"
      ]
    },
    {
      "cell_type": "markdown",
      "metadata": {
        "colab_type": "text",
        "id": "uRdB5HMPwHXK"
      },
      "source": [
        "Reamostragem significa amostrar repetitivamente os valores a partir dos dados observados, com um objetivo geral de avaliar a variabilidade aleatória em uma estatística, ou para avaliar e aumentar a precisão de alguns modelos de aprendizado de máquina."
      ]
    },
    {
      "cell_type": "markdown",
      "metadata": {
        "colab_type": "text",
        "id": "EYVAaCrSwP4D"
      },
      "source": [
        "### 3.1. Teste de Permutação"
      ]
    },
    {
      "cell_type": "markdown",
      "metadata": {
        "colab_type": "text",
        "id": "9ki8geMfwU_D"
      },
      "source": [
        "*   *Permutar:* mudar a ordem de um conjunto de valores;\n",
        "*   Envolve duas ou mais amostras;\n",
        "*   Basicamente, combinamos os resultados dos grupos de um teste e refazemos os testes a fim de verificar se tiramos as mesmas conclusões todas as vezes\n",
        "\n",
        "Podemos chamá-lo também de teste de permutação aleatória ou de teste de randomização."
      ]
    },
    {
      "cell_type": "markdown",
      "metadata": {
        "colab_type": "text",
        "id": "56s1L4u7wy4R"
      },
      "source": [
        "**PASSOS DE UM TESTE DE PERMUTAÇÃO**"
      ]
    },
    {
      "cell_type": "markdown",
      "metadata": {
        "colab_type": "text",
        "id": "_igjO2xcw2tY"
      },
      "source": [
        "1.   Combinar os resultados dos diferentes grupos em um único conjunto de dados;\n",
        "2.   Embaralhar os dados combinados, e depois extrair aleatoriamente (sem reposição) uma amostra de tamanho igual a um grupo A, depois igual a um grupo B, C, D e assim por diante;\n",
        "3. Calcular novamente a estatística ou estimativa para as reamostras e registre (ITERAÇÃO DE PERMUTAÇÃO);\n",
        "4. Repitir os passos 1-3 R vezes para produzir uma distribuição da estatística de teste;\n",
        "5. Por fim, compare os resultados originais com os resultados das amostras permutadas.\n",
        "\n",
        "> **Se a diferença observada estiver fora da maior parte da distribuição de permutação, então podemos concluir que o resultado não foi obra do acaso. Ou seja, temos um resultado estatisticamente significante.**\n",
        "\n",
        "\n",
        "\n"
      ]
    },
    {
      "cell_type": "markdown",
      "metadata": {
        "colab_type": "text",
        "id": "v30Lqsh2yQ_K"
      },
      "source": [
        "### 3.2. Teste de permutação x Bootstrap"
      ]
    },
    {
      "cell_type": "markdown",
      "metadata": {
        "colab_type": "text",
        "id": "sJEkmaFSyYz-"
      },
      "source": [
        "Em um teste de permutação bootstrap, as extrações descritas no passo 2 anteriormente são feitas com reposição.\n",
        "\n",
        "*E o que isso tem de bom?*\n",
        "\n",
        "Porque inserimos na modelagem do experimento o elemento aleatório de seleção de indivíduos, não somente o elemento aleatório do tratamento.\n"
      ]
    }
  ]
}